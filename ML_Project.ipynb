{
  "cells": [
    {
      "cell_type": "markdown",
      "metadata": {
        "id": "view-in-github",
        "colab_type": "text"
      },
      "source": [
        "<a href=\"https://colab.research.google.com/github/MisatoYasuda/Coursera/blob/main/ML_Project.ipynb\" target=\"_parent\"><img src=\"https://colab.research.google.com/assets/colab-badge.svg\" alt=\"Open In Colab\"/></a>"
      ]
    },
    {
      "cell_type": "markdown",
      "source": [
        "# Submission\n",
        "\n",
        "update the predition and then run this line to get the newest output"
      ],
      "metadata": {
        "id": "S_Ch-yy8CPk8"
      }
    },
    {
      "cell_type": "code",
      "source": [
        "prediction = pd.concat([test.Id, pd.DataFrame(br.predict(X_test)**4, columns=['cnt'])], axis=1)\n",
        "prediction.to_csv('/content/drive/MyDrive/ML_Project/sub.csv', index=False)"
      ],
      "metadata": {
        "id": "rnZJistACPKV"
      },
      "execution_count": null,
      "outputs": []
    },
    {
      "cell_type": "markdown",
      "source": [
        "\n",
        "## Submissions and Public Scores\n",
        "\n",
        "1.   \"KNeighborsRegressor(n_neighbors=5, metric='l1')\", **73.51502**\n",
        "2.   \"BaggingRegressor(DecisionTreeRegressor(), n_estimators=150, max_samples=0.6)\", **52.22800**\n",
        "3.   \"BaggingRegressor(DecisionTreeRegressor(), n_estimators=500, oob_score=True, random_state=1)\", **51.44858**\n",
        "4.   the same model as 3 with an extra feature: 'day of the month': **52.52376**\n",
        "5.  changed dteday to milliseconds/1e11 \"RandomForestRegressor(n_estimators=2000, max_features=0.6, oob_score=True, random_state=1)\" **49.71162**\n",
        "6.  transform cnt with power 0.25 for prediction the same model as 3, **51.28888**\n",
        "7.  Neural Networks (?) **58.55916**"
      ],
      "metadata": {
        "id": "kpR3CPB-UCZV"
      }
    },
    {
      "cell_type": "markdown",
      "metadata": {
        "id": "-jIYaG66SNza"
      },
      "source": [
        "# Introduction"
      ]
    },
    {
      "cell_type": "markdown",
      "metadata": {
        "id": "I_tQibeWSoay"
      },
      "source": [
        "\n",
        "\n",
        "*   Background\n",
        "*   Identification of the prediction problem\n",
        "*   Overall info about the dataset\n",
        "*   Models used\n",
        "*  Result\n",
        "\n",
        "Everything in a nutshell.\n",
        "\n"
      ]
    },
    {
      "cell_type": "markdown",
      "source": [
        "# Import data"
      ],
      "metadata": {
        "id": "UcJmP_NiTYxm"
      }
    },
    {
      "cell_type": "code",
      "source": [
        "import numpy as np\n",
        "import pandas as pd\n",
        "from sklearn.pipeline import Pipeline\n",
        "from sklearn.preprocessing import StandardScaler\n",
        "from sklearn.model_selection import train_test_split\n",
        "from sklearn.metrics import mean_absolute_error\n",
        "import matplotlib.pyplot as plt\n",
        "from sklearn.model_selection import GridSearchCV"
      ],
      "metadata": {
        "id": "BytxTfTSrzy8"
      },
      "execution_count": 1,
      "outputs": []
    },
    {
      "cell_type": "code",
      "source": [
        "from google.colab import drive\n",
        "drive.mount('/content/drive')\n",
        "# List files in a specific directory\n",
        "path_train = \"/content/drive/MyDrive/ML_Project/train.csv\"\n",
        "path_test = \"/content/drive/MyDrive/ML_Project/test.csv\""
      ],
      "metadata": {
        "colab": {
          "base_uri": "https://localhost:8080/"
        },
        "id": "JS7RbAl-Tc-o",
        "outputId": "d898d207-e95f-4dd5-ba48-721d6213cf54"
      },
      "execution_count": 2,
      "outputs": [
        {
          "output_type": "stream",
          "name": "stdout",
          "text": [
            "Mounted at /content/drive\n"
          ]
        }
      ]
    },
    {
      "cell_type": "code",
      "execution_count": 3,
      "metadata": {
        "id": "U-NSHvh0HISn"
      },
      "outputs": [],
      "source": [
        "train = pd.read_csv(path_train, parse_dates=['dteday'])"
      ]
    },
    {
      "cell_type": "code",
      "source": [
        "test = pd.read_csv(path_test, parse_dates=['dteday'])"
      ],
      "metadata": {
        "id": "H3t9sD05XbR2"
      },
      "execution_count": 4,
      "outputs": []
    },
    {
      "cell_type": "markdown",
      "metadata": {
        "id": "ReuMzePFSXut"
      },
      "source": [
        "# Exploratory Data Analysis"
      ]
    },
    {
      "cell_type": "markdown",
      "metadata": {
        "id": "jMznY002UIXv"
      },
      "source": [
        "## General view of the data"
      ]
    },
    {
      "cell_type": "code",
      "execution_count": null,
      "metadata": {
        "colab": {
          "base_uri": "https://localhost:8080/",
          "height": 204
        },
        "id": "nXZhfw_SQ6WD",
        "outputId": "cf3ae028-4aa4-4980-af6c-361bbddba789"
      },
      "outputs": [
        {
          "output_type": "execute_result",
          "data": {
            "text/plain": [
              "   Id     dteday  season      yr     mnth   hr holiday   weekday workingday  \\\n",
              "0   1 2011-01-01  Winter  2011.0  January  0.0      No  Saturday         No   \n",
              "1   2 2011-01-01  Winter  2011.0  January  1.0      No  Saturday         No   \n",
              "2   3 2011-01-01  Winter  2011.0  January  2.0      No  Saturday         No   \n",
              "3   4 2011-01-01  Winter  2011.0  January  3.0      No  Saturday         No   \n",
              "4   5 2011-01-01  Winter  2011.0  January  4.0      No  Saturday         No   \n",
              "\n",
              "                                        weathersit  temp   atemp   hum  \\\n",
              "0  Clear, Few clouds, Partly cloudy, Partly cloudy  0.24  0.2879   NaN   \n",
              "1  Clear, Few clouds, Partly cloudy, Partly cloudy  0.22  0.2727  0.80   \n",
              "2  Clear, Few clouds, Partly cloudy, Partly cloudy  0.22  0.2727  0.80   \n",
              "3  Clear, Few clouds, Partly cloudy, Partly cloudy  0.24  0.2879  0.75   \n",
              "4  Clear, Few clouds, Partly cloudy, Partly cloudy  0.24  0.2879  0.75   \n",
              "\n",
              "   windspeed  cnt  \n",
              "0        0.0   16  \n",
              "1        0.0   40  \n",
              "2        0.0   32  \n",
              "3        0.0   13  \n",
              "4        0.0    1  "
            ],
            "text/html": [
              "\n",
              "  <div id=\"df-2c4cd4e5-1afc-4a7c-88a7-6ec00e410a30\" class=\"colab-df-container\">\n",
              "    <div>\n",
              "<style scoped>\n",
              "    .dataframe tbody tr th:only-of-type {\n",
              "        vertical-align: middle;\n",
              "    }\n",
              "\n",
              "    .dataframe tbody tr th {\n",
              "        vertical-align: top;\n",
              "    }\n",
              "\n",
              "    .dataframe thead th {\n",
              "        text-align: right;\n",
              "    }\n",
              "</style>\n",
              "<table border=\"1\" class=\"dataframe\">\n",
              "  <thead>\n",
              "    <tr style=\"text-align: right;\">\n",
              "      <th></th>\n",
              "      <th>Id</th>\n",
              "      <th>dteday</th>\n",
              "      <th>season</th>\n",
              "      <th>yr</th>\n",
              "      <th>mnth</th>\n",
              "      <th>hr</th>\n",
              "      <th>holiday</th>\n",
              "      <th>weekday</th>\n",
              "      <th>workingday</th>\n",
              "      <th>weathersit</th>\n",
              "      <th>temp</th>\n",
              "      <th>atemp</th>\n",
              "      <th>hum</th>\n",
              "      <th>windspeed</th>\n",
              "      <th>cnt</th>\n",
              "    </tr>\n",
              "  </thead>\n",
              "  <tbody>\n",
              "    <tr>\n",
              "      <th>0</th>\n",
              "      <td>1</td>\n",
              "      <td>2011-01-01</td>\n",
              "      <td>Winter</td>\n",
              "      <td>2011.0</td>\n",
              "      <td>January</td>\n",
              "      <td>0.0</td>\n",
              "      <td>No</td>\n",
              "      <td>Saturday</td>\n",
              "      <td>No</td>\n",
              "      <td>Clear, Few clouds, Partly cloudy, Partly cloudy</td>\n",
              "      <td>0.24</td>\n",
              "      <td>0.2879</td>\n",
              "      <td>NaN</td>\n",
              "      <td>0.0</td>\n",
              "      <td>16</td>\n",
              "    </tr>\n",
              "    <tr>\n",
              "      <th>1</th>\n",
              "      <td>2</td>\n",
              "      <td>2011-01-01</td>\n",
              "      <td>Winter</td>\n",
              "      <td>2011.0</td>\n",
              "      <td>January</td>\n",
              "      <td>1.0</td>\n",
              "      <td>No</td>\n",
              "      <td>Saturday</td>\n",
              "      <td>No</td>\n",
              "      <td>Clear, Few clouds, Partly cloudy, Partly cloudy</td>\n",
              "      <td>0.22</td>\n",
              "      <td>0.2727</td>\n",
              "      <td>0.80</td>\n",
              "      <td>0.0</td>\n",
              "      <td>40</td>\n",
              "    </tr>\n",
              "    <tr>\n",
              "      <th>2</th>\n",
              "      <td>3</td>\n",
              "      <td>2011-01-01</td>\n",
              "      <td>Winter</td>\n",
              "      <td>2011.0</td>\n",
              "      <td>January</td>\n",
              "      <td>2.0</td>\n",
              "      <td>No</td>\n",
              "      <td>Saturday</td>\n",
              "      <td>No</td>\n",
              "      <td>Clear, Few clouds, Partly cloudy, Partly cloudy</td>\n",
              "      <td>0.22</td>\n",
              "      <td>0.2727</td>\n",
              "      <td>0.80</td>\n",
              "      <td>0.0</td>\n",
              "      <td>32</td>\n",
              "    </tr>\n",
              "    <tr>\n",
              "      <th>3</th>\n",
              "      <td>4</td>\n",
              "      <td>2011-01-01</td>\n",
              "      <td>Winter</td>\n",
              "      <td>2011.0</td>\n",
              "      <td>January</td>\n",
              "      <td>3.0</td>\n",
              "      <td>No</td>\n",
              "      <td>Saturday</td>\n",
              "      <td>No</td>\n",
              "      <td>Clear, Few clouds, Partly cloudy, Partly cloudy</td>\n",
              "      <td>0.24</td>\n",
              "      <td>0.2879</td>\n",
              "      <td>0.75</td>\n",
              "      <td>0.0</td>\n",
              "      <td>13</td>\n",
              "    </tr>\n",
              "    <tr>\n",
              "      <th>4</th>\n",
              "      <td>5</td>\n",
              "      <td>2011-01-01</td>\n",
              "      <td>Winter</td>\n",
              "      <td>2011.0</td>\n",
              "      <td>January</td>\n",
              "      <td>4.0</td>\n",
              "      <td>No</td>\n",
              "      <td>Saturday</td>\n",
              "      <td>No</td>\n",
              "      <td>Clear, Few clouds, Partly cloudy, Partly cloudy</td>\n",
              "      <td>0.24</td>\n",
              "      <td>0.2879</td>\n",
              "      <td>0.75</td>\n",
              "      <td>0.0</td>\n",
              "      <td>1</td>\n",
              "    </tr>\n",
              "  </tbody>\n",
              "</table>\n",
              "</div>\n",
              "    <div class=\"colab-df-buttons\">\n",
              "\n",
              "  <div class=\"colab-df-container\">\n",
              "    <button class=\"colab-df-convert\" onclick=\"convertToInteractive('df-2c4cd4e5-1afc-4a7c-88a7-6ec00e410a30')\"\n",
              "            title=\"Convert this dataframe to an interactive table.\"\n",
              "            style=\"display:none;\">\n",
              "\n",
              "  <svg xmlns=\"http://www.w3.org/2000/svg\" height=\"24px\" viewBox=\"0 -960 960 960\">\n",
              "    <path d=\"M120-120v-720h720v720H120Zm60-500h600v-160H180v160Zm220 220h160v-160H400v160Zm0 220h160v-160H400v160ZM180-400h160v-160H180v160Zm440 0h160v-160H620v160ZM180-180h160v-160H180v160Zm440 0h160v-160H620v160Z\"/>\n",
              "  </svg>\n",
              "    </button>\n",
              "\n",
              "  <style>\n",
              "    .colab-df-container {\n",
              "      display:flex;\n",
              "      gap: 12px;\n",
              "    }\n",
              "\n",
              "    .colab-df-convert {\n",
              "      background-color: #E8F0FE;\n",
              "      border: none;\n",
              "      border-radius: 50%;\n",
              "      cursor: pointer;\n",
              "      display: none;\n",
              "      fill: #1967D2;\n",
              "      height: 32px;\n",
              "      padding: 0 0 0 0;\n",
              "      width: 32px;\n",
              "    }\n",
              "\n",
              "    .colab-df-convert:hover {\n",
              "      background-color: #E2EBFA;\n",
              "      box-shadow: 0px 1px 2px rgba(60, 64, 67, 0.3), 0px 1px 3px 1px rgba(60, 64, 67, 0.15);\n",
              "      fill: #174EA6;\n",
              "    }\n",
              "\n",
              "    .colab-df-buttons div {\n",
              "      margin-bottom: 4px;\n",
              "    }\n",
              "\n",
              "    [theme=dark] .colab-df-convert {\n",
              "      background-color: #3B4455;\n",
              "      fill: #D2E3FC;\n",
              "    }\n",
              "\n",
              "    [theme=dark] .colab-df-convert:hover {\n",
              "      background-color: #434B5C;\n",
              "      box-shadow: 0px 1px 3px 1px rgba(0, 0, 0, 0.15);\n",
              "      filter: drop-shadow(0px 1px 2px rgba(0, 0, 0, 0.3));\n",
              "      fill: #FFFFFF;\n",
              "    }\n",
              "  </style>\n",
              "\n",
              "    <script>\n",
              "      const buttonEl =\n",
              "        document.querySelector('#df-2c4cd4e5-1afc-4a7c-88a7-6ec00e410a30 button.colab-df-convert');\n",
              "      buttonEl.style.display =\n",
              "        google.colab.kernel.accessAllowed ? 'block' : 'none';\n",
              "\n",
              "      async function convertToInteractive(key) {\n",
              "        const element = document.querySelector('#df-2c4cd4e5-1afc-4a7c-88a7-6ec00e410a30');\n",
              "        const dataTable =\n",
              "          await google.colab.kernel.invokeFunction('convertToInteractive',\n",
              "                                                    [key], {});\n",
              "        if (!dataTable) return;\n",
              "\n",
              "        const docLinkHtml = 'Like what you see? Visit the ' +\n",
              "          '<a target=\"_blank\" href=https://colab.research.google.com/notebooks/data_table.ipynb>data table notebook</a>'\n",
              "          + ' to learn more about interactive tables.';\n",
              "        element.innerHTML = '';\n",
              "        dataTable['output_type'] = 'display_data';\n",
              "        await google.colab.output.renderOutput(dataTable, element);\n",
              "        const docLink = document.createElement('div');\n",
              "        docLink.innerHTML = docLinkHtml;\n",
              "        element.appendChild(docLink);\n",
              "      }\n",
              "    </script>\n",
              "  </div>\n",
              "\n",
              "\n",
              "<div id=\"df-8d8973c6-2470-4e33-b0f0-e383ded98a6f\">\n",
              "  <button class=\"colab-df-quickchart\" onclick=\"quickchart('df-8d8973c6-2470-4e33-b0f0-e383ded98a6f')\"\n",
              "            title=\"Suggest charts\"\n",
              "            style=\"display:none;\">\n",
              "\n",
              "<svg xmlns=\"http://www.w3.org/2000/svg\" height=\"24px\"viewBox=\"0 0 24 24\"\n",
              "     width=\"24px\">\n",
              "    <g>\n",
              "        <path d=\"M19 3H5c-1.1 0-2 .9-2 2v14c0 1.1.9 2 2 2h14c1.1 0 2-.9 2-2V5c0-1.1-.9-2-2-2zM9 17H7v-7h2v7zm4 0h-2V7h2v10zm4 0h-2v-4h2v4z\"/>\n",
              "    </g>\n",
              "</svg>\n",
              "  </button>\n",
              "\n",
              "<style>\n",
              "  .colab-df-quickchart {\n",
              "      --bg-color: #E8F0FE;\n",
              "      --fill-color: #1967D2;\n",
              "      --hover-bg-color: #E2EBFA;\n",
              "      --hover-fill-color: #174EA6;\n",
              "      --disabled-fill-color: #AAA;\n",
              "      --disabled-bg-color: #DDD;\n",
              "  }\n",
              "\n",
              "  [theme=dark] .colab-df-quickchart {\n",
              "      --bg-color: #3B4455;\n",
              "      --fill-color: #D2E3FC;\n",
              "      --hover-bg-color: #434B5C;\n",
              "      --hover-fill-color: #FFFFFF;\n",
              "      --disabled-bg-color: #3B4455;\n",
              "      --disabled-fill-color: #666;\n",
              "  }\n",
              "\n",
              "  .colab-df-quickchart {\n",
              "    background-color: var(--bg-color);\n",
              "    border: none;\n",
              "    border-radius: 50%;\n",
              "    cursor: pointer;\n",
              "    display: none;\n",
              "    fill: var(--fill-color);\n",
              "    height: 32px;\n",
              "    padding: 0;\n",
              "    width: 32px;\n",
              "  }\n",
              "\n",
              "  .colab-df-quickchart:hover {\n",
              "    background-color: var(--hover-bg-color);\n",
              "    box-shadow: 0 1px 2px rgba(60, 64, 67, 0.3), 0 1px 3px 1px rgba(60, 64, 67, 0.15);\n",
              "    fill: var(--button-hover-fill-color);\n",
              "  }\n",
              "\n",
              "  .colab-df-quickchart-complete:disabled,\n",
              "  .colab-df-quickchart-complete:disabled:hover {\n",
              "    background-color: var(--disabled-bg-color);\n",
              "    fill: var(--disabled-fill-color);\n",
              "    box-shadow: none;\n",
              "  }\n",
              "\n",
              "  .colab-df-spinner {\n",
              "    border: 2px solid var(--fill-color);\n",
              "    border-color: transparent;\n",
              "    border-bottom-color: var(--fill-color);\n",
              "    animation:\n",
              "      spin 1s steps(1) infinite;\n",
              "  }\n",
              "\n",
              "  @keyframes spin {\n",
              "    0% {\n",
              "      border-color: transparent;\n",
              "      border-bottom-color: var(--fill-color);\n",
              "      border-left-color: var(--fill-color);\n",
              "    }\n",
              "    20% {\n",
              "      border-color: transparent;\n",
              "      border-left-color: var(--fill-color);\n",
              "      border-top-color: var(--fill-color);\n",
              "    }\n",
              "    30% {\n",
              "      border-color: transparent;\n",
              "      border-left-color: var(--fill-color);\n",
              "      border-top-color: var(--fill-color);\n",
              "      border-right-color: var(--fill-color);\n",
              "    }\n",
              "    40% {\n",
              "      border-color: transparent;\n",
              "      border-right-color: var(--fill-color);\n",
              "      border-top-color: var(--fill-color);\n",
              "    }\n",
              "    60% {\n",
              "      border-color: transparent;\n",
              "      border-right-color: var(--fill-color);\n",
              "    }\n",
              "    80% {\n",
              "      border-color: transparent;\n",
              "      border-right-color: var(--fill-color);\n",
              "      border-bottom-color: var(--fill-color);\n",
              "    }\n",
              "    90% {\n",
              "      border-color: transparent;\n",
              "      border-bottom-color: var(--fill-color);\n",
              "    }\n",
              "  }\n",
              "</style>\n",
              "\n",
              "  <script>\n",
              "    async function quickchart(key) {\n",
              "      const quickchartButtonEl =\n",
              "        document.querySelector('#' + key + ' button');\n",
              "      quickchartButtonEl.disabled = true;  // To prevent multiple clicks.\n",
              "      quickchartButtonEl.classList.add('colab-df-spinner');\n",
              "      try {\n",
              "        const charts = await google.colab.kernel.invokeFunction(\n",
              "            'suggestCharts', [key], {});\n",
              "      } catch (error) {\n",
              "        console.error('Error during call to suggestCharts:', error);\n",
              "      }\n",
              "      quickchartButtonEl.classList.remove('colab-df-spinner');\n",
              "      quickchartButtonEl.classList.add('colab-df-quickchart-complete');\n",
              "    }\n",
              "    (() => {\n",
              "      let quickchartButtonEl =\n",
              "        document.querySelector('#df-8d8973c6-2470-4e33-b0f0-e383ded98a6f button');\n",
              "      quickchartButtonEl.style.display =\n",
              "        google.colab.kernel.accessAllowed ? 'block' : 'none';\n",
              "    })();\n",
              "  </script>\n",
              "</div>\n",
              "\n",
              "    </div>\n",
              "  </div>\n"
            ],
            "application/vnd.google.colaboratory.intrinsic+json": {
              "type": "dataframe",
              "variable_name": "train",
              "summary": "{\n  \"name\": \"train\",\n  \"rows\": 15211,\n  \"fields\": [\n    {\n      \"column\": \"Id\",\n      \"properties\": {\n        \"dtype\": \"number\",\n        \"std\": 4391,\n        \"min\": 1,\n        \"max\": 15211,\n        \"num_unique_values\": 15211,\n        \"samples\": [\n          1088,\n          10053,\n          8723\n        ],\n        \"semantic_type\": \"\",\n        \"description\": \"\"\n      }\n    },\n    {\n      \"column\": \"dteday\",\n      \"properties\": {\n        \"dtype\": \"date\",\n        \"min\": \"2011-01-01 00:00:00\",\n        \"max\": \"2012-09-30 00:00:00\",\n        \"num_unique_values\": 639,\n        \"samples\": [\n          \"2011-03-28 00:00:00\",\n          \"2011-12-20 00:00:00\",\n          \"2012-07-24 00:00:00\"\n        ],\n        \"semantic_type\": \"\",\n        \"description\": \"\"\n      }\n    },\n    {\n      \"column\": \"season\",\n      \"properties\": {\n        \"dtype\": \"category\",\n        \"num_unique_values\": 4,\n        \"samples\": [\n          \"Spring\",\n          \"Fall\",\n          \"Winter\"\n        ],\n        \"semantic_type\": \"\",\n        \"description\": \"\"\n      }\n    },\n    {\n      \"column\": \"yr\",\n      \"properties\": {\n        \"dtype\": \"number\",\n        \"std\": 0.4953420359612436,\n        \"min\": 2011.0,\n        \"max\": 2012.0,\n        \"num_unique_values\": 2,\n        \"samples\": [\n          2012.0,\n          2011.0\n        ],\n        \"semantic_type\": \"\",\n        \"description\": \"\"\n      }\n    },\n    {\n      \"column\": \"mnth\",\n      \"properties\": {\n        \"dtype\": \"category\",\n        \"num_unique_values\": 12,\n        \"samples\": [\n          \"November\",\n          \"October\"\n        ],\n        \"semantic_type\": \"\",\n        \"description\": \"\"\n      }\n    },\n    {\n      \"column\": \"hr\",\n      \"properties\": {\n        \"dtype\": \"number\",\n        \"std\": 6.913569291003845,\n        \"min\": 0.0,\n        \"max\": 23.0,\n        \"num_unique_values\": 24,\n        \"samples\": [\n          8.0,\n          16.0\n        ],\n        \"semantic_type\": \"\",\n        \"description\": \"\"\n      }\n    },\n    {\n      \"column\": \"holiday\",\n      \"properties\": {\n        \"dtype\": \"category\",\n        \"num_unique_values\": 2,\n        \"samples\": [\n          \"Yes\",\n          \"No\"\n        ],\n        \"semantic_type\": \"\",\n        \"description\": \"\"\n      }\n    },\n    {\n      \"column\": \"weekday\",\n      \"properties\": {\n        \"dtype\": \"category\",\n        \"num_unique_values\": 7,\n        \"samples\": [\n          \"Saturday\",\n          \"Sunday\"\n        ],\n        \"semantic_type\": \"\",\n        \"description\": \"\"\n      }\n    },\n    {\n      \"column\": \"workingday\",\n      \"properties\": {\n        \"dtype\": \"category\",\n        \"num_unique_values\": 2,\n        \"samples\": [\n          \"Yes\",\n          \"No\"\n        ],\n        \"semantic_type\": \"\",\n        \"description\": \"\"\n      }\n    },\n    {\n      \"column\": \"weathersit\",\n      \"properties\": {\n        \"dtype\": \"category\",\n        \"num_unique_values\": 4,\n        \"samples\": [\n          \"Mist + Cloudy, Mist + Broken clouds, Mist + Few clouds, Mist\",\n          \"Heavy Rain + Ice Pallets + Thunderstorm + Mist, Snow + Fog\"\n        ],\n        \"semantic_type\": \"\",\n        \"description\": \"\"\n      }\n    },\n    {\n      \"column\": \"temp\",\n      \"properties\": {\n        \"dtype\": \"number\",\n        \"std\": 0.19587863827735028,\n        \"min\": 0.02,\n        \"max\": 1.0,\n        \"num_unique_values\": 50,\n        \"samples\": [\n          0.16,\n          0.82\n        ],\n        \"semantic_type\": \"\",\n        \"description\": \"\"\n      }\n    },\n    {\n      \"column\": \"atemp\",\n      \"properties\": {\n        \"dtype\": \"number\",\n        \"std\": 0.17480669850189998,\n        \"min\": 0.0,\n        \"max\": 1.0,\n        \"num_unique_values\": 65,\n        \"samples\": [\n          0.7879,\n          0.9242\n        ],\n        \"semantic_type\": \"\",\n        \"description\": \"\"\n      }\n    },\n    {\n      \"column\": \"hum\",\n      \"properties\": {\n        \"dtype\": \"number\",\n        \"std\": 0.19581654405934934,\n        \"min\": 0.0,\n        \"max\": 1.0,\n        \"num_unique_values\": 89,\n        \"samples\": [\n          0.29,\n          0.61\n        ],\n        \"semantic_type\": \"\",\n        \"description\": \"\"\n      }\n    },\n    {\n      \"column\": \"windspeed\",\n      \"properties\": {\n        \"dtype\": \"number\",\n        \"std\": 0.12241835204977741,\n        \"min\": 0.0,\n        \"max\": 0.8507,\n        \"num_unique_values\": 30,\n        \"samples\": [\n          0.8507,\n          0.4925\n        ],\n        \"semantic_type\": \"\",\n        \"description\": \"\"\n      }\n    },\n    {\n      \"column\": \"cnt\",\n      \"properties\": {\n        \"dtype\": \"number\",\n        \"std\": 177,\n        \"min\": 1,\n        \"max\": 977,\n        \"num_unique_values\": 843,\n        \"samples\": [\n          540,\n          259\n        ],\n        \"semantic_type\": \"\",\n        \"description\": \"\"\n      }\n    }\n  ]\n}"
            }
          },
          "metadata": {},
          "execution_count": 40
        }
      ],
      "source": [
        "train.head()"
      ]
    },
    {
      "cell_type": "code",
      "execution_count": null,
      "metadata": {
        "colab": {
          "base_uri": "https://localhost:8080/"
        },
        "id": "d6Cm1FQIpVyg",
        "outputId": "4157b516-ef39-4ec4-c884-18115c1eee11"
      },
      "outputs": [
        {
          "output_type": "stream",
          "name": "stdout",
          "text": [
            "<class 'pandas.core.frame.DataFrame'>\n",
            "RangeIndex: 15211 entries, 0 to 15210\n",
            "Data columns (total 15 columns):\n",
            " #   Column      Non-Null Count  Dtype         \n",
            "---  ------      --------------  -----         \n",
            " 0   Id          15211 non-null  int64         \n",
            " 1   dteday      15180 non-null  datetime64[ns]\n",
            " 2   season      15166 non-null  object        \n",
            " 3   yr          15174 non-null  float64       \n",
            " 4   mnth        15175 non-null  object        \n",
            " 5   hr          15185 non-null  float64       \n",
            " 6   holiday     15179 non-null  object        \n",
            " 7   weekday     15171 non-null  object        \n",
            " 8   workingday  15181 non-null  object        \n",
            " 9   weathersit  15180 non-null  object        \n",
            " 10  temp        15027 non-null  float64       \n",
            " 11  atemp       15030 non-null  float64       \n",
            " 12  hum         15054 non-null  float64       \n",
            " 13  windspeed   15047 non-null  float64       \n",
            " 14  cnt         15211 non-null  int64         \n",
            "dtypes: datetime64[ns](1), float64(6), int64(2), object(6)\n",
            "memory usage: 1.7+ MB\n"
          ]
        }
      ],
      "source": [
        "train.info()"
      ]
    },
    {
      "cell_type": "code",
      "execution_count": null,
      "metadata": {
        "colab": {
          "base_uri": "https://localhost:8080/",
          "height": 80
        },
        "id": "KKfX5s9RpXuN",
        "outputId": "e8e83473-d517-4f20-af8d-c2ef4e0e033a"
      },
      "outputs": [
        {
          "output_type": "execute_result",
          "data": {
            "text/plain": [
              "   Id  dteday  season  yr  mnth  hr  holiday  weekday  workingday  weathersit  \\\n",
              "0   0      31      45  37    36  26       32       40          30          31   \n",
              "\n",
              "   temp  atemp  hum  windspeed  cnt  \n",
              "0   184    181  157        164    0  "
            ],
            "text/html": [
              "\n",
              "  <div id=\"df-75a26d5b-d948-4a7d-8671-47f93e3b25aa\" class=\"colab-df-container\">\n",
              "    <div>\n",
              "<style scoped>\n",
              "    .dataframe tbody tr th:only-of-type {\n",
              "        vertical-align: middle;\n",
              "    }\n",
              "\n",
              "    .dataframe tbody tr th {\n",
              "        vertical-align: top;\n",
              "    }\n",
              "\n",
              "    .dataframe thead th {\n",
              "        text-align: right;\n",
              "    }\n",
              "</style>\n",
              "<table border=\"1\" class=\"dataframe\">\n",
              "  <thead>\n",
              "    <tr style=\"text-align: right;\">\n",
              "      <th></th>\n",
              "      <th>Id</th>\n",
              "      <th>dteday</th>\n",
              "      <th>season</th>\n",
              "      <th>yr</th>\n",
              "      <th>mnth</th>\n",
              "      <th>hr</th>\n",
              "      <th>holiday</th>\n",
              "      <th>weekday</th>\n",
              "      <th>workingday</th>\n",
              "      <th>weathersit</th>\n",
              "      <th>temp</th>\n",
              "      <th>atemp</th>\n",
              "      <th>hum</th>\n",
              "      <th>windspeed</th>\n",
              "      <th>cnt</th>\n",
              "    </tr>\n",
              "  </thead>\n",
              "  <tbody>\n",
              "    <tr>\n",
              "      <th>0</th>\n",
              "      <td>0</td>\n",
              "      <td>31</td>\n",
              "      <td>45</td>\n",
              "      <td>37</td>\n",
              "      <td>36</td>\n",
              "      <td>26</td>\n",
              "      <td>32</td>\n",
              "      <td>40</td>\n",
              "      <td>30</td>\n",
              "      <td>31</td>\n",
              "      <td>184</td>\n",
              "      <td>181</td>\n",
              "      <td>157</td>\n",
              "      <td>164</td>\n",
              "      <td>0</td>\n",
              "    </tr>\n",
              "  </tbody>\n",
              "</table>\n",
              "</div>\n",
              "    <div class=\"colab-df-buttons\">\n",
              "\n",
              "  <div class=\"colab-df-container\">\n",
              "    <button class=\"colab-df-convert\" onclick=\"convertToInteractive('df-75a26d5b-d948-4a7d-8671-47f93e3b25aa')\"\n",
              "            title=\"Convert this dataframe to an interactive table.\"\n",
              "            style=\"display:none;\">\n",
              "\n",
              "  <svg xmlns=\"http://www.w3.org/2000/svg\" height=\"24px\" viewBox=\"0 -960 960 960\">\n",
              "    <path d=\"M120-120v-720h720v720H120Zm60-500h600v-160H180v160Zm220 220h160v-160H400v160Zm0 220h160v-160H400v160ZM180-400h160v-160H180v160Zm440 0h160v-160H620v160ZM180-180h160v-160H180v160Zm440 0h160v-160H620v160Z\"/>\n",
              "  </svg>\n",
              "    </button>\n",
              "\n",
              "  <style>\n",
              "    .colab-df-container {\n",
              "      display:flex;\n",
              "      gap: 12px;\n",
              "    }\n",
              "\n",
              "    .colab-df-convert {\n",
              "      background-color: #E8F0FE;\n",
              "      border: none;\n",
              "      border-radius: 50%;\n",
              "      cursor: pointer;\n",
              "      display: none;\n",
              "      fill: #1967D2;\n",
              "      height: 32px;\n",
              "      padding: 0 0 0 0;\n",
              "      width: 32px;\n",
              "    }\n",
              "\n",
              "    .colab-df-convert:hover {\n",
              "      background-color: #E2EBFA;\n",
              "      box-shadow: 0px 1px 2px rgba(60, 64, 67, 0.3), 0px 1px 3px 1px rgba(60, 64, 67, 0.15);\n",
              "      fill: #174EA6;\n",
              "    }\n",
              "\n",
              "    .colab-df-buttons div {\n",
              "      margin-bottom: 4px;\n",
              "    }\n",
              "\n",
              "    [theme=dark] .colab-df-convert {\n",
              "      background-color: #3B4455;\n",
              "      fill: #D2E3FC;\n",
              "    }\n",
              "\n",
              "    [theme=dark] .colab-df-convert:hover {\n",
              "      background-color: #434B5C;\n",
              "      box-shadow: 0px 1px 3px 1px rgba(0, 0, 0, 0.15);\n",
              "      filter: drop-shadow(0px 1px 2px rgba(0, 0, 0, 0.3));\n",
              "      fill: #FFFFFF;\n",
              "    }\n",
              "  </style>\n",
              "\n",
              "    <script>\n",
              "      const buttonEl =\n",
              "        document.querySelector('#df-75a26d5b-d948-4a7d-8671-47f93e3b25aa button.colab-df-convert');\n",
              "      buttonEl.style.display =\n",
              "        google.colab.kernel.accessAllowed ? 'block' : 'none';\n",
              "\n",
              "      async function convertToInteractive(key) {\n",
              "        const element = document.querySelector('#df-75a26d5b-d948-4a7d-8671-47f93e3b25aa');\n",
              "        const dataTable =\n",
              "          await google.colab.kernel.invokeFunction('convertToInteractive',\n",
              "                                                    [key], {});\n",
              "        if (!dataTable) return;\n",
              "\n",
              "        const docLinkHtml = 'Like what you see? Visit the ' +\n",
              "          '<a target=\"_blank\" href=https://colab.research.google.com/notebooks/data_table.ipynb>data table notebook</a>'\n",
              "          + ' to learn more about interactive tables.';\n",
              "        element.innerHTML = '';\n",
              "        dataTable['output_type'] = 'display_data';\n",
              "        await google.colab.output.renderOutput(dataTable, element);\n",
              "        const docLink = document.createElement('div');\n",
              "        docLink.innerHTML = docLinkHtml;\n",
              "        element.appendChild(docLink);\n",
              "      }\n",
              "    </script>\n",
              "  </div>\n",
              "\n",
              "\n",
              "    </div>\n",
              "  </div>\n"
            ],
            "application/vnd.google.colaboratory.intrinsic+json": {
              "type": "dataframe",
              "summary": "{\n  \"name\": \"pd\",\n  \"rows\": 1,\n  \"fields\": [\n    {\n      \"column\": \"Id\",\n      \"properties\": {\n        \"dtype\": \"number\",\n        \"std\": null,\n        \"min\": 0,\n        \"max\": 0,\n        \"num_unique_values\": 1,\n        \"samples\": [\n          0\n        ],\n        \"semantic_type\": \"\",\n        \"description\": \"\"\n      }\n    },\n    {\n      \"column\": \"dteday\",\n      \"properties\": {\n        \"dtype\": \"number\",\n        \"std\": null,\n        \"min\": 31,\n        \"max\": 31,\n        \"num_unique_values\": 1,\n        \"samples\": [\n          31\n        ],\n        \"semantic_type\": \"\",\n        \"description\": \"\"\n      }\n    },\n    {\n      \"column\": \"season\",\n      \"properties\": {\n        \"dtype\": \"number\",\n        \"std\": null,\n        \"min\": 45,\n        \"max\": 45,\n        \"num_unique_values\": 1,\n        \"samples\": [\n          45\n        ],\n        \"semantic_type\": \"\",\n        \"description\": \"\"\n      }\n    },\n    {\n      \"column\": \"yr\",\n      \"properties\": {\n        \"dtype\": \"number\",\n        \"std\": null,\n        \"min\": 37,\n        \"max\": 37,\n        \"num_unique_values\": 1,\n        \"samples\": [\n          37\n        ],\n        \"semantic_type\": \"\",\n        \"description\": \"\"\n      }\n    },\n    {\n      \"column\": \"mnth\",\n      \"properties\": {\n        \"dtype\": \"number\",\n        \"std\": null,\n        \"min\": 36,\n        \"max\": 36,\n        \"num_unique_values\": 1,\n        \"samples\": [\n          36\n        ],\n        \"semantic_type\": \"\",\n        \"description\": \"\"\n      }\n    },\n    {\n      \"column\": \"hr\",\n      \"properties\": {\n        \"dtype\": \"number\",\n        \"std\": null,\n        \"min\": 26,\n        \"max\": 26,\n        \"num_unique_values\": 1,\n        \"samples\": [\n          26\n        ],\n        \"semantic_type\": \"\",\n        \"description\": \"\"\n      }\n    },\n    {\n      \"column\": \"holiday\",\n      \"properties\": {\n        \"dtype\": \"number\",\n        \"std\": null,\n        \"min\": 32,\n        \"max\": 32,\n        \"num_unique_values\": 1,\n        \"samples\": [\n          32\n        ],\n        \"semantic_type\": \"\",\n        \"description\": \"\"\n      }\n    },\n    {\n      \"column\": \"weekday\",\n      \"properties\": {\n        \"dtype\": \"number\",\n        \"std\": null,\n        \"min\": 40,\n        \"max\": 40,\n        \"num_unique_values\": 1,\n        \"samples\": [\n          40\n        ],\n        \"semantic_type\": \"\",\n        \"description\": \"\"\n      }\n    },\n    {\n      \"column\": \"workingday\",\n      \"properties\": {\n        \"dtype\": \"number\",\n        \"std\": null,\n        \"min\": 30,\n        \"max\": 30,\n        \"num_unique_values\": 1,\n        \"samples\": [\n          30\n        ],\n        \"semantic_type\": \"\",\n        \"description\": \"\"\n      }\n    },\n    {\n      \"column\": \"weathersit\",\n      \"properties\": {\n        \"dtype\": \"number\",\n        \"std\": null,\n        \"min\": 31,\n        \"max\": 31,\n        \"num_unique_values\": 1,\n        \"samples\": [\n          31\n        ],\n        \"semantic_type\": \"\",\n        \"description\": \"\"\n      }\n    },\n    {\n      \"column\": \"temp\",\n      \"properties\": {\n        \"dtype\": \"number\",\n        \"std\": null,\n        \"min\": 184,\n        \"max\": 184,\n        \"num_unique_values\": 1,\n        \"samples\": [\n          184\n        ],\n        \"semantic_type\": \"\",\n        \"description\": \"\"\n      }\n    },\n    {\n      \"column\": \"atemp\",\n      \"properties\": {\n        \"dtype\": \"number\",\n        \"std\": null,\n        \"min\": 181,\n        \"max\": 181,\n        \"num_unique_values\": 1,\n        \"samples\": [\n          181\n        ],\n        \"semantic_type\": \"\",\n        \"description\": \"\"\n      }\n    },\n    {\n      \"column\": \"hum\",\n      \"properties\": {\n        \"dtype\": \"number\",\n        \"std\": null,\n        \"min\": 157,\n        \"max\": 157,\n        \"num_unique_values\": 1,\n        \"samples\": [\n          157\n        ],\n        \"semantic_type\": \"\",\n        \"description\": \"\"\n      }\n    },\n    {\n      \"column\": \"windspeed\",\n      \"properties\": {\n        \"dtype\": \"number\",\n        \"std\": null,\n        \"min\": 164,\n        \"max\": 164,\n        \"num_unique_values\": 1,\n        \"samples\": [\n          164\n        ],\n        \"semantic_type\": \"\",\n        \"description\": \"\"\n      }\n    },\n    {\n      \"column\": \"cnt\",\n      \"properties\": {\n        \"dtype\": \"number\",\n        \"std\": null,\n        \"min\": 0,\n        \"max\": 0,\n        \"num_unique_values\": 1,\n        \"samples\": [\n          0\n        ],\n        \"semantic_type\": \"\",\n        \"description\": \"\"\n      }\n    }\n  ]\n}"
            }
          },
          "metadata": {},
          "execution_count": 42
        }
      ],
      "source": [
        "pd.DataFrame([train.isna().sum().to_dict()])"
      ]
    },
    {
      "cell_type": "code",
      "source": [
        "train.isna().sum().sum() > len(train) * 0.05"
      ],
      "metadata": {
        "colab": {
          "base_uri": "https://localhost:8080/"
        },
        "id": "bs6kFtvvRLkH",
        "outputId": "b5352c33-2fd3-465c-fac0-bf4571b9f1c8"
      },
      "execution_count": null,
      "outputs": [
        {
          "output_type": "execute_result",
          "data": {
            "text/plain": [
              "True"
            ]
          },
          "metadata": {},
          "execution_count": 43
        }
      ]
    },
    {
      "cell_type": "markdown",
      "source": [
        "**The number of missing values exceeds 5% of the total number of samples. We cannot directly remove the NAs.**"
      ],
      "metadata": {
        "id": "5r2eZ5nKQSMq"
      }
    },
    {
      "cell_type": "markdown",
      "metadata": {
        "id": "QWWyefFbUM_b"
      },
      "source": [
        "## Data cleaning\n",
        "\n",
        "- remove/replace nulls\n",
        "- validate"
      ]
    },
    {
      "cell_type": "code",
      "execution_count": null,
      "metadata": {
        "colab": {
          "base_uri": "https://localhost:8080/",
          "height": 824
        },
        "id": "aU6P-rjWaDZk",
        "outputId": "f6f55862-999d-40bc-9c9d-8dfe73f094a8"
      },
      "outputs": [
        {
          "output_type": "execute_result",
          "data": {
            "text/plain": [
              "       Id  dteday  season   yr  mnth  holiday  weekday  workingday  \\\n",
              "hr                                                                   \n",
              "0.0   634     633     632  632   632      633      634         634   \n",
              "1.0   634     632     634  633   633      634      633         631   \n",
              "2.0   623     621     621  620   623      622      623         620   \n",
              "3.0   610     610     608  607   610      610      607         609   \n",
              "4.0   605     604     603  602   605      603      601         603   \n",
              "5.0   624     624     622  622   621      622      622         624   \n",
              "6.0   635     633     634  634   634      632      635         635   \n",
              "7.0   636     633     635  636   635      635      635         633   \n",
              "8.0   635     634     635  632   632      632      633         632   \n",
              "9.0   636     634     632  635   636      635      633         633   \n",
              "10.0  637     636     632  636   636      636      633         637   \n",
              "11.0  635     635     631  635   633      633      634         634   \n",
              "12.0  638     636     636  636   637      637      637         637   \n",
              "13.0  638     636     636  637   636      638      638         637   \n",
              "14.0  637     636     637  637   636      635      633         637   \n",
              "15.0  638     638     637  634   636      637      634         637   \n",
              "16.0  637     635     633  636   634      634      635         637   \n",
              "17.0  636     634     633  636   634      634      636         635   \n",
              "18.0  635     634     634  632   632      634      635         635   \n",
              "19.0  637     636     635  635   635      636      636         635   \n",
              "20.0  635     635     633  635   633      635      635         635   \n",
              "21.0  637     636     636  636   636      636      633         636   \n",
              "22.0  636     635     634  634   635      635      634         636   \n",
              "23.0  637     634     637  637   635      635      636         633   \n",
              "\n",
              "      weathersit  temp  atemp  hum  windspeed  cnt  \n",
              "hr                                                  \n",
              "0.0          634   624    623  627        628  634  \n",
              "1.0          632   627    626  629        628  634  \n",
              "2.0          623   616    616  617        616  623  \n",
              "3.0          609   601    603  605        599  610  \n",
              "4.0          605   594    599  597        597  605  \n",
              "5.0          621   616    615  622        619  624  \n",
              "6.0          634   626    627  630        630  635  \n",
              "7.0          634   629    628  631        628  636  \n",
              "8.0          635   626    629  634        628  635  \n",
              "9.0          632   632    627  628        626  636  \n",
              "10.0         635   631    632  626        631  637  \n",
              "11.0         631   629    628  629        629  635  \n",
              "12.0         637   631    629  633        631  638  \n",
              "13.0         637   629    631  633        634  638  \n",
              "14.0         636   629    631  631        632  637  \n",
              "15.0         636   629    631  628        632  638  \n",
              "16.0         637   629    628  631        630  637  \n",
              "17.0         632   626    632  626        627  636  \n",
              "18.0         635   624    630  630        632  635  \n",
              "19.0         635   633    621  626        633  637  \n",
              "20.0         635   628    627  628        626  635  \n",
              "21.0         637   630    631  628        633  637  \n",
              "22.0         635   628    631  631        626  636  \n",
              "23.0         637   634    631  628        626  637  "
            ],
            "text/html": [
              "\n",
              "  <div id=\"df-3aa1bcd0-ad5b-42e7-b085-49cc691aafb9\" class=\"colab-df-container\">\n",
              "    <div>\n",
              "<style scoped>\n",
              "    .dataframe tbody tr th:only-of-type {\n",
              "        vertical-align: middle;\n",
              "    }\n",
              "\n",
              "    .dataframe tbody tr th {\n",
              "        vertical-align: top;\n",
              "    }\n",
              "\n",
              "    .dataframe thead th {\n",
              "        text-align: right;\n",
              "    }\n",
              "</style>\n",
              "<table border=\"1\" class=\"dataframe\">\n",
              "  <thead>\n",
              "    <tr style=\"text-align: right;\">\n",
              "      <th></th>\n",
              "      <th>Id</th>\n",
              "      <th>dteday</th>\n",
              "      <th>season</th>\n",
              "      <th>yr</th>\n",
              "      <th>mnth</th>\n",
              "      <th>holiday</th>\n",
              "      <th>weekday</th>\n",
              "      <th>workingday</th>\n",
              "      <th>weathersit</th>\n",
              "      <th>temp</th>\n",
              "      <th>atemp</th>\n",
              "      <th>hum</th>\n",
              "      <th>windspeed</th>\n",
              "      <th>cnt</th>\n",
              "    </tr>\n",
              "    <tr>\n",
              "      <th>hr</th>\n",
              "      <th></th>\n",
              "      <th></th>\n",
              "      <th></th>\n",
              "      <th></th>\n",
              "      <th></th>\n",
              "      <th></th>\n",
              "      <th></th>\n",
              "      <th></th>\n",
              "      <th></th>\n",
              "      <th></th>\n",
              "      <th></th>\n",
              "      <th></th>\n",
              "      <th></th>\n",
              "      <th></th>\n",
              "    </tr>\n",
              "  </thead>\n",
              "  <tbody>\n",
              "    <tr>\n",
              "      <th>0.0</th>\n",
              "      <td>634</td>\n",
              "      <td>633</td>\n",
              "      <td>632</td>\n",
              "      <td>632</td>\n",
              "      <td>632</td>\n",
              "      <td>633</td>\n",
              "      <td>634</td>\n",
              "      <td>634</td>\n",
              "      <td>634</td>\n",
              "      <td>624</td>\n",
              "      <td>623</td>\n",
              "      <td>627</td>\n",
              "      <td>628</td>\n",
              "      <td>634</td>\n",
              "    </tr>\n",
              "    <tr>\n",
              "      <th>1.0</th>\n",
              "      <td>634</td>\n",
              "      <td>632</td>\n",
              "      <td>634</td>\n",
              "      <td>633</td>\n",
              "      <td>633</td>\n",
              "      <td>634</td>\n",
              "      <td>633</td>\n",
              "      <td>631</td>\n",
              "      <td>632</td>\n",
              "      <td>627</td>\n",
              "      <td>626</td>\n",
              "      <td>629</td>\n",
              "      <td>628</td>\n",
              "      <td>634</td>\n",
              "    </tr>\n",
              "    <tr>\n",
              "      <th>2.0</th>\n",
              "      <td>623</td>\n",
              "      <td>621</td>\n",
              "      <td>621</td>\n",
              "      <td>620</td>\n",
              "      <td>623</td>\n",
              "      <td>622</td>\n",
              "      <td>623</td>\n",
              "      <td>620</td>\n",
              "      <td>623</td>\n",
              "      <td>616</td>\n",
              "      <td>616</td>\n",
              "      <td>617</td>\n",
              "      <td>616</td>\n",
              "      <td>623</td>\n",
              "    </tr>\n",
              "    <tr>\n",
              "      <th>3.0</th>\n",
              "      <td>610</td>\n",
              "      <td>610</td>\n",
              "      <td>608</td>\n",
              "      <td>607</td>\n",
              "      <td>610</td>\n",
              "      <td>610</td>\n",
              "      <td>607</td>\n",
              "      <td>609</td>\n",
              "      <td>609</td>\n",
              "      <td>601</td>\n",
              "      <td>603</td>\n",
              "      <td>605</td>\n",
              "      <td>599</td>\n",
              "      <td>610</td>\n",
              "    </tr>\n",
              "    <tr>\n",
              "      <th>4.0</th>\n",
              "      <td>605</td>\n",
              "      <td>604</td>\n",
              "      <td>603</td>\n",
              "      <td>602</td>\n",
              "      <td>605</td>\n",
              "      <td>603</td>\n",
              "      <td>601</td>\n",
              "      <td>603</td>\n",
              "      <td>605</td>\n",
              "      <td>594</td>\n",
              "      <td>599</td>\n",
              "      <td>597</td>\n",
              "      <td>597</td>\n",
              "      <td>605</td>\n",
              "    </tr>\n",
              "    <tr>\n",
              "      <th>5.0</th>\n",
              "      <td>624</td>\n",
              "      <td>624</td>\n",
              "      <td>622</td>\n",
              "      <td>622</td>\n",
              "      <td>621</td>\n",
              "      <td>622</td>\n",
              "      <td>622</td>\n",
              "      <td>624</td>\n",
              "      <td>621</td>\n",
              "      <td>616</td>\n",
              "      <td>615</td>\n",
              "      <td>622</td>\n",
              "      <td>619</td>\n",
              "      <td>624</td>\n",
              "    </tr>\n",
              "    <tr>\n",
              "      <th>6.0</th>\n",
              "      <td>635</td>\n",
              "      <td>633</td>\n",
              "      <td>634</td>\n",
              "      <td>634</td>\n",
              "      <td>634</td>\n",
              "      <td>632</td>\n",
              "      <td>635</td>\n",
              "      <td>635</td>\n",
              "      <td>634</td>\n",
              "      <td>626</td>\n",
              "      <td>627</td>\n",
              "      <td>630</td>\n",
              "      <td>630</td>\n",
              "      <td>635</td>\n",
              "    </tr>\n",
              "    <tr>\n",
              "      <th>7.0</th>\n",
              "      <td>636</td>\n",
              "      <td>633</td>\n",
              "      <td>635</td>\n",
              "      <td>636</td>\n",
              "      <td>635</td>\n",
              "      <td>635</td>\n",
              "      <td>635</td>\n",
              "      <td>633</td>\n",
              "      <td>634</td>\n",
              "      <td>629</td>\n",
              "      <td>628</td>\n",
              "      <td>631</td>\n",
              "      <td>628</td>\n",
              "      <td>636</td>\n",
              "    </tr>\n",
              "    <tr>\n",
              "      <th>8.0</th>\n",
              "      <td>635</td>\n",
              "      <td>634</td>\n",
              "      <td>635</td>\n",
              "      <td>632</td>\n",
              "      <td>632</td>\n",
              "      <td>632</td>\n",
              "      <td>633</td>\n",
              "      <td>632</td>\n",
              "      <td>635</td>\n",
              "      <td>626</td>\n",
              "      <td>629</td>\n",
              "      <td>634</td>\n",
              "      <td>628</td>\n",
              "      <td>635</td>\n",
              "    </tr>\n",
              "    <tr>\n",
              "      <th>9.0</th>\n",
              "      <td>636</td>\n",
              "      <td>634</td>\n",
              "      <td>632</td>\n",
              "      <td>635</td>\n",
              "      <td>636</td>\n",
              "      <td>635</td>\n",
              "      <td>633</td>\n",
              "      <td>633</td>\n",
              "      <td>632</td>\n",
              "      <td>632</td>\n",
              "      <td>627</td>\n",
              "      <td>628</td>\n",
              "      <td>626</td>\n",
              "      <td>636</td>\n",
              "    </tr>\n",
              "    <tr>\n",
              "      <th>10.0</th>\n",
              "      <td>637</td>\n",
              "      <td>636</td>\n",
              "      <td>632</td>\n",
              "      <td>636</td>\n",
              "      <td>636</td>\n",
              "      <td>636</td>\n",
              "      <td>633</td>\n",
              "      <td>637</td>\n",
              "      <td>635</td>\n",
              "      <td>631</td>\n",
              "      <td>632</td>\n",
              "      <td>626</td>\n",
              "      <td>631</td>\n",
              "      <td>637</td>\n",
              "    </tr>\n",
              "    <tr>\n",
              "      <th>11.0</th>\n",
              "      <td>635</td>\n",
              "      <td>635</td>\n",
              "      <td>631</td>\n",
              "      <td>635</td>\n",
              "      <td>633</td>\n",
              "      <td>633</td>\n",
              "      <td>634</td>\n",
              "      <td>634</td>\n",
              "      <td>631</td>\n",
              "      <td>629</td>\n",
              "      <td>628</td>\n",
              "      <td>629</td>\n",
              "      <td>629</td>\n",
              "      <td>635</td>\n",
              "    </tr>\n",
              "    <tr>\n",
              "      <th>12.0</th>\n",
              "      <td>638</td>\n",
              "      <td>636</td>\n",
              "      <td>636</td>\n",
              "      <td>636</td>\n",
              "      <td>637</td>\n",
              "      <td>637</td>\n",
              "      <td>637</td>\n",
              "      <td>637</td>\n",
              "      <td>637</td>\n",
              "      <td>631</td>\n",
              "      <td>629</td>\n",
              "      <td>633</td>\n",
              "      <td>631</td>\n",
              "      <td>638</td>\n",
              "    </tr>\n",
              "    <tr>\n",
              "      <th>13.0</th>\n",
              "      <td>638</td>\n",
              "      <td>636</td>\n",
              "      <td>636</td>\n",
              "      <td>637</td>\n",
              "      <td>636</td>\n",
              "      <td>638</td>\n",
              "      <td>638</td>\n",
              "      <td>637</td>\n",
              "      <td>637</td>\n",
              "      <td>629</td>\n",
              "      <td>631</td>\n",
              "      <td>633</td>\n",
              "      <td>634</td>\n",
              "      <td>638</td>\n",
              "    </tr>\n",
              "    <tr>\n",
              "      <th>14.0</th>\n",
              "      <td>637</td>\n",
              "      <td>636</td>\n",
              "      <td>637</td>\n",
              "      <td>637</td>\n",
              "      <td>636</td>\n",
              "      <td>635</td>\n",
              "      <td>633</td>\n",
              "      <td>637</td>\n",
              "      <td>636</td>\n",
              "      <td>629</td>\n",
              "      <td>631</td>\n",
              "      <td>631</td>\n",
              "      <td>632</td>\n",
              "      <td>637</td>\n",
              "    </tr>\n",
              "    <tr>\n",
              "      <th>15.0</th>\n",
              "      <td>638</td>\n",
              "      <td>638</td>\n",
              "      <td>637</td>\n",
              "      <td>634</td>\n",
              "      <td>636</td>\n",
              "      <td>637</td>\n",
              "      <td>634</td>\n",
              "      <td>637</td>\n",
              "      <td>636</td>\n",
              "      <td>629</td>\n",
              "      <td>631</td>\n",
              "      <td>628</td>\n",
              "      <td>632</td>\n",
              "      <td>638</td>\n",
              "    </tr>\n",
              "    <tr>\n",
              "      <th>16.0</th>\n",
              "      <td>637</td>\n",
              "      <td>635</td>\n",
              "      <td>633</td>\n",
              "      <td>636</td>\n",
              "      <td>634</td>\n",
              "      <td>634</td>\n",
              "      <td>635</td>\n",
              "      <td>637</td>\n",
              "      <td>637</td>\n",
              "      <td>629</td>\n",
              "      <td>628</td>\n",
              "      <td>631</td>\n",
              "      <td>630</td>\n",
              "      <td>637</td>\n",
              "    </tr>\n",
              "    <tr>\n",
              "      <th>17.0</th>\n",
              "      <td>636</td>\n",
              "      <td>634</td>\n",
              "      <td>633</td>\n",
              "      <td>636</td>\n",
              "      <td>634</td>\n",
              "      <td>634</td>\n",
              "      <td>636</td>\n",
              "      <td>635</td>\n",
              "      <td>632</td>\n",
              "      <td>626</td>\n",
              "      <td>632</td>\n",
              "      <td>626</td>\n",
              "      <td>627</td>\n",
              "      <td>636</td>\n",
              "    </tr>\n",
              "    <tr>\n",
              "      <th>18.0</th>\n",
              "      <td>635</td>\n",
              "      <td>634</td>\n",
              "      <td>634</td>\n",
              "      <td>632</td>\n",
              "      <td>632</td>\n",
              "      <td>634</td>\n",
              "      <td>635</td>\n",
              "      <td>635</td>\n",
              "      <td>635</td>\n",
              "      <td>624</td>\n",
              "      <td>630</td>\n",
              "      <td>630</td>\n",
              "      <td>632</td>\n",
              "      <td>635</td>\n",
              "    </tr>\n",
              "    <tr>\n",
              "      <th>19.0</th>\n",
              "      <td>637</td>\n",
              "      <td>636</td>\n",
              "      <td>635</td>\n",
              "      <td>635</td>\n",
              "      <td>635</td>\n",
              "      <td>636</td>\n",
              "      <td>636</td>\n",
              "      <td>635</td>\n",
              "      <td>635</td>\n",
              "      <td>633</td>\n",
              "      <td>621</td>\n",
              "      <td>626</td>\n",
              "      <td>633</td>\n",
              "      <td>637</td>\n",
              "    </tr>\n",
              "    <tr>\n",
              "      <th>20.0</th>\n",
              "      <td>635</td>\n",
              "      <td>635</td>\n",
              "      <td>633</td>\n",
              "      <td>635</td>\n",
              "      <td>633</td>\n",
              "      <td>635</td>\n",
              "      <td>635</td>\n",
              "      <td>635</td>\n",
              "      <td>635</td>\n",
              "      <td>628</td>\n",
              "      <td>627</td>\n",
              "      <td>628</td>\n",
              "      <td>626</td>\n",
              "      <td>635</td>\n",
              "    </tr>\n",
              "    <tr>\n",
              "      <th>21.0</th>\n",
              "      <td>637</td>\n",
              "      <td>636</td>\n",
              "      <td>636</td>\n",
              "      <td>636</td>\n",
              "      <td>636</td>\n",
              "      <td>636</td>\n",
              "      <td>633</td>\n",
              "      <td>636</td>\n",
              "      <td>637</td>\n",
              "      <td>630</td>\n",
              "      <td>631</td>\n",
              "      <td>628</td>\n",
              "      <td>633</td>\n",
              "      <td>637</td>\n",
              "    </tr>\n",
              "    <tr>\n",
              "      <th>22.0</th>\n",
              "      <td>636</td>\n",
              "      <td>635</td>\n",
              "      <td>634</td>\n",
              "      <td>634</td>\n",
              "      <td>635</td>\n",
              "      <td>635</td>\n",
              "      <td>634</td>\n",
              "      <td>636</td>\n",
              "      <td>635</td>\n",
              "      <td>628</td>\n",
              "      <td>631</td>\n",
              "      <td>631</td>\n",
              "      <td>626</td>\n",
              "      <td>636</td>\n",
              "    </tr>\n",
              "    <tr>\n",
              "      <th>23.0</th>\n",
              "      <td>637</td>\n",
              "      <td>634</td>\n",
              "      <td>637</td>\n",
              "      <td>637</td>\n",
              "      <td>635</td>\n",
              "      <td>635</td>\n",
              "      <td>636</td>\n",
              "      <td>633</td>\n",
              "      <td>637</td>\n",
              "      <td>634</td>\n",
              "      <td>631</td>\n",
              "      <td>628</td>\n",
              "      <td>626</td>\n",
              "      <td>637</td>\n",
              "    </tr>\n",
              "  </tbody>\n",
              "</table>\n",
              "</div>\n",
              "    <div class=\"colab-df-buttons\">\n",
              "\n",
              "  <div class=\"colab-df-container\">\n",
              "    <button class=\"colab-df-convert\" onclick=\"convertToInteractive('df-3aa1bcd0-ad5b-42e7-b085-49cc691aafb9')\"\n",
              "            title=\"Convert this dataframe to an interactive table.\"\n",
              "            style=\"display:none;\">\n",
              "\n",
              "  <svg xmlns=\"http://www.w3.org/2000/svg\" height=\"24px\" viewBox=\"0 -960 960 960\">\n",
              "    <path d=\"M120-120v-720h720v720H120Zm60-500h600v-160H180v160Zm220 220h160v-160H400v160Zm0 220h160v-160H400v160ZM180-400h160v-160H180v160Zm440 0h160v-160H620v160ZM180-180h160v-160H180v160Zm440 0h160v-160H620v160Z\"/>\n",
              "  </svg>\n",
              "    </button>\n",
              "\n",
              "  <style>\n",
              "    .colab-df-container {\n",
              "      display:flex;\n",
              "      gap: 12px;\n",
              "    }\n",
              "\n",
              "    .colab-df-convert {\n",
              "      background-color: #E8F0FE;\n",
              "      border: none;\n",
              "      border-radius: 50%;\n",
              "      cursor: pointer;\n",
              "      display: none;\n",
              "      fill: #1967D2;\n",
              "      height: 32px;\n",
              "      padding: 0 0 0 0;\n",
              "      width: 32px;\n",
              "    }\n",
              "\n",
              "    .colab-df-convert:hover {\n",
              "      background-color: #E2EBFA;\n",
              "      box-shadow: 0px 1px 2px rgba(60, 64, 67, 0.3), 0px 1px 3px 1px rgba(60, 64, 67, 0.15);\n",
              "      fill: #174EA6;\n",
              "    }\n",
              "\n",
              "    .colab-df-buttons div {\n",
              "      margin-bottom: 4px;\n",
              "    }\n",
              "\n",
              "    [theme=dark] .colab-df-convert {\n",
              "      background-color: #3B4455;\n",
              "      fill: #D2E3FC;\n",
              "    }\n",
              "\n",
              "    [theme=dark] .colab-df-convert:hover {\n",
              "      background-color: #434B5C;\n",
              "      box-shadow: 0px 1px 3px 1px rgba(0, 0, 0, 0.15);\n",
              "      filter: drop-shadow(0px 1px 2px rgba(0, 0, 0, 0.3));\n",
              "      fill: #FFFFFF;\n",
              "    }\n",
              "  </style>\n",
              "\n",
              "    <script>\n",
              "      const buttonEl =\n",
              "        document.querySelector('#df-3aa1bcd0-ad5b-42e7-b085-49cc691aafb9 button.colab-df-convert');\n",
              "      buttonEl.style.display =\n",
              "        google.colab.kernel.accessAllowed ? 'block' : 'none';\n",
              "\n",
              "      async function convertToInteractive(key) {\n",
              "        const element = document.querySelector('#df-3aa1bcd0-ad5b-42e7-b085-49cc691aafb9');\n",
              "        const dataTable =\n",
              "          await google.colab.kernel.invokeFunction('convertToInteractive',\n",
              "                                                    [key], {});\n",
              "        if (!dataTable) return;\n",
              "\n",
              "        const docLinkHtml = 'Like what you see? Visit the ' +\n",
              "          '<a target=\"_blank\" href=https://colab.research.google.com/notebooks/data_table.ipynb>data table notebook</a>'\n",
              "          + ' to learn more about interactive tables.';\n",
              "        element.innerHTML = '';\n",
              "        dataTable['output_type'] = 'display_data';\n",
              "        await google.colab.output.renderOutput(dataTable, element);\n",
              "        const docLink = document.createElement('div');\n",
              "        docLink.innerHTML = docLinkHtml;\n",
              "        element.appendChild(docLink);\n",
              "      }\n",
              "    </script>\n",
              "  </div>\n",
              "\n",
              "\n",
              "<div id=\"df-462348e7-31f0-46eb-8925-6c358f93bee5\">\n",
              "  <button class=\"colab-df-quickchart\" onclick=\"quickchart('df-462348e7-31f0-46eb-8925-6c358f93bee5')\"\n",
              "            title=\"Suggest charts\"\n",
              "            style=\"display:none;\">\n",
              "\n",
              "<svg xmlns=\"http://www.w3.org/2000/svg\" height=\"24px\"viewBox=\"0 0 24 24\"\n",
              "     width=\"24px\">\n",
              "    <g>\n",
              "        <path d=\"M19 3H5c-1.1 0-2 .9-2 2v14c0 1.1.9 2 2 2h14c1.1 0 2-.9 2-2V5c0-1.1-.9-2-2-2zM9 17H7v-7h2v7zm4 0h-2V7h2v10zm4 0h-2v-4h2v4z\"/>\n",
              "    </g>\n",
              "</svg>\n",
              "  </button>\n",
              "\n",
              "<style>\n",
              "  .colab-df-quickchart {\n",
              "      --bg-color: #E8F0FE;\n",
              "      --fill-color: #1967D2;\n",
              "      --hover-bg-color: #E2EBFA;\n",
              "      --hover-fill-color: #174EA6;\n",
              "      --disabled-fill-color: #AAA;\n",
              "      --disabled-bg-color: #DDD;\n",
              "  }\n",
              "\n",
              "  [theme=dark] .colab-df-quickchart {\n",
              "      --bg-color: #3B4455;\n",
              "      --fill-color: #D2E3FC;\n",
              "      --hover-bg-color: #434B5C;\n",
              "      --hover-fill-color: #FFFFFF;\n",
              "      --disabled-bg-color: #3B4455;\n",
              "      --disabled-fill-color: #666;\n",
              "  }\n",
              "\n",
              "  .colab-df-quickchart {\n",
              "    background-color: var(--bg-color);\n",
              "    border: none;\n",
              "    border-radius: 50%;\n",
              "    cursor: pointer;\n",
              "    display: none;\n",
              "    fill: var(--fill-color);\n",
              "    height: 32px;\n",
              "    padding: 0;\n",
              "    width: 32px;\n",
              "  }\n",
              "\n",
              "  .colab-df-quickchart:hover {\n",
              "    background-color: var(--hover-bg-color);\n",
              "    box-shadow: 0 1px 2px rgba(60, 64, 67, 0.3), 0 1px 3px 1px rgba(60, 64, 67, 0.15);\n",
              "    fill: var(--button-hover-fill-color);\n",
              "  }\n",
              "\n",
              "  .colab-df-quickchart-complete:disabled,\n",
              "  .colab-df-quickchart-complete:disabled:hover {\n",
              "    background-color: var(--disabled-bg-color);\n",
              "    fill: var(--disabled-fill-color);\n",
              "    box-shadow: none;\n",
              "  }\n",
              "\n",
              "  .colab-df-spinner {\n",
              "    border: 2px solid var(--fill-color);\n",
              "    border-color: transparent;\n",
              "    border-bottom-color: var(--fill-color);\n",
              "    animation:\n",
              "      spin 1s steps(1) infinite;\n",
              "  }\n",
              "\n",
              "  @keyframes spin {\n",
              "    0% {\n",
              "      border-color: transparent;\n",
              "      border-bottom-color: var(--fill-color);\n",
              "      border-left-color: var(--fill-color);\n",
              "    }\n",
              "    20% {\n",
              "      border-color: transparent;\n",
              "      border-left-color: var(--fill-color);\n",
              "      border-top-color: var(--fill-color);\n",
              "    }\n",
              "    30% {\n",
              "      border-color: transparent;\n",
              "      border-left-color: var(--fill-color);\n",
              "      border-top-color: var(--fill-color);\n",
              "      border-right-color: var(--fill-color);\n",
              "    }\n",
              "    40% {\n",
              "      border-color: transparent;\n",
              "      border-right-color: var(--fill-color);\n",
              "      border-top-color: var(--fill-color);\n",
              "    }\n",
              "    60% {\n",
              "      border-color: transparent;\n",
              "      border-right-color: var(--fill-color);\n",
              "    }\n",
              "    80% {\n",
              "      border-color: transparent;\n",
              "      border-right-color: var(--fill-color);\n",
              "      border-bottom-color: var(--fill-color);\n",
              "    }\n",
              "    90% {\n",
              "      border-color: transparent;\n",
              "      border-bottom-color: var(--fill-color);\n",
              "    }\n",
              "  }\n",
              "</style>\n",
              "\n",
              "  <script>\n",
              "    async function quickchart(key) {\n",
              "      const quickchartButtonEl =\n",
              "        document.querySelector('#' + key + ' button');\n",
              "      quickchartButtonEl.disabled = true;  // To prevent multiple clicks.\n",
              "      quickchartButtonEl.classList.add('colab-df-spinner');\n",
              "      try {\n",
              "        const charts = await google.colab.kernel.invokeFunction(\n",
              "            'suggestCharts', [key], {});\n",
              "      } catch (error) {\n",
              "        console.error('Error during call to suggestCharts:', error);\n",
              "      }\n",
              "      quickchartButtonEl.classList.remove('colab-df-spinner');\n",
              "      quickchartButtonEl.classList.add('colab-df-quickchart-complete');\n",
              "    }\n",
              "    (() => {\n",
              "      let quickchartButtonEl =\n",
              "        document.querySelector('#df-462348e7-31f0-46eb-8925-6c358f93bee5 button');\n",
              "      quickchartButtonEl.style.display =\n",
              "        google.colab.kernel.accessAllowed ? 'block' : 'none';\n",
              "    })();\n",
              "  </script>\n",
              "</div>\n",
              "\n",
              "    </div>\n",
              "  </div>\n"
            ],
            "application/vnd.google.colaboratory.intrinsic+json": {
              "type": "dataframe",
              "summary": "{\n  \"name\": \"train\",\n  \"rows\": 24,\n  \"fields\": [\n    {\n      \"column\": \"hr\",\n      \"properties\": {\n        \"dtype\": \"number\",\n        \"std\": 7.0710678118654755,\n        \"min\": 0.0,\n        \"max\": 23.0,\n        \"num_unique_values\": 24,\n        \"samples\": [\n          8.0,\n          16.0,\n          0.0\n        ],\n        \"semantic_type\": \"\",\n        \"description\": \"\"\n      }\n    },\n    {\n      \"column\": \"Id\",\n      \"properties\": {\n        \"dtype\": \"number\",\n        \"std\": 8,\n        \"min\": 605,\n        \"max\": 638,\n        \"num_unique_values\": 9,\n        \"samples\": [\n          637,\n          623,\n          635\n        ],\n        \"semantic_type\": \"\",\n        \"description\": \"\"\n      }\n    },\n    {\n      \"column\": \"dteday\",\n      \"properties\": {\n        \"dtype\": \"number\",\n        \"std\": 8,\n        \"min\": 604,\n        \"max\": 638,\n        \"num_unique_values\": 10,\n        \"samples\": [\n          635,\n          632,\n          624\n        ],\n        \"semantic_type\": \"\",\n        \"description\": \"\"\n      }\n    },\n    {\n      \"column\": \"season\",\n      \"properties\": {\n        \"dtype\": \"number\",\n        \"std\": 8,\n        \"min\": 603,\n        \"max\": 637,\n        \"num_unique_values\": 11,\n        \"samples\": [\n          622,\n          632,\n          637\n        ],\n        \"semantic_type\": \"\",\n        \"description\": \"\"\n      }\n    },\n    {\n      \"column\": \"yr\",\n      \"properties\": {\n        \"dtype\": \"number\",\n        \"std\": 9,\n        \"min\": 602,\n        \"max\": 637,\n        \"num_unique_values\": 10,\n        \"samples\": [\n          635,\n          633,\n          622\n        ],\n        \"semantic_type\": \"\",\n        \"description\": \"\"\n      }\n    },\n    {\n      \"column\": \"mnth\",\n      \"properties\": {\n        \"dtype\": \"number\",\n        \"std\": 8,\n        \"min\": 605,\n        \"max\": 637,\n        \"num_unique_values\": 10,\n        \"samples\": [\n          636,\n          633,\n          621\n        ],\n        \"semantic_type\": \"\",\n        \"description\": \"\"\n      }\n    },\n    {\n      \"column\": \"holiday\",\n      \"properties\": {\n        \"dtype\": \"number\",\n        \"std\": 8,\n        \"min\": 603,\n        \"max\": 638,\n        \"num_unique_values\": 10,\n        \"samples\": [\n          637,\n          634,\n          632\n        ],\n        \"semantic_type\": \"\",\n        \"description\": \"\"\n      }\n    },\n    {\n      \"column\": \"weekday\",\n      \"properties\": {\n        \"dtype\": \"number\",\n        \"std\": 9,\n        \"min\": 601,\n        \"max\": 638,\n        \"num_unique_values\": 10,\n        \"samples\": [\n          638,\n          633,\n          622\n        ],\n        \"semantic_type\": \"\",\n        \"description\": \"\"\n      }\n    },\n    {\n      \"column\": \"workingday\",\n      \"properties\": {\n        \"dtype\": \"number\",\n        \"std\": 8,\n        \"min\": 603,\n        \"max\": 637,\n        \"num_unique_values\": 11,\n        \"samples\": [\n          624,\n          634,\n          637\n        ],\n        \"semantic_type\": \"\",\n        \"description\": \"\"\n      }\n    },\n    {\n      \"column\": \"weathersit\",\n      \"properties\": {\n        \"dtype\": \"number\",\n        \"std\": 8,\n        \"min\": 605,\n        \"max\": 637,\n        \"num_unique_values\": 10,\n        \"samples\": [\n          637,\n          632,\n          621\n        ],\n        \"semantic_type\": \"\",\n        \"description\": \"\"\n      }\n    },\n    {\n      \"column\": \"temp\",\n      \"properties\": {\n        \"dtype\": \"number\",\n        \"std\": 9,\n        \"min\": 594,\n        \"max\": 634,\n        \"num_unique_values\": 13,\n        \"samples\": [\n          630,\n          633,\n          624\n        ],\n        \"semantic_type\": \"\",\n        \"description\": \"\"\n      }\n    },\n    {\n      \"column\": \"atemp\",\n      \"properties\": {\n        \"dtype\": \"number\",\n        \"std\": 8,\n        \"min\": 599,\n        \"max\": 632,\n        \"num_unique_values\": 13,\n        \"samples\": [\n          630,\n          632,\n          623\n        ],\n        \"semantic_type\": \"\",\n        \"description\": \"\"\n      }\n    },\n    {\n      \"column\": \"hum\",\n      \"properties\": {\n        \"dtype\": \"number\",\n        \"std\": 8,\n        \"min\": 597,\n        \"max\": 634,\n        \"num_unique_values\": 12,\n        \"samples\": [\n          626,\n          628,\n          627\n        ],\n        \"semantic_type\": \"\",\n        \"description\": \"\"\n      }\n    },\n    {\n      \"column\": \"windspeed\",\n      \"properties\": {\n        \"dtype\": \"number\",\n        \"std\": 9,\n        \"min\": 597,\n        \"max\": 634,\n        \"num_unique_values\": 13,\n        \"samples\": [\n          627,\n          634,\n          628\n        ],\n        \"semantic_type\": \"\",\n        \"description\": \"\"\n      }\n    },\n    {\n      \"column\": \"cnt\",\n      \"properties\": {\n        \"dtype\": \"number\",\n        \"std\": 8,\n        \"min\": 605,\n        \"max\": 638,\n        \"num_unique_values\": 9,\n        \"samples\": [\n          637,\n          623,\n          635\n        ],\n        \"semantic_type\": \"\",\n        \"description\": \"\"\n      }\n    }\n  ]\n}"
            }
          },
          "metadata": {},
          "execution_count": 44
        }
      ],
      "source": [
        "train.groupby(\"hr\").count()"
      ]
    },
    {
      "cell_type": "code",
      "execution_count": null,
      "metadata": {
        "colab": {
          "base_uri": "https://localhost:8080/"
        },
        "id": "pROw3kOpaJeq",
        "outputId": "35e21655-0075-4007-8331-9bb54859657f"
      },
      "outputs": [
        {
          "output_type": "execute_result",
          "data": {
            "text/plain": [
              "DatetimeIndex([], dtype='datetime64[ns]', freq='D')"
            ]
          },
          "metadata": {},
          "execution_count": 45
        }
      ],
      "source": [
        "pd.date_range(start = '2011-01-01', end = '2012-09-30').difference(train.dteday.dropna())"
      ]
    },
    {
      "cell_type": "markdown",
      "metadata": {
        "id": "qgXxAIPhpieO"
      },
      "source": [
        "We don't seem to have missing dates. Removing NA's causes incomplete date/time information.\n",
        "-> Replace NA's or deep learning techniqurs (??).\n",
        "\n",
        "**Data cleaning possibilities**\n",
        "- Remove NA's\n",
        "- Replace NA's (with average of neighbours?)\n",
        "- Complete the variable `hr` so to have 24 observations per day -> Time series like analysis\n",
        "-"
      ]
    },
    {
      "cell_type": "markdown",
      "metadata": {
        "id": "Qngbji-ipqh_"
      },
      "source": [
        "### 1. Remove NA's in date"
      ]
    },
    {
      "cell_type": "code",
      "source": [
        "# drop NAs in dteday\n",
        "train.dropna(subset=['dteday', 'hr'], inplace=True)\n",
        "train.info()"
      ],
      "metadata": {
        "colab": {
          "base_uri": "https://localhost:8080/"
        },
        "id": "T3TovsxAUvHq",
        "outputId": "405b5441-e23f-484e-8ffc-3b8a626b2ea2"
      },
      "execution_count": 5,
      "outputs": [
        {
          "output_type": "stream",
          "name": "stdout",
          "text": [
            "<class 'pandas.core.frame.DataFrame'>\n",
            "Index: 15154 entries, 0 to 15210\n",
            "Data columns (total 15 columns):\n",
            " #   Column      Non-Null Count  Dtype         \n",
            "---  ------      --------------  -----         \n",
            " 0   Id          15154 non-null  int64         \n",
            " 1   dteday      15154 non-null  datetime64[ns]\n",
            " 2   season      15109 non-null  object        \n",
            " 3   yr          15118 non-null  float64       \n",
            " 4   mnth        15119 non-null  object        \n",
            " 5   hr          15154 non-null  float64       \n",
            " 6   holiday     15123 non-null  object        \n",
            " 7   weekday     15114 non-null  object        \n",
            " 8   workingday  15124 non-null  object        \n",
            " 9   weathersit  15123 non-null  object        \n",
            " 10  temp        14970 non-null  float64       \n",
            " 11  atemp       14975 non-null  float64       \n",
            " 12  hum         14997 non-null  float64       \n",
            " 13  windspeed   14990 non-null  float64       \n",
            " 14  cnt         15154 non-null  int64         \n",
            "dtypes: datetime64[ns](1), float64(6), int64(2), object(6)\n",
            "memory usage: 1.8+ MB\n"
          ]
        }
      ]
    },
    {
      "cell_type": "markdown",
      "source": [
        "### 2. Validate and impute season, year, month, holiday, weekday, workingday"
      ],
      "metadata": {
        "id": "G6bx0ZKLS3qR"
      }
    },
    {
      "cell_type": "code",
      "source": [
        "def validate_day(col):\n",
        "    # get the unique combination of dteday and season/workingday/holiday\n",
        "    df = train[['dteday', col]]\n",
        "    # for later storing the map of season/workingday/holiday info to the NA celss\n",
        "    map = {}\n",
        "    # iterate through the dates that has NA cell in season/workingday/holiday column\n",
        "    for d in set(df[df[col].isna()].dteday):\n",
        "        # slice of specific date\n",
        "        dfs = df[df.dteday==d]\n",
        "        # check if there is season/workingday/holiday info for this date\n",
        "        if dfs[col].notnull().sum() == 0:\n",
        "            print(d, 'does not have {} info'.format(col))\n",
        "        # check if the info is unique\n",
        "        if len(set(dfs[dfs[col].notnull()][col])) > 1:\n",
        "            print(d, 'is recorded', set(dfs[dfs[col].notnull()][col]))\n",
        "        # store the uniqe info for this date\n",
        "        map[d] = list(dfs[dfs[col].notnull()][col])[0]\n",
        "    return map\n",
        "\n",
        "def impute_day(col):\n",
        "    map = validate_day(col)\n",
        "    mask = train[col].isna()\n",
        "    train.loc[mask, col] = train[mask].dteday.replace(map)\n",
        "    return train.info()\n"
      ],
      "metadata": {
        "id": "-MfUqRRQzvV8"
      },
      "execution_count": 6,
      "outputs": []
    },
    {
      "cell_type": "code",
      "source": [
        "impute_day('season')"
      ],
      "metadata": {
        "colab": {
          "base_uri": "https://localhost:8080/"
        },
        "id": "4naxId-LIQAE",
        "outputId": "6680404b-cb92-4048-adc2-8f0d8bebe097"
      },
      "execution_count": 7,
      "outputs": [
        {
          "output_type": "stream",
          "name": "stdout",
          "text": [
            "<class 'pandas.core.frame.DataFrame'>\n",
            "Index: 15154 entries, 0 to 15210\n",
            "Data columns (total 15 columns):\n",
            " #   Column      Non-Null Count  Dtype         \n",
            "---  ------      --------------  -----         \n",
            " 0   Id          15154 non-null  int64         \n",
            " 1   dteday      15154 non-null  datetime64[ns]\n",
            " 2   season      15154 non-null  object        \n",
            " 3   yr          15118 non-null  float64       \n",
            " 4   mnth        15119 non-null  object        \n",
            " 5   hr          15154 non-null  float64       \n",
            " 6   holiday     15123 non-null  object        \n",
            " 7   weekday     15114 non-null  object        \n",
            " 8   workingday  15124 non-null  object        \n",
            " 9   weathersit  15123 non-null  object        \n",
            " 10  temp        14970 non-null  float64       \n",
            " 11  atemp       14975 non-null  float64       \n",
            " 12  hum         14997 non-null  float64       \n",
            " 13  windspeed   14990 non-null  float64       \n",
            " 14  cnt         15154 non-null  int64         \n",
            "dtypes: datetime64[ns](1), float64(6), int64(2), object(6)\n",
            "memory usage: 1.8+ MB\n"
          ]
        }
      ]
    },
    {
      "cell_type": "code",
      "source": [
        "impute_day('yr')"
      ],
      "metadata": {
        "colab": {
          "base_uri": "https://localhost:8080/"
        },
        "id": "p8kapIh5HrEx",
        "outputId": "49565ea7-e0e0-4890-8e83-ad837b5aa0d8"
      },
      "execution_count": 8,
      "outputs": [
        {
          "output_type": "stream",
          "name": "stdout",
          "text": [
            "<class 'pandas.core.frame.DataFrame'>\n",
            "Index: 15154 entries, 0 to 15210\n",
            "Data columns (total 15 columns):\n",
            " #   Column      Non-Null Count  Dtype         \n",
            "---  ------      --------------  -----         \n",
            " 0   Id          15154 non-null  int64         \n",
            " 1   dteday      15154 non-null  datetime64[ns]\n",
            " 2   season      15154 non-null  object        \n",
            " 3   yr          15154 non-null  float64       \n",
            " 4   mnth        15119 non-null  object        \n",
            " 5   hr          15154 non-null  float64       \n",
            " 6   holiday     15123 non-null  object        \n",
            " 7   weekday     15114 non-null  object        \n",
            " 8   workingday  15124 non-null  object        \n",
            " 9   weathersit  15123 non-null  object        \n",
            " 10  temp        14970 non-null  float64       \n",
            " 11  atemp       14975 non-null  float64       \n",
            " 12  hum         14997 non-null  float64       \n",
            " 13  windspeed   14990 non-null  float64       \n",
            " 14  cnt         15154 non-null  int64         \n",
            "dtypes: datetime64[ns](1), float64(6), int64(2), object(6)\n",
            "memory usage: 1.8+ MB\n"
          ]
        },
        {
          "output_type": "stream",
          "name": "stderr",
          "text": [
            "<ipython-input-6-51264a916a0d>:23: FutureWarning: Downcasting behavior in `replace` is deprecated and will be removed in a future version. To retain the old behavior, explicitly call `result.infer_objects(copy=False)`. To opt-in to the future behavior, set `pd.set_option('future.no_silent_downcasting', True)`\n",
            "  train.loc[mask, col] = train[mask].dteday.replace(map)\n"
          ]
        }
      ]
    },
    {
      "cell_type": "code",
      "source": [
        "impute_day('mnth')"
      ],
      "metadata": {
        "colab": {
          "base_uri": "https://localhost:8080/"
        },
        "id": "m-K64ZNkIUoK",
        "outputId": "1791fdc1-a25c-441d-ebdd-2cf2c3aaa071"
      },
      "execution_count": 9,
      "outputs": [
        {
          "output_type": "stream",
          "name": "stdout",
          "text": [
            "<class 'pandas.core.frame.DataFrame'>\n",
            "Index: 15154 entries, 0 to 15210\n",
            "Data columns (total 15 columns):\n",
            " #   Column      Non-Null Count  Dtype         \n",
            "---  ------      --------------  -----         \n",
            " 0   Id          15154 non-null  int64         \n",
            " 1   dteday      15154 non-null  datetime64[ns]\n",
            " 2   season      15154 non-null  object        \n",
            " 3   yr          15154 non-null  float64       \n",
            " 4   mnth        15154 non-null  object        \n",
            " 5   hr          15154 non-null  float64       \n",
            " 6   holiday     15123 non-null  object        \n",
            " 7   weekday     15114 non-null  object        \n",
            " 8   workingday  15124 non-null  object        \n",
            " 9   weathersit  15123 non-null  object        \n",
            " 10  temp        14970 non-null  float64       \n",
            " 11  atemp       14975 non-null  float64       \n",
            " 12  hum         14997 non-null  float64       \n",
            " 13  windspeed   14990 non-null  float64       \n",
            " 14  cnt         15154 non-null  int64         \n",
            "dtypes: datetime64[ns](1), float64(6), int64(2), object(6)\n",
            "memory usage: 1.8+ MB\n"
          ]
        }
      ]
    },
    {
      "cell_type": "code",
      "source": [
        "impute_day('holiday')"
      ],
      "metadata": {
        "colab": {
          "base_uri": "https://localhost:8080/"
        },
        "id": "iyuPYIDEIaPg",
        "outputId": "3147005e-01b3-4dd3-d52c-31f46651bcdc"
      },
      "execution_count": 10,
      "outputs": [
        {
          "output_type": "stream",
          "name": "stdout",
          "text": [
            "<class 'pandas.core.frame.DataFrame'>\n",
            "Index: 15154 entries, 0 to 15210\n",
            "Data columns (total 15 columns):\n",
            " #   Column      Non-Null Count  Dtype         \n",
            "---  ------      --------------  -----         \n",
            " 0   Id          15154 non-null  int64         \n",
            " 1   dteday      15154 non-null  datetime64[ns]\n",
            " 2   season      15154 non-null  object        \n",
            " 3   yr          15154 non-null  float64       \n",
            " 4   mnth        15154 non-null  object        \n",
            " 5   hr          15154 non-null  float64       \n",
            " 6   holiday     15154 non-null  object        \n",
            " 7   weekday     15114 non-null  object        \n",
            " 8   workingday  15124 non-null  object        \n",
            " 9   weathersit  15123 non-null  object        \n",
            " 10  temp        14970 non-null  float64       \n",
            " 11  atemp       14975 non-null  float64       \n",
            " 12  hum         14997 non-null  float64       \n",
            " 13  windspeed   14990 non-null  float64       \n",
            " 14  cnt         15154 non-null  int64         \n",
            "dtypes: datetime64[ns](1), float64(6), int64(2), object(6)\n",
            "memory usage: 1.8+ MB\n"
          ]
        }
      ]
    },
    {
      "cell_type": "code",
      "source": [
        "impute_day('weekday')"
      ],
      "metadata": {
        "colab": {
          "base_uri": "https://localhost:8080/"
        },
        "id": "DJtl0WKlIeph",
        "outputId": "b0944f76-46aa-47a2-cd13-06039f257771"
      },
      "execution_count": 11,
      "outputs": [
        {
          "output_type": "stream",
          "name": "stdout",
          "text": [
            "<class 'pandas.core.frame.DataFrame'>\n",
            "Index: 15154 entries, 0 to 15210\n",
            "Data columns (total 15 columns):\n",
            " #   Column      Non-Null Count  Dtype         \n",
            "---  ------      --------------  -----         \n",
            " 0   Id          15154 non-null  int64         \n",
            " 1   dteday      15154 non-null  datetime64[ns]\n",
            " 2   season      15154 non-null  object        \n",
            " 3   yr          15154 non-null  float64       \n",
            " 4   mnth        15154 non-null  object        \n",
            " 5   hr          15154 non-null  float64       \n",
            " 6   holiday     15154 non-null  object        \n",
            " 7   weekday     15154 non-null  object        \n",
            " 8   workingday  15124 non-null  object        \n",
            " 9   weathersit  15123 non-null  object        \n",
            " 10  temp        14970 non-null  float64       \n",
            " 11  atemp       14975 non-null  float64       \n",
            " 12  hum         14997 non-null  float64       \n",
            " 13  windspeed   14990 non-null  float64       \n",
            " 14  cnt         15154 non-null  int64         \n",
            "dtypes: datetime64[ns](1), float64(6), int64(2), object(6)\n",
            "memory usage: 1.8+ MB\n"
          ]
        }
      ]
    },
    {
      "cell_type": "code",
      "source": [
        "impute_day('workingday')"
      ],
      "metadata": {
        "colab": {
          "base_uri": "https://localhost:8080/"
        },
        "id": "O2v8iMKKIiMK",
        "outputId": "2a77dc2e-7ee6-4c04-ed57-ae8ab624ac8b"
      },
      "execution_count": 12,
      "outputs": [
        {
          "output_type": "stream",
          "name": "stdout",
          "text": [
            "<class 'pandas.core.frame.DataFrame'>\n",
            "Index: 15154 entries, 0 to 15210\n",
            "Data columns (total 15 columns):\n",
            " #   Column      Non-Null Count  Dtype         \n",
            "---  ------      --------------  -----         \n",
            " 0   Id          15154 non-null  int64         \n",
            " 1   dteday      15154 non-null  datetime64[ns]\n",
            " 2   season      15154 non-null  object        \n",
            " 3   yr          15154 non-null  float64       \n",
            " 4   mnth        15154 non-null  object        \n",
            " 5   hr          15154 non-null  float64       \n",
            " 6   holiday     15154 non-null  object        \n",
            " 7   weekday     15154 non-null  object        \n",
            " 8   workingday  15154 non-null  object        \n",
            " 9   weathersit  15123 non-null  object        \n",
            " 10  temp        14970 non-null  float64       \n",
            " 11  atemp       14975 non-null  float64       \n",
            " 12  hum         14997 non-null  float64       \n",
            " 13  windspeed   14990 non-null  float64       \n",
            " 14  cnt         15154 non-null  int64         \n",
            "dtypes: datetime64[ns](1), float64(6), int64(2), object(6)\n",
            "memory usage: 1.8+ MB\n"
          ]
        }
      ]
    },
    {
      "cell_type": "markdown",
      "source": [
        "### 3. Validate and impute weathersit, temp, atemp, hum, windspeed"
      ],
      "metadata": {
        "id": "UIU_vN5ZlFt2"
      }
    },
    {
      "cell_type": "code",
      "source": [
        "# use the value of last 2 hours or next 2 hours to impute temp, atemp, hum, and windspeed\n",
        "def impute_weather(col):\n",
        "    m = {}\n",
        "    while train[col].isna().sum() > 0:\n",
        "        for id, row in train[train[col].isna()].iterrows():\n",
        "            d, h = row['dteday'], row['hr']\n",
        "            h1 = train[train.dteday==d].loc[train.hr==h-1, col].values\n",
        "            h2 = train[train.dteday==d].loc[train.hr==h+1, col].values\n",
        "            h3 = train[train.dteday==d].loc[train.hr==h-2, col].values\n",
        "            h4 = train[train.dteday==d].loc[train.hr==h+2, col].values\n",
        "            if len(h1) > 0:\n",
        "                m[id] = h1[0]\n",
        "            elif len(h2) > 0:\n",
        "                m[id] = h2[0]\n",
        "            elif len(h3) > 0:\n",
        "                m[id] = h3[0]\n",
        "            elif len(h4) > 0:\n",
        "                m[id] = h4[0]\n",
        "        train.loc[train[col].isna(), col] = pd.Series(m)\n",
        "    return train.info()"
      ],
      "metadata": {
        "id": "wCLMiozcOfvd"
      },
      "execution_count": 13,
      "outputs": []
    },
    {
      "cell_type": "code",
      "source": [
        "impute_weather('weathersit')"
      ],
      "metadata": {
        "colab": {
          "base_uri": "https://localhost:8080/"
        },
        "id": "sI9rGOQvwqyU",
        "outputId": "76e920a3-3a83-4940-aa23-8fdccbdc57fc"
      },
      "execution_count": 14,
      "outputs": [
        {
          "output_type": "stream",
          "name": "stdout",
          "text": [
            "<class 'pandas.core.frame.DataFrame'>\n",
            "Index: 15154 entries, 0 to 15210\n",
            "Data columns (total 15 columns):\n",
            " #   Column      Non-Null Count  Dtype         \n",
            "---  ------      --------------  -----         \n",
            " 0   Id          15154 non-null  int64         \n",
            " 1   dteday      15154 non-null  datetime64[ns]\n",
            " 2   season      15154 non-null  object        \n",
            " 3   yr          15154 non-null  float64       \n",
            " 4   mnth        15154 non-null  object        \n",
            " 5   hr          15154 non-null  float64       \n",
            " 6   holiday     15154 non-null  object        \n",
            " 7   weekday     15154 non-null  object        \n",
            " 8   workingday  15154 non-null  object        \n",
            " 9   weathersit  15154 non-null  object        \n",
            " 10  temp        14970 non-null  float64       \n",
            " 11  atemp       14975 non-null  float64       \n",
            " 12  hum         14997 non-null  float64       \n",
            " 13  windspeed   14990 non-null  float64       \n",
            " 14  cnt         15154 non-null  int64         \n",
            "dtypes: datetime64[ns](1), float64(6), int64(2), object(6)\n",
            "memory usage: 2.4+ MB\n"
          ]
        }
      ]
    },
    {
      "cell_type": "code",
      "source": [
        "impute_weather('temp')"
      ],
      "metadata": {
        "colab": {
          "base_uri": "https://localhost:8080/"
        },
        "id": "6yjLOhNslNLk",
        "outputId": "7bef209a-069c-45c6-9bb3-be74ef974df4"
      },
      "execution_count": 15,
      "outputs": [
        {
          "output_type": "stream",
          "name": "stdout",
          "text": [
            "<class 'pandas.core.frame.DataFrame'>\n",
            "Index: 15154 entries, 0 to 15210\n",
            "Data columns (total 15 columns):\n",
            " #   Column      Non-Null Count  Dtype         \n",
            "---  ------      --------------  -----         \n",
            " 0   Id          15154 non-null  int64         \n",
            " 1   dteday      15154 non-null  datetime64[ns]\n",
            " 2   season      15154 non-null  object        \n",
            " 3   yr          15154 non-null  float64       \n",
            " 4   mnth        15154 non-null  object        \n",
            " 5   hr          15154 non-null  float64       \n",
            " 6   holiday     15154 non-null  object        \n",
            " 7   weekday     15154 non-null  object        \n",
            " 8   workingday  15154 non-null  object        \n",
            " 9   weathersit  15154 non-null  object        \n",
            " 10  temp        15154 non-null  float64       \n",
            " 11  atemp       14975 non-null  float64       \n",
            " 12  hum         14997 non-null  float64       \n",
            " 13  windspeed   14990 non-null  float64       \n",
            " 14  cnt         15154 non-null  int64         \n",
            "dtypes: datetime64[ns](1), float64(6), int64(2), object(6)\n",
            "memory usage: 2.4+ MB\n"
          ]
        }
      ]
    },
    {
      "cell_type": "code",
      "source": [
        "impute_weather('atemp')"
      ],
      "metadata": {
        "colab": {
          "base_uri": "https://localhost:8080/"
        },
        "id": "PPH9zbwbxsRH",
        "outputId": "7af0ceec-2a52-4bbd-c2e7-441b9709204f"
      },
      "execution_count": 16,
      "outputs": [
        {
          "output_type": "stream",
          "name": "stdout",
          "text": [
            "<class 'pandas.core.frame.DataFrame'>\n",
            "Index: 15154 entries, 0 to 15210\n",
            "Data columns (total 15 columns):\n",
            " #   Column      Non-Null Count  Dtype         \n",
            "---  ------      --------------  -----         \n",
            " 0   Id          15154 non-null  int64         \n",
            " 1   dteday      15154 non-null  datetime64[ns]\n",
            " 2   season      15154 non-null  object        \n",
            " 3   yr          15154 non-null  float64       \n",
            " 4   mnth        15154 non-null  object        \n",
            " 5   hr          15154 non-null  float64       \n",
            " 6   holiday     15154 non-null  object        \n",
            " 7   weekday     15154 non-null  object        \n",
            " 8   workingday  15154 non-null  object        \n",
            " 9   weathersit  15154 non-null  object        \n",
            " 10  temp        15154 non-null  float64       \n",
            " 11  atemp       15154 non-null  float64       \n",
            " 12  hum         14997 non-null  float64       \n",
            " 13  windspeed   14990 non-null  float64       \n",
            " 14  cnt         15154 non-null  int64         \n",
            "dtypes: datetime64[ns](1), float64(6), int64(2), object(6)\n",
            "memory usage: 2.4+ MB\n"
          ]
        }
      ]
    },
    {
      "cell_type": "code",
      "source": [
        "impute_weather('hum')"
      ],
      "metadata": {
        "colab": {
          "base_uri": "https://localhost:8080/"
        },
        "id": "mztCKxV6xwRD",
        "outputId": "1f705eb6-26ac-4b4e-f0a7-73e0e6b69bc4"
      },
      "execution_count": 17,
      "outputs": [
        {
          "output_type": "stream",
          "name": "stdout",
          "text": [
            "<class 'pandas.core.frame.DataFrame'>\n",
            "Index: 15154 entries, 0 to 15210\n",
            "Data columns (total 15 columns):\n",
            " #   Column      Non-Null Count  Dtype         \n",
            "---  ------      --------------  -----         \n",
            " 0   Id          15154 non-null  int64         \n",
            " 1   dteday      15154 non-null  datetime64[ns]\n",
            " 2   season      15154 non-null  object        \n",
            " 3   yr          15154 non-null  float64       \n",
            " 4   mnth        15154 non-null  object        \n",
            " 5   hr          15154 non-null  float64       \n",
            " 6   holiday     15154 non-null  object        \n",
            " 7   weekday     15154 non-null  object        \n",
            " 8   workingday  15154 non-null  object        \n",
            " 9   weathersit  15154 non-null  object        \n",
            " 10  temp        15154 non-null  float64       \n",
            " 11  atemp       15154 non-null  float64       \n",
            " 12  hum         15154 non-null  float64       \n",
            " 13  windspeed   14990 non-null  float64       \n",
            " 14  cnt         15154 non-null  int64         \n",
            "dtypes: datetime64[ns](1), float64(6), int64(2), object(6)\n",
            "memory usage: 2.4+ MB\n"
          ]
        }
      ]
    },
    {
      "cell_type": "code",
      "source": [
        "impute_weather('windspeed')"
      ],
      "metadata": {
        "colab": {
          "base_uri": "https://localhost:8080/"
        },
        "id": "BOiwqdS-xz2q",
        "outputId": "fcbc5c9b-99af-4712-8406-fc5fff9d4759"
      },
      "execution_count": 18,
      "outputs": [
        {
          "output_type": "stream",
          "name": "stdout",
          "text": [
            "<class 'pandas.core.frame.DataFrame'>\n",
            "Index: 15154 entries, 0 to 15210\n",
            "Data columns (total 15 columns):\n",
            " #   Column      Non-Null Count  Dtype         \n",
            "---  ------      --------------  -----         \n",
            " 0   Id          15154 non-null  int64         \n",
            " 1   dteday      15154 non-null  datetime64[ns]\n",
            " 2   season      15154 non-null  object        \n",
            " 3   yr          15154 non-null  float64       \n",
            " 4   mnth        15154 non-null  object        \n",
            " 5   hr          15154 non-null  float64       \n",
            " 6   holiday     15154 non-null  object        \n",
            " 7   weekday     15154 non-null  object        \n",
            " 8   workingday  15154 non-null  object        \n",
            " 9   weathersit  15154 non-null  object        \n",
            " 10  temp        15154 non-null  float64       \n",
            " 11  atemp       15154 non-null  float64       \n",
            " 12  hum         15154 non-null  float64       \n",
            " 13  windspeed   15154 non-null  float64       \n",
            " 14  cnt         15154 non-null  int64         \n",
            "dtypes: datetime64[ns](1), float64(6), int64(2), object(6)\n",
            "memory usage: 2.4+ MB\n"
          ]
        }
      ]
    },
    {
      "cell_type": "markdown",
      "source": [
        "### !!! change dteday to milliseconds"
      ],
      "metadata": {
        "id": "YxrbRfydqOUQ"
      }
    },
    {
      "cell_type": "code",
      "source": [
        "train['dteday'] = train.dteday.astype('int')/1e11\n",
        "train.head()"
      ],
      "metadata": {
        "colab": {
          "base_uri": "https://localhost:8080/",
          "height": 206
        },
        "id": "nlRs6y2ZoqHi",
        "outputId": "b6cc4e6f-82a7-45d0-f0ad-4f0b1c0ddee0"
      },
      "execution_count": 19,
      "outputs": [
        {
          "output_type": "execute_result",
          "data": {
            "text/plain": [
              "   Id      dteday  season      yr     mnth   hr holiday   weekday workingday  \\\n",
              "0   1  12938400.0  Winter  2011.0  January  0.0      No  Saturday         No   \n",
              "1   2  12938400.0  Winter  2011.0  January  1.0      No  Saturday         No   \n",
              "2   3  12938400.0  Winter  2011.0  January  2.0      No  Saturday         No   \n",
              "3   4  12938400.0  Winter  2011.0  January  3.0      No  Saturday         No   \n",
              "4   5  12938400.0  Winter  2011.0  January  4.0      No  Saturday         No   \n",
              "\n",
              "                                        weathersit  temp   atemp   hum  \\\n",
              "0  Clear, Few clouds, Partly cloudy, Partly cloudy  0.24  0.2879  0.80   \n",
              "1  Clear, Few clouds, Partly cloudy, Partly cloudy  0.22  0.2727  0.80   \n",
              "2  Clear, Few clouds, Partly cloudy, Partly cloudy  0.22  0.2727  0.80   \n",
              "3  Clear, Few clouds, Partly cloudy, Partly cloudy  0.24  0.2879  0.75   \n",
              "4  Clear, Few clouds, Partly cloudy, Partly cloudy  0.24  0.2879  0.75   \n",
              "\n",
              "   windspeed  cnt  \n",
              "0        0.0   16  \n",
              "1        0.0   40  \n",
              "2        0.0   32  \n",
              "3        0.0   13  \n",
              "4        0.0    1  "
            ],
            "text/html": [
              "\n",
              "  <div id=\"df-5ea78855-4655-4a2f-a57d-e5ec7af754d6\" class=\"colab-df-container\">\n",
              "    <div>\n",
              "<style scoped>\n",
              "    .dataframe tbody tr th:only-of-type {\n",
              "        vertical-align: middle;\n",
              "    }\n",
              "\n",
              "    .dataframe tbody tr th {\n",
              "        vertical-align: top;\n",
              "    }\n",
              "\n",
              "    .dataframe thead th {\n",
              "        text-align: right;\n",
              "    }\n",
              "</style>\n",
              "<table border=\"1\" class=\"dataframe\">\n",
              "  <thead>\n",
              "    <tr style=\"text-align: right;\">\n",
              "      <th></th>\n",
              "      <th>Id</th>\n",
              "      <th>dteday</th>\n",
              "      <th>season</th>\n",
              "      <th>yr</th>\n",
              "      <th>mnth</th>\n",
              "      <th>hr</th>\n",
              "      <th>holiday</th>\n",
              "      <th>weekday</th>\n",
              "      <th>workingday</th>\n",
              "      <th>weathersit</th>\n",
              "      <th>temp</th>\n",
              "      <th>atemp</th>\n",
              "      <th>hum</th>\n",
              "      <th>windspeed</th>\n",
              "      <th>cnt</th>\n",
              "    </tr>\n",
              "  </thead>\n",
              "  <tbody>\n",
              "    <tr>\n",
              "      <th>0</th>\n",
              "      <td>1</td>\n",
              "      <td>12938400.0</td>\n",
              "      <td>Winter</td>\n",
              "      <td>2011.0</td>\n",
              "      <td>January</td>\n",
              "      <td>0.0</td>\n",
              "      <td>No</td>\n",
              "      <td>Saturday</td>\n",
              "      <td>No</td>\n",
              "      <td>Clear, Few clouds, Partly cloudy, Partly cloudy</td>\n",
              "      <td>0.24</td>\n",
              "      <td>0.2879</td>\n",
              "      <td>0.80</td>\n",
              "      <td>0.0</td>\n",
              "      <td>16</td>\n",
              "    </tr>\n",
              "    <tr>\n",
              "      <th>1</th>\n",
              "      <td>2</td>\n",
              "      <td>12938400.0</td>\n",
              "      <td>Winter</td>\n",
              "      <td>2011.0</td>\n",
              "      <td>January</td>\n",
              "      <td>1.0</td>\n",
              "      <td>No</td>\n",
              "      <td>Saturday</td>\n",
              "      <td>No</td>\n",
              "      <td>Clear, Few clouds, Partly cloudy, Partly cloudy</td>\n",
              "      <td>0.22</td>\n",
              "      <td>0.2727</td>\n",
              "      <td>0.80</td>\n",
              "      <td>0.0</td>\n",
              "      <td>40</td>\n",
              "    </tr>\n",
              "    <tr>\n",
              "      <th>2</th>\n",
              "      <td>3</td>\n",
              "      <td>12938400.0</td>\n",
              "      <td>Winter</td>\n",
              "      <td>2011.0</td>\n",
              "      <td>January</td>\n",
              "      <td>2.0</td>\n",
              "      <td>No</td>\n",
              "      <td>Saturday</td>\n",
              "      <td>No</td>\n",
              "      <td>Clear, Few clouds, Partly cloudy, Partly cloudy</td>\n",
              "      <td>0.22</td>\n",
              "      <td>0.2727</td>\n",
              "      <td>0.80</td>\n",
              "      <td>0.0</td>\n",
              "      <td>32</td>\n",
              "    </tr>\n",
              "    <tr>\n",
              "      <th>3</th>\n",
              "      <td>4</td>\n",
              "      <td>12938400.0</td>\n",
              "      <td>Winter</td>\n",
              "      <td>2011.0</td>\n",
              "      <td>January</td>\n",
              "      <td>3.0</td>\n",
              "      <td>No</td>\n",
              "      <td>Saturday</td>\n",
              "      <td>No</td>\n",
              "      <td>Clear, Few clouds, Partly cloudy, Partly cloudy</td>\n",
              "      <td>0.24</td>\n",
              "      <td>0.2879</td>\n",
              "      <td>0.75</td>\n",
              "      <td>0.0</td>\n",
              "      <td>13</td>\n",
              "    </tr>\n",
              "    <tr>\n",
              "      <th>4</th>\n",
              "      <td>5</td>\n",
              "      <td>12938400.0</td>\n",
              "      <td>Winter</td>\n",
              "      <td>2011.0</td>\n",
              "      <td>January</td>\n",
              "      <td>4.0</td>\n",
              "      <td>No</td>\n",
              "      <td>Saturday</td>\n",
              "      <td>No</td>\n",
              "      <td>Clear, Few clouds, Partly cloudy, Partly cloudy</td>\n",
              "      <td>0.24</td>\n",
              "      <td>0.2879</td>\n",
              "      <td>0.75</td>\n",
              "      <td>0.0</td>\n",
              "      <td>1</td>\n",
              "    </tr>\n",
              "  </tbody>\n",
              "</table>\n",
              "</div>\n",
              "    <div class=\"colab-df-buttons\">\n",
              "\n",
              "  <div class=\"colab-df-container\">\n",
              "    <button class=\"colab-df-convert\" onclick=\"convertToInteractive('df-5ea78855-4655-4a2f-a57d-e5ec7af754d6')\"\n",
              "            title=\"Convert this dataframe to an interactive table.\"\n",
              "            style=\"display:none;\">\n",
              "\n",
              "  <svg xmlns=\"http://www.w3.org/2000/svg\" height=\"24px\" viewBox=\"0 -960 960 960\">\n",
              "    <path d=\"M120-120v-720h720v720H120Zm60-500h600v-160H180v160Zm220 220h160v-160H400v160Zm0 220h160v-160H400v160ZM180-400h160v-160H180v160Zm440 0h160v-160H620v160ZM180-180h160v-160H180v160Zm440 0h160v-160H620v160Z\"/>\n",
              "  </svg>\n",
              "    </button>\n",
              "\n",
              "  <style>\n",
              "    .colab-df-container {\n",
              "      display:flex;\n",
              "      gap: 12px;\n",
              "    }\n",
              "\n",
              "    .colab-df-convert {\n",
              "      background-color: #E8F0FE;\n",
              "      border: none;\n",
              "      border-radius: 50%;\n",
              "      cursor: pointer;\n",
              "      display: none;\n",
              "      fill: #1967D2;\n",
              "      height: 32px;\n",
              "      padding: 0 0 0 0;\n",
              "      width: 32px;\n",
              "    }\n",
              "\n",
              "    .colab-df-convert:hover {\n",
              "      background-color: #E2EBFA;\n",
              "      box-shadow: 0px 1px 2px rgba(60, 64, 67, 0.3), 0px 1px 3px 1px rgba(60, 64, 67, 0.15);\n",
              "      fill: #174EA6;\n",
              "    }\n",
              "\n",
              "    .colab-df-buttons div {\n",
              "      margin-bottom: 4px;\n",
              "    }\n",
              "\n",
              "    [theme=dark] .colab-df-convert {\n",
              "      background-color: #3B4455;\n",
              "      fill: #D2E3FC;\n",
              "    }\n",
              "\n",
              "    [theme=dark] .colab-df-convert:hover {\n",
              "      background-color: #434B5C;\n",
              "      box-shadow: 0px 1px 3px 1px rgba(0, 0, 0, 0.15);\n",
              "      filter: drop-shadow(0px 1px 2px rgba(0, 0, 0, 0.3));\n",
              "      fill: #FFFFFF;\n",
              "    }\n",
              "  </style>\n",
              "\n",
              "    <script>\n",
              "      const buttonEl =\n",
              "        document.querySelector('#df-5ea78855-4655-4a2f-a57d-e5ec7af754d6 button.colab-df-convert');\n",
              "      buttonEl.style.display =\n",
              "        google.colab.kernel.accessAllowed ? 'block' : 'none';\n",
              "\n",
              "      async function convertToInteractive(key) {\n",
              "        const element = document.querySelector('#df-5ea78855-4655-4a2f-a57d-e5ec7af754d6');\n",
              "        const dataTable =\n",
              "          await google.colab.kernel.invokeFunction('convertToInteractive',\n",
              "                                                    [key], {});\n",
              "        if (!dataTable) return;\n",
              "\n",
              "        const docLinkHtml = 'Like what you see? Visit the ' +\n",
              "          '<a target=\"_blank\" href=https://colab.research.google.com/notebooks/data_table.ipynb>data table notebook</a>'\n",
              "          + ' to learn more about interactive tables.';\n",
              "        element.innerHTML = '';\n",
              "        dataTable['output_type'] = 'display_data';\n",
              "        await google.colab.output.renderOutput(dataTable, element);\n",
              "        const docLink = document.createElement('div');\n",
              "        docLink.innerHTML = docLinkHtml;\n",
              "        element.appendChild(docLink);\n",
              "      }\n",
              "    </script>\n",
              "  </div>\n",
              "\n",
              "\n",
              "<div id=\"df-3aef42e0-ff23-4b88-8b49-5ade01126274\">\n",
              "  <button class=\"colab-df-quickchart\" onclick=\"quickchart('df-3aef42e0-ff23-4b88-8b49-5ade01126274')\"\n",
              "            title=\"Suggest charts\"\n",
              "            style=\"display:none;\">\n",
              "\n",
              "<svg xmlns=\"http://www.w3.org/2000/svg\" height=\"24px\"viewBox=\"0 0 24 24\"\n",
              "     width=\"24px\">\n",
              "    <g>\n",
              "        <path d=\"M19 3H5c-1.1 0-2 .9-2 2v14c0 1.1.9 2 2 2h14c1.1 0 2-.9 2-2V5c0-1.1-.9-2-2-2zM9 17H7v-7h2v7zm4 0h-2V7h2v10zm4 0h-2v-4h2v4z\"/>\n",
              "    </g>\n",
              "</svg>\n",
              "  </button>\n",
              "\n",
              "<style>\n",
              "  .colab-df-quickchart {\n",
              "      --bg-color: #E8F0FE;\n",
              "      --fill-color: #1967D2;\n",
              "      --hover-bg-color: #E2EBFA;\n",
              "      --hover-fill-color: #174EA6;\n",
              "      --disabled-fill-color: #AAA;\n",
              "      --disabled-bg-color: #DDD;\n",
              "  }\n",
              "\n",
              "  [theme=dark] .colab-df-quickchart {\n",
              "      --bg-color: #3B4455;\n",
              "      --fill-color: #D2E3FC;\n",
              "      --hover-bg-color: #434B5C;\n",
              "      --hover-fill-color: #FFFFFF;\n",
              "      --disabled-bg-color: #3B4455;\n",
              "      --disabled-fill-color: #666;\n",
              "  }\n",
              "\n",
              "  .colab-df-quickchart {\n",
              "    background-color: var(--bg-color);\n",
              "    border: none;\n",
              "    border-radius: 50%;\n",
              "    cursor: pointer;\n",
              "    display: none;\n",
              "    fill: var(--fill-color);\n",
              "    height: 32px;\n",
              "    padding: 0;\n",
              "    width: 32px;\n",
              "  }\n",
              "\n",
              "  .colab-df-quickchart:hover {\n",
              "    background-color: var(--hover-bg-color);\n",
              "    box-shadow: 0 1px 2px rgba(60, 64, 67, 0.3), 0 1px 3px 1px rgba(60, 64, 67, 0.15);\n",
              "    fill: var(--button-hover-fill-color);\n",
              "  }\n",
              "\n",
              "  .colab-df-quickchart-complete:disabled,\n",
              "  .colab-df-quickchart-complete:disabled:hover {\n",
              "    background-color: var(--disabled-bg-color);\n",
              "    fill: var(--disabled-fill-color);\n",
              "    box-shadow: none;\n",
              "  }\n",
              "\n",
              "  .colab-df-spinner {\n",
              "    border: 2px solid var(--fill-color);\n",
              "    border-color: transparent;\n",
              "    border-bottom-color: var(--fill-color);\n",
              "    animation:\n",
              "      spin 1s steps(1) infinite;\n",
              "  }\n",
              "\n",
              "  @keyframes spin {\n",
              "    0% {\n",
              "      border-color: transparent;\n",
              "      border-bottom-color: var(--fill-color);\n",
              "      border-left-color: var(--fill-color);\n",
              "    }\n",
              "    20% {\n",
              "      border-color: transparent;\n",
              "      border-left-color: var(--fill-color);\n",
              "      border-top-color: var(--fill-color);\n",
              "    }\n",
              "    30% {\n",
              "      border-color: transparent;\n",
              "      border-left-color: var(--fill-color);\n",
              "      border-top-color: var(--fill-color);\n",
              "      border-right-color: var(--fill-color);\n",
              "    }\n",
              "    40% {\n",
              "      border-color: transparent;\n",
              "      border-right-color: var(--fill-color);\n",
              "      border-top-color: var(--fill-color);\n",
              "    }\n",
              "    60% {\n",
              "      border-color: transparent;\n",
              "      border-right-color: var(--fill-color);\n",
              "    }\n",
              "    80% {\n",
              "      border-color: transparent;\n",
              "      border-right-color: var(--fill-color);\n",
              "      border-bottom-color: var(--fill-color);\n",
              "    }\n",
              "    90% {\n",
              "      border-color: transparent;\n",
              "      border-bottom-color: var(--fill-color);\n",
              "    }\n",
              "  }\n",
              "</style>\n",
              "\n",
              "  <script>\n",
              "    async function quickchart(key) {\n",
              "      const quickchartButtonEl =\n",
              "        document.querySelector('#' + key + ' button');\n",
              "      quickchartButtonEl.disabled = true;  // To prevent multiple clicks.\n",
              "      quickchartButtonEl.classList.add('colab-df-spinner');\n",
              "      try {\n",
              "        const charts = await google.colab.kernel.invokeFunction(\n",
              "            'suggestCharts', [key], {});\n",
              "      } catch (error) {\n",
              "        console.error('Error during call to suggestCharts:', error);\n",
              "      }\n",
              "      quickchartButtonEl.classList.remove('colab-df-spinner');\n",
              "      quickchartButtonEl.classList.add('colab-df-quickchart-complete');\n",
              "    }\n",
              "    (() => {\n",
              "      let quickchartButtonEl =\n",
              "        document.querySelector('#df-3aef42e0-ff23-4b88-8b49-5ade01126274 button');\n",
              "      quickchartButtonEl.style.display =\n",
              "        google.colab.kernel.accessAllowed ? 'block' : 'none';\n",
              "    })();\n",
              "  </script>\n",
              "</div>\n",
              "\n",
              "    </div>\n",
              "  </div>\n"
            ],
            "application/vnd.google.colaboratory.intrinsic+json": {
              "type": "dataframe",
              "variable_name": "train",
              "summary": "{\n  \"name\": \"train\",\n  \"rows\": 15154,\n  \"fields\": [\n    {\n      \"column\": \"Id\",\n      \"properties\": {\n        \"dtype\": \"number\",\n        \"std\": 4390,\n        \"min\": 1,\n        \"max\": 15211,\n        \"num_unique_values\": 15154,\n        \"samples\": [\n          7377,\n          10375,\n          15047\n        ],\n        \"semantic_type\": \"\",\n        \"description\": \"\"\n      }\n    },\n    {\n      \"column\": \"dteday\",\n      \"properties\": {\n        \"dtype\": \"number\",\n        \"std\": 158811.14459570695,\n        \"min\": 12938400.0,\n        \"max\": 13489632.0,\n        \"num_unique_values\": 639,\n        \"samples\": [\n          13012704.0,\n          13243392.0,\n          13430880.0\n        ],\n        \"semantic_type\": \"\",\n        \"description\": \"\"\n      }\n    },\n    {\n      \"column\": \"season\",\n      \"properties\": {\n        \"dtype\": \"category\",\n        \"num_unique_values\": 4,\n        \"samples\": [\n          \"Spring\",\n          \"Fall\",\n          \"Winter\"\n        ],\n        \"semantic_type\": \"\",\n        \"description\": \"\"\n      }\n    },\n    {\n      \"column\": \"yr\",\n      \"properties\": {\n        \"dtype\": \"number\",\n        \"std\": 0.49540216223821426,\n        \"min\": 2011.0,\n        \"max\": 2012.0,\n        \"num_unique_values\": 2,\n        \"samples\": [\n          2012.0,\n          2011.0\n        ],\n        \"semantic_type\": \"\",\n        \"description\": \"\"\n      }\n    },\n    {\n      \"column\": \"mnth\",\n      \"properties\": {\n        \"dtype\": \"category\",\n        \"num_unique_values\": 12,\n        \"samples\": [\n          \"November\",\n          \"October\"\n        ],\n        \"semantic_type\": \"\",\n        \"description\": \"\"\n      }\n    },\n    {\n      \"column\": \"hr\",\n      \"properties\": {\n        \"dtype\": \"number\",\n        \"std\": 6.913264034324421,\n        \"min\": 0.0,\n        \"max\": 23.0,\n        \"num_unique_values\": 24,\n        \"samples\": [\n          8.0,\n          16.0\n        ],\n        \"semantic_type\": \"\",\n        \"description\": \"\"\n      }\n    },\n    {\n      \"column\": \"holiday\",\n      \"properties\": {\n        \"dtype\": \"category\",\n        \"num_unique_values\": 2,\n        \"samples\": [\n          \"Yes\",\n          \"No\"\n        ],\n        \"semantic_type\": \"\",\n        \"description\": \"\"\n      }\n    },\n    {\n      \"column\": \"weekday\",\n      \"properties\": {\n        \"dtype\": \"category\",\n        \"num_unique_values\": 7,\n        \"samples\": [\n          \"Saturday\",\n          \"Sunday\"\n        ],\n        \"semantic_type\": \"\",\n        \"description\": \"\"\n      }\n    },\n    {\n      \"column\": \"workingday\",\n      \"properties\": {\n        \"dtype\": \"category\",\n        \"num_unique_values\": 2,\n        \"samples\": [\n          \"Yes\",\n          \"No\"\n        ],\n        \"semantic_type\": \"\",\n        \"description\": \"\"\n      }\n    },\n    {\n      \"column\": \"weathersit\",\n      \"properties\": {\n        \"dtype\": \"category\",\n        \"num_unique_values\": 4,\n        \"samples\": [\n          \"Mist + Cloudy, Mist + Broken clouds, Mist + Few clouds, Mist\",\n          \"Heavy Rain + Ice Pallets + Thunderstorm + Mist, Snow + Fog\"\n        ],\n        \"semantic_type\": \"\",\n        \"description\": \"\"\n      }\n    },\n    {\n      \"column\": \"temp\",\n      \"properties\": {\n        \"dtype\": \"number\",\n        \"std\": 0.19585348298689664,\n        \"min\": 0.02,\n        \"max\": 1.0,\n        \"num_unique_values\": 50,\n        \"samples\": [\n          0.16,\n          0.82\n        ],\n        \"semantic_type\": \"\",\n        \"description\": \"\"\n      }\n    },\n    {\n      \"column\": \"atemp\",\n      \"properties\": {\n        \"dtype\": \"number\",\n        \"std\": 0.17474645892053275,\n        \"min\": 0.0,\n        \"max\": 1.0,\n        \"num_unique_values\": 65,\n        \"samples\": [\n          0.7879,\n          0.9242\n        ],\n        \"semantic_type\": \"\",\n        \"description\": \"\"\n      }\n    },\n    {\n      \"column\": \"hum\",\n      \"properties\": {\n        \"dtype\": \"number\",\n        \"std\": 0.19573957294187552,\n        \"min\": 0.0,\n        \"max\": 1.0,\n        \"num_unique_values\": 89,\n        \"samples\": [\n          0.29,\n          0.61\n        ],\n        \"semantic_type\": \"\",\n        \"description\": \"\"\n      }\n    },\n    {\n      \"column\": \"windspeed\",\n      \"properties\": {\n        \"dtype\": \"number\",\n        \"std\": 0.12237570193607153,\n        \"min\": 0.0,\n        \"max\": 0.8507,\n        \"num_unique_values\": 30,\n        \"samples\": [\n          0.8507,\n          0.4925\n        ],\n        \"semantic_type\": \"\",\n        \"description\": \"\"\n      }\n    },\n    {\n      \"column\": \"cnt\",\n      \"properties\": {\n        \"dtype\": \"number\",\n        \"std\": 177,\n        \"min\": 1,\n        \"max\": 977,\n        \"num_unique_values\": 842,\n        \"samples\": [\n          540,\n          282\n        ],\n        \"semantic_type\": \"\",\n        \"description\": \"\"\n      }\n    }\n  ]\n}"
            }
          },
          "metadata": {},
          "execution_count": 19
        }
      ]
    },
    {
      "cell_type": "code",
      "source": [
        "train.tail()"
      ],
      "metadata": {
        "colab": {
          "base_uri": "https://localhost:8080/",
          "height": 374
        },
        "id": "Bciy1vZcOSyi",
        "outputId": "24c49b76-f1b3-486d-970a-ba3910ce3761"
      },
      "execution_count": null,
      "outputs": [
        {
          "output_type": "execute_result",
          "data": {
            "text/plain": [
              "          Id      dteday season      yr       mnth    hr holiday weekday  \\\n",
              "15206  15207  13489632.0   Fall  2012.0  September  19.0      No  Sunday   \n",
              "15207  15208  13489632.0   Fall  2012.0  September  20.0      No  Sunday   \n",
              "15208  15209  13489632.0   Fall  2012.0  September  21.0      No  Sunday   \n",
              "15209  15210  13489632.0   Fall  2012.0  September  22.0      No  Sunday   \n",
              "15210  15211  13489632.0   Fall  2012.0  September  23.0      No  Sunday   \n",
              "\n",
              "      workingday                                         weathersit  temp  \\\n",
              "15206         No  Light Snow, Light Rain + Thunderstorm + Scatte...  0.50   \n",
              "15207         No  Light Snow, Light Rain + Thunderstorm + Scatte...  0.50   \n",
              "15208         No    Clear, Few clouds, Partly cloudy, Partly cloudy  0.50   \n",
              "15209         No    Clear, Few clouds, Partly cloudy, Partly cloudy  0.48   \n",
              "15210         No    Clear, Few clouds, Partly cloudy, Partly cloudy  0.48   \n",
              "\n",
              "        atemp   hum  windspeed  cnt  \n",
              "15206  0.4848  0.72     0.1343  257  \n",
              "15207  0.4848  0.72     0.1343  194  \n",
              "15208  0.4848  0.68     0.0000  123  \n",
              "15209  0.4697  0.72     0.0000   91  \n",
              "15210  0.4697  0.72     0.0896   57  "
            ],
            "text/html": [
              "\n",
              "  <div id=\"df-c745bd0e-fa94-4778-9592-542a722fb725\" class=\"colab-df-container\">\n",
              "    <div>\n",
              "<style scoped>\n",
              "    .dataframe tbody tr th:only-of-type {\n",
              "        vertical-align: middle;\n",
              "    }\n",
              "\n",
              "    .dataframe tbody tr th {\n",
              "        vertical-align: top;\n",
              "    }\n",
              "\n",
              "    .dataframe thead th {\n",
              "        text-align: right;\n",
              "    }\n",
              "</style>\n",
              "<table border=\"1\" class=\"dataframe\">\n",
              "  <thead>\n",
              "    <tr style=\"text-align: right;\">\n",
              "      <th></th>\n",
              "      <th>Id</th>\n",
              "      <th>dteday</th>\n",
              "      <th>season</th>\n",
              "      <th>yr</th>\n",
              "      <th>mnth</th>\n",
              "      <th>hr</th>\n",
              "      <th>holiday</th>\n",
              "      <th>weekday</th>\n",
              "      <th>workingday</th>\n",
              "      <th>weathersit</th>\n",
              "      <th>temp</th>\n",
              "      <th>atemp</th>\n",
              "      <th>hum</th>\n",
              "      <th>windspeed</th>\n",
              "      <th>cnt</th>\n",
              "    </tr>\n",
              "  </thead>\n",
              "  <tbody>\n",
              "    <tr>\n",
              "      <th>15206</th>\n",
              "      <td>15207</td>\n",
              "      <td>13489632.0</td>\n",
              "      <td>Fall</td>\n",
              "      <td>2012.0</td>\n",
              "      <td>September</td>\n",
              "      <td>19.0</td>\n",
              "      <td>No</td>\n",
              "      <td>Sunday</td>\n",
              "      <td>No</td>\n",
              "      <td>Light Snow, Light Rain + Thunderstorm + Scatte...</td>\n",
              "      <td>0.50</td>\n",
              "      <td>0.4848</td>\n",
              "      <td>0.72</td>\n",
              "      <td>0.1343</td>\n",
              "      <td>257</td>\n",
              "    </tr>\n",
              "    <tr>\n",
              "      <th>15207</th>\n",
              "      <td>15208</td>\n",
              "      <td>13489632.0</td>\n",
              "      <td>Fall</td>\n",
              "      <td>2012.0</td>\n",
              "      <td>September</td>\n",
              "      <td>20.0</td>\n",
              "      <td>No</td>\n",
              "      <td>Sunday</td>\n",
              "      <td>No</td>\n",
              "      <td>Light Snow, Light Rain + Thunderstorm + Scatte...</td>\n",
              "      <td>0.50</td>\n",
              "      <td>0.4848</td>\n",
              "      <td>0.72</td>\n",
              "      <td>0.1343</td>\n",
              "      <td>194</td>\n",
              "    </tr>\n",
              "    <tr>\n",
              "      <th>15208</th>\n",
              "      <td>15209</td>\n",
              "      <td>13489632.0</td>\n",
              "      <td>Fall</td>\n",
              "      <td>2012.0</td>\n",
              "      <td>September</td>\n",
              "      <td>21.0</td>\n",
              "      <td>No</td>\n",
              "      <td>Sunday</td>\n",
              "      <td>No</td>\n",
              "      <td>Clear, Few clouds, Partly cloudy, Partly cloudy</td>\n",
              "      <td>0.50</td>\n",
              "      <td>0.4848</td>\n",
              "      <td>0.68</td>\n",
              "      <td>0.0000</td>\n",
              "      <td>123</td>\n",
              "    </tr>\n",
              "    <tr>\n",
              "      <th>15209</th>\n",
              "      <td>15210</td>\n",
              "      <td>13489632.0</td>\n",
              "      <td>Fall</td>\n",
              "      <td>2012.0</td>\n",
              "      <td>September</td>\n",
              "      <td>22.0</td>\n",
              "      <td>No</td>\n",
              "      <td>Sunday</td>\n",
              "      <td>No</td>\n",
              "      <td>Clear, Few clouds, Partly cloudy, Partly cloudy</td>\n",
              "      <td>0.48</td>\n",
              "      <td>0.4697</td>\n",
              "      <td>0.72</td>\n",
              "      <td>0.0000</td>\n",
              "      <td>91</td>\n",
              "    </tr>\n",
              "    <tr>\n",
              "      <th>15210</th>\n",
              "      <td>15211</td>\n",
              "      <td>13489632.0</td>\n",
              "      <td>Fall</td>\n",
              "      <td>2012.0</td>\n",
              "      <td>September</td>\n",
              "      <td>23.0</td>\n",
              "      <td>No</td>\n",
              "      <td>Sunday</td>\n",
              "      <td>No</td>\n",
              "      <td>Clear, Few clouds, Partly cloudy, Partly cloudy</td>\n",
              "      <td>0.48</td>\n",
              "      <td>0.4697</td>\n",
              "      <td>0.72</td>\n",
              "      <td>0.0896</td>\n",
              "      <td>57</td>\n",
              "    </tr>\n",
              "  </tbody>\n",
              "</table>\n",
              "</div>\n",
              "    <div class=\"colab-df-buttons\">\n",
              "\n",
              "  <div class=\"colab-df-container\">\n",
              "    <button class=\"colab-df-convert\" onclick=\"convertToInteractive('df-c745bd0e-fa94-4778-9592-542a722fb725')\"\n",
              "            title=\"Convert this dataframe to an interactive table.\"\n",
              "            style=\"display:none;\">\n",
              "\n",
              "  <svg xmlns=\"http://www.w3.org/2000/svg\" height=\"24px\" viewBox=\"0 -960 960 960\">\n",
              "    <path d=\"M120-120v-720h720v720H120Zm60-500h600v-160H180v160Zm220 220h160v-160H400v160Zm0 220h160v-160H400v160ZM180-400h160v-160H180v160Zm440 0h160v-160H620v160ZM180-180h160v-160H180v160Zm440 0h160v-160H620v160Z\"/>\n",
              "  </svg>\n",
              "    </button>\n",
              "\n",
              "  <style>\n",
              "    .colab-df-container {\n",
              "      display:flex;\n",
              "      gap: 12px;\n",
              "    }\n",
              "\n",
              "    .colab-df-convert {\n",
              "      background-color: #E8F0FE;\n",
              "      border: none;\n",
              "      border-radius: 50%;\n",
              "      cursor: pointer;\n",
              "      display: none;\n",
              "      fill: #1967D2;\n",
              "      height: 32px;\n",
              "      padding: 0 0 0 0;\n",
              "      width: 32px;\n",
              "    }\n",
              "\n",
              "    .colab-df-convert:hover {\n",
              "      background-color: #E2EBFA;\n",
              "      box-shadow: 0px 1px 2px rgba(60, 64, 67, 0.3), 0px 1px 3px 1px rgba(60, 64, 67, 0.15);\n",
              "      fill: #174EA6;\n",
              "    }\n",
              "\n",
              "    .colab-df-buttons div {\n",
              "      margin-bottom: 4px;\n",
              "    }\n",
              "\n",
              "    [theme=dark] .colab-df-convert {\n",
              "      background-color: #3B4455;\n",
              "      fill: #D2E3FC;\n",
              "    }\n",
              "\n",
              "    [theme=dark] .colab-df-convert:hover {\n",
              "      background-color: #434B5C;\n",
              "      box-shadow: 0px 1px 3px 1px rgba(0, 0, 0, 0.15);\n",
              "      filter: drop-shadow(0px 1px 2px rgba(0, 0, 0, 0.3));\n",
              "      fill: #FFFFFF;\n",
              "    }\n",
              "  </style>\n",
              "\n",
              "    <script>\n",
              "      const buttonEl =\n",
              "        document.querySelector('#df-c745bd0e-fa94-4778-9592-542a722fb725 button.colab-df-convert');\n",
              "      buttonEl.style.display =\n",
              "        google.colab.kernel.accessAllowed ? 'block' : 'none';\n",
              "\n",
              "      async function convertToInteractive(key) {\n",
              "        const element = document.querySelector('#df-c745bd0e-fa94-4778-9592-542a722fb725');\n",
              "        const dataTable =\n",
              "          await google.colab.kernel.invokeFunction('convertToInteractive',\n",
              "                                                    [key], {});\n",
              "        if (!dataTable) return;\n",
              "\n",
              "        const docLinkHtml = 'Like what you see? Visit the ' +\n",
              "          '<a target=\"_blank\" href=https://colab.research.google.com/notebooks/data_table.ipynb>data table notebook</a>'\n",
              "          + ' to learn more about interactive tables.';\n",
              "        element.innerHTML = '';\n",
              "        dataTable['output_type'] = 'display_data';\n",
              "        await google.colab.output.renderOutput(dataTable, element);\n",
              "        const docLink = document.createElement('div');\n",
              "        docLink.innerHTML = docLinkHtml;\n",
              "        element.appendChild(docLink);\n",
              "      }\n",
              "    </script>\n",
              "  </div>\n",
              "\n",
              "\n",
              "<div id=\"df-8eec32d9-0861-4b00-b5d4-0f3f8125015c\">\n",
              "  <button class=\"colab-df-quickchart\" onclick=\"quickchart('df-8eec32d9-0861-4b00-b5d4-0f3f8125015c')\"\n",
              "            title=\"Suggest charts\"\n",
              "            style=\"display:none;\">\n",
              "\n",
              "<svg xmlns=\"http://www.w3.org/2000/svg\" height=\"24px\"viewBox=\"0 0 24 24\"\n",
              "     width=\"24px\">\n",
              "    <g>\n",
              "        <path d=\"M19 3H5c-1.1 0-2 .9-2 2v14c0 1.1.9 2 2 2h14c1.1 0 2-.9 2-2V5c0-1.1-.9-2-2-2zM9 17H7v-7h2v7zm4 0h-2V7h2v10zm4 0h-2v-4h2v4z\"/>\n",
              "    </g>\n",
              "</svg>\n",
              "  </button>\n",
              "\n",
              "<style>\n",
              "  .colab-df-quickchart {\n",
              "      --bg-color: #E8F0FE;\n",
              "      --fill-color: #1967D2;\n",
              "      --hover-bg-color: #E2EBFA;\n",
              "      --hover-fill-color: #174EA6;\n",
              "      --disabled-fill-color: #AAA;\n",
              "      --disabled-bg-color: #DDD;\n",
              "  }\n",
              "\n",
              "  [theme=dark] .colab-df-quickchart {\n",
              "      --bg-color: #3B4455;\n",
              "      --fill-color: #D2E3FC;\n",
              "      --hover-bg-color: #434B5C;\n",
              "      --hover-fill-color: #FFFFFF;\n",
              "      --disabled-bg-color: #3B4455;\n",
              "      --disabled-fill-color: #666;\n",
              "  }\n",
              "\n",
              "  .colab-df-quickchart {\n",
              "    background-color: var(--bg-color);\n",
              "    border: none;\n",
              "    border-radius: 50%;\n",
              "    cursor: pointer;\n",
              "    display: none;\n",
              "    fill: var(--fill-color);\n",
              "    height: 32px;\n",
              "    padding: 0;\n",
              "    width: 32px;\n",
              "  }\n",
              "\n",
              "  .colab-df-quickchart:hover {\n",
              "    background-color: var(--hover-bg-color);\n",
              "    box-shadow: 0 1px 2px rgba(60, 64, 67, 0.3), 0 1px 3px 1px rgba(60, 64, 67, 0.15);\n",
              "    fill: var(--button-hover-fill-color);\n",
              "  }\n",
              "\n",
              "  .colab-df-quickchart-complete:disabled,\n",
              "  .colab-df-quickchart-complete:disabled:hover {\n",
              "    background-color: var(--disabled-bg-color);\n",
              "    fill: var(--disabled-fill-color);\n",
              "    box-shadow: none;\n",
              "  }\n",
              "\n",
              "  .colab-df-spinner {\n",
              "    border: 2px solid var(--fill-color);\n",
              "    border-color: transparent;\n",
              "    border-bottom-color: var(--fill-color);\n",
              "    animation:\n",
              "      spin 1s steps(1) infinite;\n",
              "  }\n",
              "\n",
              "  @keyframes spin {\n",
              "    0% {\n",
              "      border-color: transparent;\n",
              "      border-bottom-color: var(--fill-color);\n",
              "      border-left-color: var(--fill-color);\n",
              "    }\n",
              "    20% {\n",
              "      border-color: transparent;\n",
              "      border-left-color: var(--fill-color);\n",
              "      border-top-color: var(--fill-color);\n",
              "    }\n",
              "    30% {\n",
              "      border-color: transparent;\n",
              "      border-left-color: var(--fill-color);\n",
              "      border-top-color: var(--fill-color);\n",
              "      border-right-color: var(--fill-color);\n",
              "    }\n",
              "    40% {\n",
              "      border-color: transparent;\n",
              "      border-right-color: var(--fill-color);\n",
              "      border-top-color: var(--fill-color);\n",
              "    }\n",
              "    60% {\n",
              "      border-color: transparent;\n",
              "      border-right-color: var(--fill-color);\n",
              "    }\n",
              "    80% {\n",
              "      border-color: transparent;\n",
              "      border-right-color: var(--fill-color);\n",
              "      border-bottom-color: var(--fill-color);\n",
              "    }\n",
              "    90% {\n",
              "      border-color: transparent;\n",
              "      border-bottom-color: var(--fill-color);\n",
              "    }\n",
              "  }\n",
              "</style>\n",
              "\n",
              "  <script>\n",
              "    async function quickchart(key) {\n",
              "      const quickchartButtonEl =\n",
              "        document.querySelector('#' + key + ' button');\n",
              "      quickchartButtonEl.disabled = true;  // To prevent multiple clicks.\n",
              "      quickchartButtonEl.classList.add('colab-df-spinner');\n",
              "      try {\n",
              "        const charts = await google.colab.kernel.invokeFunction(\n",
              "            'suggestCharts', [key], {});\n",
              "      } catch (error) {\n",
              "        console.error('Error during call to suggestCharts:', error);\n",
              "      }\n",
              "      quickchartButtonEl.classList.remove('colab-df-spinner');\n",
              "      quickchartButtonEl.classList.add('colab-df-quickchart-complete');\n",
              "    }\n",
              "    (() => {\n",
              "      let quickchartButtonEl =\n",
              "        document.querySelector('#df-8eec32d9-0861-4b00-b5d4-0f3f8125015c button');\n",
              "      quickchartButtonEl.style.display =\n",
              "        google.colab.kernel.accessAllowed ? 'block' : 'none';\n",
              "    })();\n",
              "  </script>\n",
              "</div>\n",
              "\n",
              "    </div>\n",
              "  </div>\n"
            ],
            "application/vnd.google.colaboratory.intrinsic+json": {
              "type": "dataframe",
              "summary": "{\n  \"name\": \"train\",\n  \"rows\": 5,\n  \"fields\": [\n    {\n      \"column\": \"Id\",\n      \"properties\": {\n        \"dtype\": \"number\",\n        \"std\": 1,\n        \"min\": 15207,\n        \"max\": 15211,\n        \"num_unique_values\": 5,\n        \"samples\": [\n          15208,\n          15211,\n          15209\n        ],\n        \"semantic_type\": \"\",\n        \"description\": \"\"\n      }\n    },\n    {\n      \"column\": \"dteday\",\n      \"properties\": {\n        \"dtype\": \"number\",\n        \"std\": 0.0,\n        \"min\": 13489632.0,\n        \"max\": 13489632.0,\n        \"num_unique_values\": 1,\n        \"samples\": [\n          13489632.0\n        ],\n        \"semantic_type\": \"\",\n        \"description\": \"\"\n      }\n    },\n    {\n      \"column\": \"season\",\n      \"properties\": {\n        \"dtype\": \"category\",\n        \"num_unique_values\": 1,\n        \"samples\": [\n          \"Fall\"\n        ],\n        \"semantic_type\": \"\",\n        \"description\": \"\"\n      }\n    },\n    {\n      \"column\": \"yr\",\n      \"properties\": {\n        \"dtype\": \"number\",\n        \"std\": 0.0,\n        \"min\": 2012.0,\n        \"max\": 2012.0,\n        \"num_unique_values\": 1,\n        \"samples\": [\n          2012.0\n        ],\n        \"semantic_type\": \"\",\n        \"description\": \"\"\n      }\n    },\n    {\n      \"column\": \"mnth\",\n      \"properties\": {\n        \"dtype\": \"category\",\n        \"num_unique_values\": 1,\n        \"samples\": [\n          \"September\"\n        ],\n        \"semantic_type\": \"\",\n        \"description\": \"\"\n      }\n    },\n    {\n      \"column\": \"hr\",\n      \"properties\": {\n        \"dtype\": \"number\",\n        \"std\": 1.5811388300841898,\n        \"min\": 19.0,\n        \"max\": 23.0,\n        \"num_unique_values\": 5,\n        \"samples\": [\n          20.0\n        ],\n        \"semantic_type\": \"\",\n        \"description\": \"\"\n      }\n    },\n    {\n      \"column\": \"holiday\",\n      \"properties\": {\n        \"dtype\": \"category\",\n        \"num_unique_values\": 1,\n        \"samples\": [\n          \"No\"\n        ],\n        \"semantic_type\": \"\",\n        \"description\": \"\"\n      }\n    },\n    {\n      \"column\": \"weekday\",\n      \"properties\": {\n        \"dtype\": \"category\",\n        \"num_unique_values\": 1,\n        \"samples\": [\n          \"Sunday\"\n        ],\n        \"semantic_type\": \"\",\n        \"description\": \"\"\n      }\n    },\n    {\n      \"column\": \"workingday\",\n      \"properties\": {\n        \"dtype\": \"category\",\n        \"num_unique_values\": 1,\n        \"samples\": [\n          \"No\"\n        ],\n        \"semantic_type\": \"\",\n        \"description\": \"\"\n      }\n    },\n    {\n      \"column\": \"weathersit\",\n      \"properties\": {\n        \"dtype\": \"category\",\n        \"num_unique_values\": 2,\n        \"samples\": [\n          \"Clear, Few clouds, Partly cloudy, Partly cloudy\"\n        ],\n        \"semantic_type\": \"\",\n        \"description\": \"\"\n      }\n    },\n    {\n      \"column\": \"temp\",\n      \"properties\": {\n        \"dtype\": \"number\",\n        \"std\": 0.010954451150103331,\n        \"min\": 0.48,\n        \"max\": 0.5,\n        \"num_unique_values\": 2,\n        \"samples\": [\n          0.48\n        ],\n        \"semantic_type\": \"\",\n        \"description\": \"\"\n      }\n    },\n    {\n      \"column\": \"atemp\",\n      \"properties\": {\n        \"dtype\": \"number\",\n        \"std\": 0.00827061061832801,\n        \"min\": 0.4697,\n        \"max\": 0.4848,\n        \"num_unique_values\": 2,\n        \"samples\": [\n          0.4697\n        ],\n        \"semantic_type\": \"\",\n        \"description\": \"\"\n      }\n    },\n    {\n      \"column\": \"hum\",\n      \"properties\": {\n        \"dtype\": \"number\",\n        \"std\": 0.017888543819998284,\n        \"min\": 0.68,\n        \"max\": 0.72,\n        \"num_unique_values\": 2,\n        \"samples\": [\n          0.68\n        ],\n        \"semantic_type\": \"\",\n        \"description\": \"\"\n      }\n    },\n    {\n      \"column\": \"windspeed\",\n      \"properties\": {\n        \"dtype\": \"number\",\n        \"std\": 0.06789641374918119,\n        \"min\": 0.0,\n        \"max\": 0.1343,\n        \"num_unique_values\": 3,\n        \"samples\": [\n          0.1343\n        ],\n        \"semantic_type\": \"\",\n        \"description\": \"\"\n      }\n    },\n    {\n      \"column\": \"cnt\",\n      \"properties\": {\n        \"dtype\": \"number\",\n        \"std\": 80,\n        \"min\": 57,\n        \"max\": 257,\n        \"num_unique_values\": 5,\n        \"samples\": [\n          194\n        ],\n        \"semantic_type\": \"\",\n        \"description\": \"\"\n      }\n    }\n  ]\n}"
            }
          },
          "metadata": {},
          "execution_count": 161
        }
      ]
    },
    {
      "cell_type": "markdown",
      "source": [
        "## Visualization"
      ],
      "metadata": {
        "id": "ALBLLulFP94e"
      }
    },
    {
      "cell_type": "code",
      "source": [],
      "metadata": {
        "id": "-IdWjDeER68s"
      },
      "execution_count": null,
      "outputs": []
    },
    {
      "cell_type": "code",
      "source": [
        "train.cnt.hist()"
      ],
      "metadata": {
        "colab": {
          "base_uri": "https://localhost:8080/",
          "height": 447
        },
        "id": "FvBWBW7wP8kt",
        "outputId": "fccc1e4c-288b-41aa-adee-093655383770"
      },
      "execution_count": null,
      "outputs": [
        {
          "output_type": "execute_result",
          "data": {
            "text/plain": [
              "<Axes: >"
            ]
          },
          "metadata": {},
          "execution_count": 162
        },
        {
          "output_type": "display_data",
          "data": {
            "text/plain": [
              "<Figure size 640x480 with 1 Axes>"
            ],
            "image/png": "[encoded data removed]"
          },
          "metadata": {}
        }
      ]
    },
    {
      "cell_type": "code",
      "source": [
        "plt.hist(train.cnt ** 0.25)\n",
        "plt.show()"
      ],
      "metadata": {
        "colab": {
          "base_uri": "https://localhost:8080/",
          "height": 430
        },
        "id": "NEhpPvApRGOz",
        "outputId": "72493304-de4f-4e91-c0c6-847eaf917ece"
      },
      "execution_count": null,
      "outputs": [
        {
          "output_type": "display_data",
          "data": {
            "text/plain": [
              "<Figure size 640x480 with 1 Axes>"
            ],
            "image/png": "[encoded data removed]"
          },
          "metadata": {}
        }
      ]
    },
    {
      "cell_type": "markdown",
      "source": [
        "# Encoding\n",
        "\n",
        "- here the dteday is directly removed only having its freatures, mnth, weekday, ... representation in the data\n",
        "- may consider other ways of encoding the datetime object"
      ],
      "metadata": {
        "id": "ARi6Ho1zz24k"
      }
    },
    {
      "cell_type": "code",
      "source": [
        "train.astype({'season':'category', 'weekday':'category', 'weathersit':'category'})\n",
        "X = pd.get_dummies(train, drop_first=True).drop(['Id', 'cnt'], axis=1)\n",
        "y = train.cnt"
      ],
      "metadata": {
        "id": "oclXJtGEz2bk"
      },
      "execution_count": 20,
      "outputs": []
    },
    {
      "cell_type": "code",
      "source": [
        "test['dteday'] = test.dteday.astype('int')/1e11\n",
        "X_test = pd.get_dummies(pd.concat([train, test], axis=0), drop_first=True).drop(['Id', 'cnt'], axis=1)[-2168:]\n",
        "X_test.shape"
      ],
      "metadata": {
        "colab": {
          "base_uri": "https://localhost:8080/"
        },
        "id": "vNVsdlon87Iy",
        "outputId": "b776c813-c030-46fa-aee8-8f139a56b8e7"
      },
      "execution_count": 21,
      "outputs": [
        {
          "output_type": "execute_result",
          "data": {
            "text/plain": [
              "(2168, 32)"
            ]
          },
          "metadata": {},
          "execution_count": 21
        }
      ]
    },
    {
      "cell_type": "markdown",
      "metadata": {
        "id": "JhIIrZyESrGZ"
      },
      "source": [
        "# Modeling"
      ]
    },
    {
      "cell_type": "code",
      "source": [
        "X_train, X_val, y_train, y_val = train_test_split(X, y, test_size=0.2)\n",
        "X_train.shape, X_val.shape"
      ],
      "metadata": {
        "colab": {
          "base_uri": "https://localhost:8080/"
        },
        "id": "Oojhkdo14l5t",
        "outputId": "707ce663-0a70-405a-ddcb-b0343da816c6"
      },
      "execution_count": 22,
      "outputs": [
        {
          "output_type": "execute_result",
          "data": {
            "text/plain": [
              "((12123, 32), (3031, 32))"
            ]
          },
          "metadata": {},
          "execution_count": 22
        }
      ]
    },
    {
      "cell_type": "markdown",
      "source": [
        "### Preserve the most recent data for test/validation"
      ],
      "metadata": {
        "id": "YMcUyUHFaugt"
      }
    },
    {
      "cell_type": "code",
      "source": [
        "val_size = int(len(X) * 0.2)\n",
        "X_train2, X_val2 = X[:-val_size], X[-val_size:]\n",
        "y_train2, y_val2 = y[:-val_size], y[-val_size:]\n",
        "X_train2.shape, X_val2.shape"
      ],
      "metadata": {
        "colab": {
          "base_uri": "https://localhost:8080/"
        },
        "id": "midzCktmjL_1",
        "outputId": "4e368c76-cbd5-4457-ee8b-5542b15fa51d"
      },
      "execution_count": 23,
      "outputs": [
        {
          "output_type": "execute_result",
          "data": {
            "text/plain": [
              "((12124, 32), (3030, 32))"
            ]
          },
          "metadata": {},
          "execution_count": 23
        }
      ]
    },
    {
      "cell_type": "markdown",
      "metadata": {
        "id": "ckVRxj4QS25d"
      },
      "source": [
        "## Linear Models"
      ]
    },
    {
      "cell_type": "code",
      "execution_count": null,
      "metadata": {
        "id": "z9doDnrUSLWM"
      },
      "outputs": [],
      "source": [
        "# linear regression\n",
        "from sklearn.linear_model import LinearRegression\n",
        "lr = LinearRegression()\n",
        "lr.fit(X_train, y_train ** 0.25)\n",
        "y_pred = lr.predict(X_val) ** 4"
      ]
    },
    {
      "cell_type": "code",
      "source": [
        "mean_absolute_error(y_val, y_pred)"
      ],
      "metadata": {
        "colab": {
          "base_uri": "https://localhost:8080/"
        },
        "id": "Ky7r1QzK5rBV",
        "outputId": "0280ce1d-98cb-46f0-c55e-95ac1e0bbfa1"
      },
      "execution_count": null,
      "outputs": [
        {
          "output_type": "execute_result",
          "data": {
            "text/plain": [
              "93.52285840107169"
            ]
          },
          "metadata": {},
          "execution_count": 124
        }
      ]
    },
    {
      "cell_type": "markdown",
      "source": [
        "## Ridge\n",
        "\n",
        "Try polynomials + regularization"
      ],
      "metadata": {
        "id": "Lg3D86CHLSif"
      }
    },
    {
      "cell_type": "code",
      "execution_count": null,
      "metadata": {
        "id": "zOkcKAmMYMjU"
      },
      "outputs": [],
      "source": [
        "# cv, plots appear in the class and seminar\n"
      ]
    },
    {
      "cell_type": "markdown",
      "source": [
        "## LASSO"
      ],
      "metadata": {
        "id": "uhiujlBZLXc8"
      }
    },
    {
      "cell_type": "code",
      "execution_count": null,
      "metadata": {
        "id": "EooipNQLYPkM"
      },
      "outputs": [],
      "source": [
        "# cv, plots appear in the class and seminar"
      ]
    },
    {
      "cell_type": "markdown",
      "source": [
        "## kNN"
      ],
      "metadata": {
        "id": "CKPSObV36I0T"
      }
    },
    {
      "cell_type": "code",
      "execution_count": null,
      "metadata": {
        "id": "zRnVSiWCX_qJ",
        "colab": {
          "base_uri": "https://localhost:8080/"
        },
        "outputId": "81161f42-93c1-4605-b07c-31f191ee53f9"
      },
      "outputs": [
        {
          "output_type": "execute_result",
          "data": {
            "text/plain": [
              "76.64087759815243"
            ]
          },
          "metadata": {},
          "execution_count": 58
        }
      ],
      "source": [
        "from sklearn.neighbors import KNeighborsRegressor\n",
        "pipe_knn = Pipeline([\n",
        "    ('scaler', StandardScaler()),\n",
        "    ('knn', KNeighborsRegressor(n_neighbors=4, metric='l1'))\n",
        "])\n",
        "pipe_knn.fit(X_train, y_train)\n",
        "mean_absolute_error(y_val, pipe_knn.predict(X_val))"
      ]
    },
    {
      "cell_type": "code",
      "source": [
        "# kNN with 80% earliest data\n",
        "from sklearn.neighbors import KNeighborsRegressor\n",
        "pipe_knn2 = Pipeline([\n",
        "    ('scaler', StandardScaler()),\n",
        "    ('knn', KNeighborsRegressor(n_neighbors=4, metric='l1'))\n",
        "])\n",
        "pipe_knn2.fit(X_train2, y_train2)\n",
        "mean_absolute_error(y_val2, pipe_knn2.predict(X_val2))"
      ],
      "metadata": {
        "colab": {
          "base_uri": "https://localhost:8080/"
        },
        "id": "CzvDep8kl6l1",
        "outputId": "fb945e0e-4d1a-4826-8f6d-085eb0d34c0a"
      },
      "execution_count": null,
      "outputs": [
        {
          "output_type": "execute_result",
          "data": {
            "text/plain": [
              "129.84051155115512"
            ]
          },
          "metadata": {},
          "execution_count": 38
        }
      ]
    },
    {
      "cell_type": "markdown",
      "source": [
        "#### CV to select k"
      ],
      "metadata": {
        "id": "WVAlp6ehLKwq"
      }
    },
    {
      "cell_type": "code",
      "source": [
        "from sklearn.model_selection import GridSearchCV\n",
        "knn = KNeighborsRegressor()\n",
        "param_grid = {'n_neighbors': np.arange(1, 200)}"
      ],
      "metadata": {
        "id": "g0UTlShmfFbq"
      },
      "execution_count": null,
      "outputs": []
    },
    {
      "cell_type": "code",
      "source": [
        "knnCV = GridSearchCV(estimator=knn, param_grid=param_grid, scoring=\"neg_mean_absolute_error\", cv=10)\n",
        "# Not shuffling to keep time dependency between obervations\n",
        "knnCV.fit(X_train2, y_train2)"
      ],
      "metadata": {
        "colab": {
          "base_uri": "https://localhost:8080/",
          "height": 170
        },
        "id": "pjb-cg8mi44W",
        "outputId": "b48872f3-daee-46ad-d52a-2d06d0340ae0"
      },
      "execution_count": null,
      "outputs": [
        {
          "output_type": "stream",
          "name": "stderr",
          "text": [
            "/usr/local/lib/python3.10/dist-packages/numpy/ma/core.py:2820: RuntimeWarning: invalid value encountered in cast\n",
            "  _data = np.array(data, dtype=dtype, copy=copy,\n"
          ]
        },
        {
          "output_type": "execute_result",
          "data": {
            "text/plain": [
              "GridSearchCV(cv=10, estimator=KNeighborsRegressor(),\n",
              "             param_grid={'n_neighbors': array([  1,   2,   3,   4,   5,   6,   7,   8,   9,  10,  11,  12,  13,\n",
              "        14,  15,  16,  17,  18,  19,  20,  21,  22,  23,  24,  25,  26,\n",
              "        27,  28,  29,  30,  31,  32,  33,  34,  35,  36,  37,  38,  39,\n",
              "        40,  41,  42,  43,  44,  45,  46,  47,  48,  49,  50,  51,  52,\n",
              "        53,  54,  55,  56,  57,  58,  59,  60,  61,  62,  63,  64,  65,\n",
              "        66,  67,  68,  69,  70,  71,  72,  73,  74,  75,  76,  77,  78,\n",
              "        79,  80,  81,  82,  83,  84,  85,  86,  87,  88,  89,  90,  91,\n",
              "        92...\n",
              "       118, 119, 120, 121, 122, 123, 124, 125, 126, 127, 128, 129, 130,\n",
              "       131, 132, 133, 134, 135, 136, 137, 138, 139, 140, 141, 142, 143,\n",
              "       144, 145, 146, 147, 148, 149, 150, 151, 152, 153, 154, 155, 156,\n",
              "       157, 158, 159, 160, 161, 162, 163, 164, 165, 166, 167, 168, 169,\n",
              "       170, 171, 172, 173, 174, 175, 176, 177, 178, 179, 180, 181, 182,\n",
              "       183, 184, 185, 186, 187, 188, 189, 190, 191, 192, 193, 194, 195,\n",
              "       196, 197, 198, 199])},\n",
              "             scoring='neg_mean_absolute_error')"
            ],
            "text/html": [
              "<style>#sk-container-id-3 {\n",
              "  /* Definition of color scheme common for light and dark mode */\n",
              "  --sklearn-color-text: black;\n",
              "  --sklearn-color-line: gray;\n",
              "  /* Definition of color scheme for unfitted estimators */\n",
              "  --sklearn-color-unfitted-level-0: #fff5e6;\n",
              "  --sklearn-color-unfitted-level-1: #f6e4d2;\n",
              "  --sklearn-color-unfitted-level-2: #ffe0b3;\n",
              "  --sklearn-color-unfitted-level-3: chocolate;\n",
              "  /* Definition of color scheme for fitted estimators */\n",
              "  --sklearn-color-fitted-level-0: #f0f8ff;\n",
              "  --sklearn-color-fitted-level-1: #d4ebff;\n",
              "  --sklearn-color-fitted-level-2: #b3dbfd;\n",
              "  --sklearn-color-fitted-level-3: cornflowerblue;\n",
              "\n",
              "  /* Specific color for light theme */\n",
              "  --sklearn-color-text-on-default-background: var(--sg-text-color, var(--theme-code-foreground, var(--jp-content-font-color1, black)));\n",
              "  --sklearn-color-background: var(--sg-background-color, var(--theme-background, var(--jp-layout-color0, white)));\n",
              "  --sklearn-color-border-box: var(--sg-text-color, var(--theme-code-foreground, var(--jp-content-font-color1, black)));\n",
              "  --sklearn-color-icon: #696969;\n",
              "\n",
              "  @media (prefers-color-scheme: dark) {\n",
              "    /* Redefinition of color scheme for dark theme */\n",
              "    --sklearn-color-text-on-default-background: var(--sg-text-color, var(--theme-code-foreground, var(--jp-content-font-color1, white)));\n",
              "    --sklearn-color-background: var(--sg-background-color, var(--theme-background, var(--jp-layout-color0, #111)));\n",
              "    --sklearn-color-border-box: var(--sg-text-color, var(--theme-code-foreground, var(--jp-content-font-color1, white)));\n",
              "    --sklearn-color-icon: #878787;\n",
              "  }\n",
              "}\n",
              "\n",
              "#sk-container-id-3 {\n",
              "  color: var(--sklearn-color-text);\n",
              "}\n",
              "\n",
              "#sk-container-id-3 pre {\n",
              "  padding: 0;\n",
              "}\n",
              "\n",
              "#sk-container-id-3 input.sk-hidden--visually {\n",
              "  border: 0;\n",
              "  clip: rect(1px 1px 1px 1px);\n",
              "  clip: rect(1px, 1px, 1px, 1px);\n",
              "  height: 1px;\n",
              "  margin: -1px;\n",
              "  overflow: hidden;\n",
              "  padding: 0;\n",
              "  position: absolute;\n",
              "  width: 1px;\n",
              "}\n",
              "\n",
              "#sk-container-id-3 div.sk-dashed-wrapped {\n",
              "  border: 1px dashed var(--sklearn-color-line);\n",
              "  margin: 0 0.4em 0.5em 0.4em;\n",
              "  box-sizing: border-box;\n",
              "  padding-bottom: 0.4em;\n",
              "  background-color: var(--sklearn-color-background);\n",
              "}\n",
              "\n",
              "#sk-container-id-3 div.sk-container {\n",
              "  /* jupyter's `normalize.less` sets `[hidden] { display: none; }`\n",
              "     but bootstrap.min.css set `[hidden] { display: none !important; }`\n",
              "     so we also need the `!important` here to be able to override the\n",
              "     default hidden behavior on the sphinx rendered scikit-learn.org.\n",
              "     See: https://github.com/scikit-learn/scikit-learn/issues/21755 */\n",
              "  display: inline-block !important;\n",
              "  position: relative;\n",
              "}\n",
              "\n",
              "#sk-container-id-3 div.sk-text-repr-fallback {\n",
              "  display: none;\n",
              "}\n",
              "\n",
              "div.sk-parallel-item,\n",
              "div.sk-serial,\n",
              "div.sk-item {\n",
              "  /* draw centered vertical line to link estimators */\n",
              "  background-image: linear-gradient(var(--sklearn-color-text-on-default-background), var(--sklearn-color-text-on-default-background));\n",
              "  background-size: 2px 100%;\n",
              "  background-repeat: no-repeat;\n",
              "  background-position: center center;\n",
              "}\n",
              "\n",
              "/* Parallel-specific style estimator block */\n",
              "\n",
              "#sk-container-id-3 div.sk-parallel-item::after {\n",
              "  content: \"\";\n",
              "  width: 100%;\n",
              "  border-bottom: 2px solid var(--sklearn-color-text-on-default-background);\n",
              "  flex-grow: 1;\n",
              "}\n",
              "\n",
              "#sk-container-id-3 div.sk-parallel {\n",
              "  display: flex;\n",
              "  align-items: stretch;\n",
              "  justify-content: center;\n",
              "  background-color: var(--sklearn-color-background);\n",
              "  position: relative;\n",
              "}\n",
              "\n",
              "#sk-container-id-3 div.sk-parallel-item {\n",
              "  display: flex;\n",
              "  flex-direction: column;\n",
              "}\n",
              "\n",
              "#sk-container-id-3 div.sk-parallel-item:first-child::after {\n",
              "  align-self: flex-end;\n",
              "  width: 50%;\n",
              "}\n",
              "\n",
              "#sk-container-id-3 div.sk-parallel-item:last-child::after {\n",
              "  align-self: flex-start;\n",
              "  width: 50%;\n",
              "}\n",
              "\n",
              "#sk-container-id-3 div.sk-parallel-item:only-child::after {\n",
              "  width: 0;\n",
              "}\n",
              "\n",
              "/* Serial-specific style estimator block */\n",
              "\n",
              "#sk-container-id-3 div.sk-serial {\n",
              "  display: flex;\n",
              "  flex-direction: column;\n",
              "  align-items: center;\n",
              "  background-color: var(--sklearn-color-background);\n",
              "  padding-right: 1em;\n",
              "  padding-left: 1em;\n",
              "}\n",
              "\n",
              "\n",
              "/* Toggleable style: style used for estimator/Pipeline/ColumnTransformer box that is\n",
              "clickable and can be expanded/collapsed.\n",
              "- Pipeline and ColumnTransformer use this feature and define the default style\n",
              "- Estimators will overwrite some part of the style using the `sk-estimator` class\n",
              "*/\n",
              "\n",
              "/* Pipeline and ColumnTransformer style (default) */\n",
              "\n",
              "#sk-container-id-3 div.sk-toggleable {\n",
              "  /* Default theme specific background. It is overwritten whether we have a\n",
              "  specific estimator or a Pipeline/ColumnTransformer */\n",
              "  background-color: var(--sklearn-color-background);\n",
              "}\n",
              "\n",
              "/* Toggleable label */\n",
              "#sk-container-id-3 label.sk-toggleable__label {\n",
              "  cursor: pointer;\n",
              "  display: block;\n",
              "  width: 100%;\n",
              "  margin-bottom: 0;\n",
              "  padding: 0.5em;\n",
              "  box-sizing: border-box;\n",
              "  text-align: center;\n",
              "}\n",
              "\n",
              "#sk-container-id-3 label.sk-toggleable__label-arrow:before {\n",
              "  /* Arrow on the left of the label */\n",
              "  content: \"▸\";\n",
              "  float: left;\n",
              "  margin-right: 0.25em;\n",
              "  color: var(--sklearn-color-icon);\n",
              "}\n",
              "\n",
              "#sk-container-id-3 label.sk-toggleable__label-arrow:hover:before {\n",
              "  color: var(--sklearn-color-text);\n",
              "}\n",
              "\n",
              "/* Toggleable content - dropdown */\n",
              "\n",
              "#sk-container-id-3 div.sk-toggleable__content {\n",
              "  max-height: 0;\n",
              "  max-width: 0;\n",
              "  overflow: hidden;\n",
              "  text-align: left;\n",
              "  /* unfitted */\n",
              "  background-color: var(--sklearn-color-unfitted-level-0);\n",
              "}\n",
              "\n",
              "#sk-container-id-3 div.sk-toggleable__content.fitted {\n",
              "  /* fitted */\n",
              "  background-color: var(--sklearn-color-fitted-level-0);\n",
              "}\n",
              "\n",
              "#sk-container-id-3 div.sk-toggleable__content pre {\n",
              "  margin: 0.2em;\n",
              "  border-radius: 0.25em;\n",
              "  color: var(--sklearn-color-text);\n",
              "  /* unfitted */\n",
              "  background-color: var(--sklearn-color-unfitted-level-0);\n",
              "}\n",
              "\n",
              "#sk-container-id-3 div.sk-toggleable__content.fitted pre {\n",
              "  /* unfitted */\n",
              "  background-color: var(--sklearn-color-fitted-level-0);\n",
              "}\n",
              "\n",
              "#sk-container-id-3 input.sk-toggleable__control:checked~div.sk-toggleable__content {\n",
              "  /* Expand drop-down */\n",
              "  max-height: 200px;\n",
              "  max-width: 100%;\n",
              "  overflow: auto;\n",
              "}\n",
              "\n",
              "#sk-container-id-3 input.sk-toggleable__control:checked~label.sk-toggleable__label-arrow:before {\n",
              "  content: \"▾\";\n",
              "}\n",
              "\n",
              "/* Pipeline/ColumnTransformer-specific style */\n",
              "\n",
              "#sk-container-id-3 div.sk-label input.sk-toggleable__control:checked~label.sk-toggleable__label {\n",
              "  color: var(--sklearn-color-text);\n",
              "  background-color: var(--sklearn-color-unfitted-level-2);\n",
              "}\n",
              "\n",
              "#sk-container-id-3 div.sk-label.fitted input.sk-toggleable__control:checked~label.sk-toggleable__label {\n",
              "  background-color: var(--sklearn-color-fitted-level-2);\n",
              "}\n",
              "\n",
              "/* Estimator-specific style */\n",
              "\n",
              "/* Colorize estimator box */\n",
              "#sk-container-id-3 div.sk-estimator input.sk-toggleable__control:checked~label.sk-toggleable__label {\n",
              "  /* unfitted */\n",
              "  background-color: var(--sklearn-color-unfitted-level-2);\n",
              "}\n",
              "\n",
              "#sk-container-id-3 div.sk-estimator.fitted input.sk-toggleable__control:checked~label.sk-toggleable__label {\n",
              "  /* fitted */\n",
              "  background-color: var(--sklearn-color-fitted-level-2);\n",
              "}\n",
              "\n",
              "#sk-container-id-3 div.sk-label label.sk-toggleable__label,\n",
              "#sk-container-id-3 div.sk-label label {\n",
              "  /* The background is the default theme color */\n",
              "  color: var(--sklearn-color-text-on-default-background);\n",
              "}\n",
              "\n",
              "/* On hover, darken the color of the background */\n",
              "#sk-container-id-3 div.sk-label:hover label.sk-toggleable__label {\n",
              "  color: var(--sklearn-color-text);\n",
              "  background-color: var(--sklearn-color-unfitted-level-2);\n",
              "}\n",
              "\n",
              "/* Label box, darken color on hover, fitted */\n",
              "#sk-container-id-3 div.sk-label.fitted:hover label.sk-toggleable__label.fitted {\n",
              "  color: var(--sklearn-color-text);\n",
              "  background-color: var(--sklearn-color-fitted-level-2);\n",
              "}\n",
              "\n",
              "/* Estimator label */\n",
              "\n",
              "#sk-container-id-3 div.sk-label label {\n",
              "  font-family: monospace;\n",
              "  font-weight: bold;\n",
              "  display: inline-block;\n",
              "  line-height: 1.2em;\n",
              "}\n",
              "\n",
              "#sk-container-id-3 div.sk-label-container {\n",
              "  text-align: center;\n",
              "}\n",
              "\n",
              "/* Estimator-specific */\n",
              "#sk-container-id-3 div.sk-estimator {\n",
              "  font-family: monospace;\n",
              "  border: 1px dotted var(--sklearn-color-border-box);\n",
              "  border-radius: 0.25em;\n",
              "  box-sizing: border-box;\n",
              "  margin-bottom: 0.5em;\n",
              "  /* unfitted */\n",
              "  background-color: var(--sklearn-color-unfitted-level-0);\n",
              "}\n",
              "\n",
              "#sk-container-id-3 div.sk-estimator.fitted {\n",
              "  /* fitted */\n",
              "  background-color: var(--sklearn-color-fitted-level-0);\n",
              "}\n",
              "\n",
              "/* on hover */\n",
              "#sk-container-id-3 div.sk-estimator:hover {\n",
              "  /* unfitted */\n",
              "  background-color: var(--sklearn-color-unfitted-level-2);\n",
              "}\n",
              "\n",
              "#sk-container-id-3 div.sk-estimator.fitted:hover {\n",
              "  /* fitted */\n",
              "  background-color: var(--sklearn-color-fitted-level-2);\n",
              "}\n",
              "\n",
              "/* Specification for estimator info (e.g. \"i\" and \"?\") */\n",
              "\n",
              "/* Common style for \"i\" and \"?\" */\n",
              "\n",
              ".sk-estimator-doc-link,\n",
              "a:link.sk-estimator-doc-link,\n",
              "a:visited.sk-estimator-doc-link {\n",
              "  float: right;\n",
              "  font-size: smaller;\n",
              "  line-height: 1em;\n",
              "  font-family: monospace;\n",
              "  background-color: var(--sklearn-color-background);\n",
              "  border-radius: 1em;\n",
              "  height: 1em;\n",
              "  width: 1em;\n",
              "  text-decoration: none !important;\n",
              "  margin-left: 1ex;\n",
              "  /* unfitted */\n",
              "  border: var(--sklearn-color-unfitted-level-1) 1pt solid;\n",
              "  color: var(--sklearn-color-unfitted-level-1);\n",
              "}\n",
              "\n",
              ".sk-estimator-doc-link.fitted,\n",
              "a:link.sk-estimator-doc-link.fitted,\n",
              "a:visited.sk-estimator-doc-link.fitted {\n",
              "  /* fitted */\n",
              "  border: var(--sklearn-color-fitted-level-1) 1pt solid;\n",
              "  color: var(--sklearn-color-fitted-level-1);\n",
              "}\n",
              "\n",
              "/* On hover */\n",
              "div.sk-estimator:hover .sk-estimator-doc-link:hover,\n",
              ".sk-estimator-doc-link:hover,\n",
              "div.sk-label-container:hover .sk-estimator-doc-link:hover,\n",
              ".sk-estimator-doc-link:hover {\n",
              "  /* unfitted */\n",
              "  background-color: var(--sklearn-color-unfitted-level-3);\n",
              "  color: var(--sklearn-color-background);\n",
              "  text-decoration: none;\n",
              "}\n",
              "\n",
              "div.sk-estimator.fitted:hover .sk-estimator-doc-link.fitted:hover,\n",
              ".sk-estimator-doc-link.fitted:hover,\n",
              "div.sk-label-container:hover .sk-estimator-doc-link.fitted:hover,\n",
              ".sk-estimator-doc-link.fitted:hover {\n",
              "  /* fitted */\n",
              "  background-color: var(--sklearn-color-fitted-level-3);\n",
              "  color: var(--sklearn-color-background);\n",
              "  text-decoration: none;\n",
              "}\n",
              "\n",
              "/* Span, style for the box shown on hovering the info icon */\n",
              ".sk-estimator-doc-link span {\n",
              "  display: none;\n",
              "  z-index: 9999;\n",
              "  position: relative;\n",
              "  font-weight: normal;\n",
              "  right: .2ex;\n",
              "  padding: .5ex;\n",
              "  margin: .5ex;\n",
              "  width: min-content;\n",
              "  min-width: 20ex;\n",
              "  max-width: 50ex;\n",
              "  color: var(--sklearn-color-text);\n",
              "  box-shadow: 2pt 2pt 4pt #999;\n",
              "  /* unfitted */\n",
              "  background: var(--sklearn-color-unfitted-level-0);\n",
              "  border: .5pt solid var(--sklearn-color-unfitted-level-3);\n",
              "}\n",
              "\n",
              ".sk-estimator-doc-link.fitted span {\n",
              "  /* fitted */\n",
              "  background: var(--sklearn-color-fitted-level-0);\n",
              "  border: var(--sklearn-color-fitted-level-3);\n",
              "}\n",
              "\n",
              ".sk-estimator-doc-link:hover span {\n",
              "  display: block;\n",
              "}\n",
              "\n",
              "/* \"?\"-specific style due to the `<a>` HTML tag */\n",
              "\n",
              "#sk-container-id-3 a.estimator_doc_link {\n",
              "  float: right;\n",
              "  font-size: 1rem;\n",
              "  line-height: 1em;\n",
              "  font-family: monospace;\n",
              "  background-color: var(--sklearn-color-background);\n",
              "  border-radius: 1rem;\n",
              "  height: 1rem;\n",
              "  width: 1rem;\n",
              "  text-decoration: none;\n",
              "  /* unfitted */\n",
              "  color: var(--sklearn-color-unfitted-level-1);\n",
              "  border: var(--sklearn-color-unfitted-level-1) 1pt solid;\n",
              "}\n",
              "\n",
              "#sk-container-id-3 a.estimator_doc_link.fitted {\n",
              "  /* fitted */\n",
              "  border: var(--sklearn-color-fitted-level-1) 1pt solid;\n",
              "  color: var(--sklearn-color-fitted-level-1);\n",
              "}\n",
              "\n",
              "/* On hover */\n",
              "#sk-container-id-3 a.estimator_doc_link:hover {\n",
              "  /* unfitted */\n",
              "  background-color: var(--sklearn-color-unfitted-level-3);\n",
              "  color: var(--sklearn-color-background);\n",
              "  text-decoration: none;\n",
              "}\n",
              "\n",
              "#sk-container-id-3 a.estimator_doc_link.fitted:hover {\n",
              "  /* fitted */\n",
              "  background-color: var(--sklearn-color-fitted-level-3);\n",
              "}\n",
              "</style><div id=\"sk-container-id-3\" class=\"sk-top-container\"><div class=\"sk-text-repr-fallback\"><pre>GridSearchCV(cv=10, estimator=KNeighborsRegressor(),\n",
              "             param_grid={&#x27;n_neighbors&#x27;: array([  1,   2,   3,   4,   5,   6,   7,   8,   9,  10,  11,  12,  13,\n",
              "        14,  15,  16,  17,  18,  19,  20,  21,  22,  23,  24,  25,  26,\n",
              "        27,  28,  29,  30,  31,  32,  33,  34,  35,  36,  37,  38,  39,\n",
              "        40,  41,  42,  43,  44,  45,  46,  47,  48,  49,  50,  51,  52,\n",
              "        53,  54,  55,  56,  57,  58,  59,  60,  61,  62,  63,  64,  65,\n",
              "        66,  67,  68,  69,  70,  71,  72,  73,  74,  75,  76,  77,  78,\n",
              "        79,  80,  81,  82,  83,  84,  85,  86,  87,  88,  89,  90,  91,\n",
              "        92...\n",
              "       118, 119, 120, 121, 122, 123, 124, 125, 126, 127, 128, 129, 130,\n",
              "       131, 132, 133, 134, 135, 136, 137, 138, 139, 140, 141, 142, 143,\n",
              "       144, 145, 146, 147, 148, 149, 150, 151, 152, 153, 154, 155, 156,\n",
              "       157, 158, 159, 160, 161, 162, 163, 164, 165, 166, 167, 168, 169,\n",
              "       170, 171, 172, 173, 174, 175, 176, 177, 178, 179, 180, 181, 182,\n",
              "       183, 184, 185, 186, 187, 188, 189, 190, 191, 192, 193, 194, 195,\n",
              "       196, 197, 198, 199])},\n",
              "             scoring=&#x27;neg_mean_absolute_error&#x27;)</pre><b>In a Jupyter environment, please rerun this cell to show the HTML representation or trust the notebook. <br />On GitHub, the HTML representation is unable to render, please try loading this page with nbviewer.org.</b></div><div class=\"sk-container\" hidden><div class=\"sk-item sk-dashed-wrapped\"><div class=\"sk-label-container\"><div class=\"sk-label fitted sk-toggleable\"><input class=\"sk-toggleable__control sk-hidden--visually\" id=\"sk-estimator-id-7\" type=\"checkbox\" ><label for=\"sk-estimator-id-7\" class=\"sk-toggleable__label fitted sk-toggleable__label-arrow fitted\">&nbsp;&nbsp;GridSearchCV<a class=\"sk-estimator-doc-link fitted\" rel=\"noreferrer\" target=\"_blank\" href=\"https://scikit-learn.org/1.5/modules/generated/sklearn.model_selection.GridSearchCV.html\">?<span>Documentation for GridSearchCV</span></a><span class=\"sk-estimator-doc-link fitted\">i<span>Fitted</span></span></label><div class=\"sk-toggleable__content fitted\"><pre>GridSearchCV(cv=10, estimator=KNeighborsRegressor(),\n",
              "             param_grid={&#x27;n_neighbors&#x27;: array([  1,   2,   3,   4,   5,   6,   7,   8,   9,  10,  11,  12,  13,\n",
              "        14,  15,  16,  17,  18,  19,  20,  21,  22,  23,  24,  25,  26,\n",
              "        27,  28,  29,  30,  31,  32,  33,  34,  35,  36,  37,  38,  39,\n",
              "        40,  41,  42,  43,  44,  45,  46,  47,  48,  49,  50,  51,  52,\n",
              "        53,  54,  55,  56,  57,  58,  59,  60,  61,  62,  63,  64,  65,\n",
              "        66,  67,  68,  69,  70,  71,  72,  73,  74,  75,  76,  77,  78,\n",
              "        79,  80,  81,  82,  83,  84,  85,  86,  87,  88,  89,  90,  91,\n",
              "        92...\n",
              "       118, 119, 120, 121, 122, 123, 124, 125, 126, 127, 128, 129, 130,\n",
              "       131, 132, 133, 134, 135, 136, 137, 138, 139, 140, 141, 142, 143,\n",
              "       144, 145, 146, 147, 148, 149, 150, 151, 152, 153, 154, 155, 156,\n",
              "       157, 158, 159, 160, 161, 162, 163, 164, 165, 166, 167, 168, 169,\n",
              "       170, 171, 172, 173, 174, 175, 176, 177, 178, 179, 180, 181, 182,\n",
              "       183, 184, 185, 186, 187, 188, 189, 190, 191, 192, 193, 194, 195,\n",
              "       196, 197, 198, 199])},\n",
              "             scoring=&#x27;neg_mean_absolute_error&#x27;)</pre></div> </div></div><div class=\"sk-parallel\"><div class=\"sk-parallel-item\"><div class=\"sk-item\"><div class=\"sk-label-container\"><div class=\"sk-label fitted sk-toggleable\"><input class=\"sk-toggleable__control sk-hidden--visually\" id=\"sk-estimator-id-8\" type=\"checkbox\" ><label for=\"sk-estimator-id-8\" class=\"sk-toggleable__label fitted sk-toggleable__label-arrow fitted\">best_estimator_: KNeighborsRegressor</label><div class=\"sk-toggleable__content fitted\"><pre>KNeighborsRegressor(n_neighbors=4)</pre></div> </div></div><div class=\"sk-serial\"><div class=\"sk-item\"><div class=\"sk-estimator fitted sk-toggleable\"><input class=\"sk-toggleable__control sk-hidden--visually\" id=\"sk-estimator-id-9\" type=\"checkbox\" ><label for=\"sk-estimator-id-9\" class=\"sk-toggleable__label fitted sk-toggleable__label-arrow fitted\">&nbsp;KNeighborsRegressor<a class=\"sk-estimator-doc-link fitted\" rel=\"noreferrer\" target=\"_blank\" href=\"https://scikit-learn.org/1.5/modules/generated/sklearn.neighbors.KNeighborsRegressor.html\">?<span>Documentation for KNeighborsRegressor</span></a></label><div class=\"sk-toggleable__content fitted\"><pre>KNeighborsRegressor(n_neighbors=4)</pre></div> </div></div></div></div></div></div></div></div></div>"
            ]
          },
          "metadata": {},
          "execution_count": 67
        }
      ]
    },
    {
      "cell_type": "code",
      "source": [
        "# Lowest MAE estimate\n",
        "resCV = knnCV.cv_results_\n",
        "test_MAEs = -resCV[\"mean_test_score\"]\n",
        "k_grid = resCV[\"param_n_neighbors\"].data"
      ],
      "metadata": {
        "id": "ucWTtUPVmSrU"
      },
      "execution_count": null,
      "outputs": []
    },
    {
      "cell_type": "code",
      "source": [
        "index_best = np.argmin(test_MAEs) # index of the k value with the lowest MAE estimate\n",
        "best_k = k_grid[index_best]\n",
        "best_k"
      ],
      "metadata": {
        "colab": {
          "base_uri": "https://localhost:8080/"
        },
        "id": "Buf4Bc24qvBu",
        "outputId": "d53517ff-f4bd-41c7-bab1-e5ca03609f10"
      },
      "execution_count": null,
      "outputs": [
        {
          "output_type": "execute_result",
          "data": {
            "text/plain": [
              "4"
            ]
          },
          "metadata": {},
          "execution_count": 69
        }
      ]
    },
    {
      "cell_type": "code",
      "source": [
        "# One standard error rule\n",
        "std_test_MAEs = resCV[\"std_test_score\"] / np.sqrt(knnCV.n_splits_)\n",
        "one_std_rule_best_k = np.max(k_grid[test_MAEs <= test_MAEs[index_best] + std_test_MAEs[index_best]])\n",
        "one_std_rule_best_k # Not stable..."
      ],
      "metadata": {
        "colab": {
          "base_uri": "https://localhost:8080/"
        },
        "id": "2gisuhg-r5cQ",
        "outputId": "fb616e1a-f17c-4987-de44-c4ac27b1c0a1"
      },
      "execution_count": null,
      "outputs": [
        {
          "output_type": "execute_result",
          "data": {
            "text/plain": [
              "199"
            ]
          },
          "metadata": {},
          "execution_count": 71
        }
      ]
    },
    {
      "cell_type": "markdown",
      "source": [
        "### Fit kNN with the best k"
      ],
      "metadata": {
        "id": "ao-YJNOmrb9n"
      }
    },
    {
      "cell_type": "code",
      "source": [
        "knn_bestk = KNeighborsRegressor(n_neighbors=best_k, metric='l1')\n",
        "knn_bestk.fit(X_train2, y_train2)\n",
        "mean_absolute_error(y_val2, knn_bestk.predict(X_val2))"
      ],
      "metadata": {
        "colab": {
          "base_uri": "https://localhost:8080/"
        },
        "id": "GxAh7enHrhJ1",
        "outputId": "947b28f7-de89-4a20-9a64-385592cb918b"
      },
      "execution_count": null,
      "outputs": [
        {
          "output_type": "execute_result",
          "data": {
            "text/plain": [
              "148.46336633663367"
            ]
          },
          "metadata": {},
          "execution_count": 73
        }
      ]
    },
    {
      "cell_type": "code",
      "source": [
        "knn_bestk = KNeighborsRegressor(n_neighbors=one_std_rule_best_k, metric='l1')\n",
        "knn_bestk.fit(X_train2, y_train2)\n",
        "mean_absolute_error(y_val2, knn_bestk.predict(X_val2))"
      ],
      "metadata": {
        "colab": {
          "base_uri": "https://localhost:8080/"
        },
        "id": "SNKaea1csXGH",
        "outputId": "8a1e38cc-5baa-4279-f16d-96678770d356"
      },
      "execution_count": null,
      "outputs": [
        {
          "output_type": "execute_result",
          "data": {
            "text/plain": [
              "182.70826243428365"
            ]
          },
          "metadata": {},
          "execution_count": 72
        }
      ]
    },
    {
      "cell_type": "markdown",
      "metadata": {
        "id": "ZTL8sB5CYjzv"
      },
      "source": [
        "## Tree-based Models\n",
        "\n",
        "1.   similar performance given by bagging and random forest\n",
        "2.   boosting seems not well performing, do cross validation to select learning rate and number of estimators\n",
        "\n"
      ]
    },
    {
      "cell_type": "code",
      "execution_count": 24,
      "metadata": {
        "id": "XdJ6WvjYYcGT"
      },
      "outputs": [],
      "source": [
        "from sklearn.tree import DecisionTreeRegressor\n",
        "from sklearn.ensemble import BaggingRegressor, RandomForestRegressor, GradientBoostingRegressor"
      ]
    },
    {
      "cell_type": "markdown",
      "source": [
        "### Random Forest and Bagging with Out-of-Bag CV\n",
        "\n",
        "- it's very slow to train the models based on MAE criterion due to the indeferentiability of the absolute error"
      ],
      "metadata": {
        "id": "Any5sk-SH8xa"
      }
    },
    {
      "cell_type": "code",
      "source": [
        "br = BaggingRegressor(DecisionTreeRegressor(), n_estimators=800, oob_score=True)\n",
        "br.fit(X, y**0.25)\n",
        "mean_absolute_error(y, br.oob_prediction_**4)"
      ],
      "metadata": {
        "colab": {
          "base_uri": "https://localhost:8080/"
        },
        "id": "EgUvJg3-6WSr",
        "outputId": "2c4c413e-56db-4355-bddb-cab648ff3737"
      },
      "execution_count": null,
      "outputs": [
        {
          "output_type": "execute_result",
          "data": {
            "text/plain": [
              "23.46985482818877"
            ]
          },
          "metadata": {},
          "execution_count": 184
        }
      ]
    },
    {
      "cell_type": "code",
      "source": [
        "rf = RandomForestRegressor(n_estimators=2000, max_features=0.6, oob_score=True, random_state=1) # m = p/3 for regression\n",
        "rf.fit(X, y**0.25)\n",
        "mean_absolute_error(y, rf.oob_prediction_**4)"
      ],
      "metadata": {
        "colab": {
          "base_uri": "https://localhost:8080/"
        },
        "id": "j5I0kYsmWy7J",
        "outputId": "5a96fa58-6346-4156-bcf6-c55bd541608f"
      },
      "execution_count": null,
      "outputs": [
        {
          "output_type": "execute_result",
          "data": {
            "text/plain": [
              "23.796968170142883"
            ]
          },
          "metadata": {},
          "execution_count": 62
        }
      ]
    },
    {
      "cell_type": "code",
      "source": [
        "\"\"\"\n",
        "oob_rf, oob_br = [], []\n",
        "\n",
        "for i in range(3,601):\n",
        "    rf.set_params(n_estimators=i)\n",
        "    rf.fit(X, y)\n",
        "    rf_mae = mean_absolute_error(y, rf.oob_prediction_)\n",
        "    oob_rf.append(rf_mae)\n",
        "\n",
        "    br.set_params(n_estimators=i)\n",
        "    br.fit(X, y)\n",
        "    br_mae = mean_absolute_error(y, br.oob_prediction_)\n",
        "    oob_br.append(br_mae)\n",
        "\n",
        "plt.plot(np.arange(3,601), oob_br, label=\"Tree bagging\")\n",
        "plt.plot(np.arange(3,601), oob_rf, label=\"Random Forest\")\n",
        "\"\"\"\n"
      ],
      "metadata": {
        "colab": {
          "base_uri": "https://localhost:8080/",
          "height": 1000
        },
        "id": "Dt7ofpZJFaty",
        "outputId": "39d41113-1ba7-46dd-8299-ea55cc0ab43e",
        "collapsed": true
      },
      "execution_count": null,
      "outputs": [
        {
          "output_type": "stream",
          "name": "stderr",
          "text": [
            "/usr/local/lib/python3.10/dist-packages/sklearn/ensemble/_forest.py:615: UserWarning: Some inputs do not have OOB scores. This probably means too few trees were used to compute any reliable OOB estimates.\n",
            "  warn(\n",
            "/usr/local/lib/python3.10/dist-packages/sklearn/ensemble/_bagging.py:1319: UserWarning: Some inputs do not have OOB scores. This probably means too few estimators were used to compute any reliable oob estimates.\n",
            "  warn(\n",
            "/usr/local/lib/python3.10/dist-packages/sklearn/ensemble/_forest.py:615: UserWarning: Some inputs do not have OOB scores. This probably means too few trees were used to compute any reliable OOB estimates.\n",
            "  warn(\n",
            "/usr/local/lib/python3.10/dist-packages/sklearn/ensemble/_bagging.py:1319: UserWarning: Some inputs do not have OOB scores. This probably means too few estimators were used to compute any reliable oob estimates.\n",
            "  warn(\n",
            "/usr/local/lib/python3.10/dist-packages/sklearn/ensemble/_forest.py:615: UserWarning: Some inputs do not have OOB scores. This probably means too few trees were used to compute any reliable OOB estimates.\n",
            "  warn(\n",
            "/usr/local/lib/python3.10/dist-packages/sklearn/ensemble/_bagging.py:1319: UserWarning: Some inputs do not have OOB scores. This probably means too few estimators were used to compute any reliable oob estimates.\n",
            "  warn(\n",
            "/usr/local/lib/python3.10/dist-packages/sklearn/ensemble/_forest.py:615: UserWarning: Some inputs do not have OOB scores. This probably means too few trees were used to compute any reliable OOB estimates.\n",
            "  warn(\n",
            "/usr/local/lib/python3.10/dist-packages/sklearn/ensemble/_bagging.py:1319: UserWarning: Some inputs do not have OOB scores. This probably means too few estimators were used to compute any reliable oob estimates.\n",
            "  warn(\n",
            "/usr/local/lib/python3.10/dist-packages/sklearn/ensemble/_forest.py:615: UserWarning: Some inputs do not have OOB scores. This probably means too few trees were used to compute any reliable OOB estimates.\n",
            "  warn(\n",
            "/usr/local/lib/python3.10/dist-packages/sklearn/ensemble/_bagging.py:1319: UserWarning: Some inputs do not have OOB scores. This probably means too few estimators were used to compute any reliable oob estimates.\n",
            "  warn(\n",
            "/usr/local/lib/python3.10/dist-packages/sklearn/ensemble/_forest.py:615: UserWarning: Some inputs do not have OOB scores. This probably means too few trees were used to compute any reliable OOB estimates.\n",
            "  warn(\n",
            "/usr/local/lib/python3.10/dist-packages/sklearn/ensemble/_bagging.py:1319: UserWarning: Some inputs do not have OOB scores. This probably means too few estimators were used to compute any reliable oob estimates.\n",
            "  warn(\n",
            "/usr/local/lib/python3.10/dist-packages/sklearn/ensemble/_forest.py:615: UserWarning: Some inputs do not have OOB scores. This probably means too few trees were used to compute any reliable OOB estimates.\n",
            "  warn(\n",
            "/usr/local/lib/python3.10/dist-packages/sklearn/ensemble/_bagging.py:1319: UserWarning: Some inputs do not have OOB scores. This probably means too few estimators were used to compute any reliable oob estimates.\n",
            "  warn(\n",
            "/usr/local/lib/python3.10/dist-packages/sklearn/ensemble/_forest.py:615: UserWarning: Some inputs do not have OOB scores. This probably means too few trees were used to compute any reliable OOB estimates.\n",
            "  warn(\n",
            "/usr/local/lib/python3.10/dist-packages/sklearn/ensemble/_bagging.py:1319: UserWarning: Some inputs do not have OOB scores. This probably means too few estimators were used to compute any reliable oob estimates.\n",
            "  warn(\n",
            "/usr/local/lib/python3.10/dist-packages/sklearn/ensemble/_forest.py:615: UserWarning: Some inputs do not have OOB scores. This probably means too few trees were used to compute any reliable OOB estimates.\n",
            "  warn(\n",
            "/usr/local/lib/python3.10/dist-packages/sklearn/ensemble/_bagging.py:1319: UserWarning: Some inputs do not have OOB scores. This probably means too few estimators were used to compute any reliable oob estimates.\n",
            "  warn(\n",
            "/usr/local/lib/python3.10/dist-packages/sklearn/ensemble/_forest.py:615: UserWarning: Some inputs do not have OOB scores. This probably means too few trees were used to compute any reliable OOB estimates.\n",
            "  warn(\n",
            "/usr/local/lib/python3.10/dist-packages/sklearn/ensemble/_bagging.py:1319: UserWarning: Some inputs do not have OOB scores. This probably means too few estimators were used to compute any reliable oob estimates.\n",
            "  warn(\n",
            "/usr/local/lib/python3.10/dist-packages/sklearn/ensemble/_forest.py:615: UserWarning: Some inputs do not have OOB scores. This probably means too few trees were used to compute any reliable OOB estimates.\n",
            "  warn(\n",
            "/usr/local/lib/python3.10/dist-packages/sklearn/ensemble/_bagging.py:1319: UserWarning: Some inputs do not have OOB scores. This probably means too few estimators were used to compute any reliable oob estimates.\n",
            "  warn(\n",
            "/usr/local/lib/python3.10/dist-packages/sklearn/ensemble/_forest.py:615: UserWarning: Some inputs do not have OOB scores. This probably means too few trees were used to compute any reliable OOB estimates.\n",
            "  warn(\n",
            "/usr/local/lib/python3.10/dist-packages/sklearn/ensemble/_bagging.py:1319: UserWarning: Some inputs do not have OOB scores. This probably means too few estimators were used to compute any reliable oob estimates.\n",
            "  warn(\n",
            "/usr/local/lib/python3.10/dist-packages/sklearn/ensemble/_forest.py:615: UserWarning: Some inputs do not have OOB scores. This probably means too few trees were used to compute any reliable OOB estimates.\n",
            "  warn(\n",
            "/usr/local/lib/python3.10/dist-packages/sklearn/ensemble/_bagging.py:1319: UserWarning: Some inputs do not have OOB scores. This probably means too few estimators were used to compute any reliable oob estimates.\n",
            "  warn(\n",
            "/usr/local/lib/python3.10/dist-packages/sklearn/ensemble/_forest.py:615: UserWarning: Some inputs do not have OOB scores. This probably means too few trees were used to compute any reliable OOB estimates.\n",
            "  warn(\n",
            "/usr/local/lib/python3.10/dist-packages/sklearn/ensemble/_bagging.py:1319: UserWarning: Some inputs do not have OOB scores. This probably means too few estimators were used to compute any reliable oob estimates.\n",
            "  warn(\n",
            "/usr/local/lib/python3.10/dist-packages/sklearn/ensemble/_forest.py:615: UserWarning: Some inputs do not have OOB scores. This probably means too few trees were used to compute any reliable OOB estimates.\n",
            "  warn(\n",
            "/usr/local/lib/python3.10/dist-packages/sklearn/ensemble/_bagging.py:1319: UserWarning: Some inputs do not have OOB scores. This probably means too few estimators were used to compute any reliable oob estimates.\n",
            "  warn(\n",
            "/usr/local/lib/python3.10/dist-packages/sklearn/ensemble/_forest.py:615: UserWarning: Some inputs do not have OOB scores. This probably means too few trees were used to compute any reliable OOB estimates.\n",
            "  warn(\n",
            "/usr/local/lib/python3.10/dist-packages/sklearn/ensemble/_bagging.py:1319: UserWarning: Some inputs do not have OOB scores. This probably means too few estimators were used to compute any reliable oob estimates.\n",
            "  warn(\n",
            "/usr/local/lib/python3.10/dist-packages/sklearn/ensemble/_forest.py:615: UserWarning: Some inputs do not have OOB scores. This probably means too few trees were used to compute any reliable OOB estimates.\n",
            "  warn(\n",
            "/usr/local/lib/python3.10/dist-packages/sklearn/ensemble/_bagging.py:1319: UserWarning: Some inputs do not have OOB scores. This probably means too few estimators were used to compute any reliable oob estimates.\n",
            "  warn(\n"
          ]
        },
        {
          "output_type": "error",
          "ename": "KeyboardInterrupt",
          "evalue": "",
          "traceback": [
            "\u001b[0;31m---------------------------------------------------------------------------\u001b[0m",
            "\u001b[0;31mKeyboardInterrupt\u001b[0m                         Traceback (most recent call last)",
            "\u001b[0;32m<ipython-input-109-15171e52796e>\u001b[0m in \u001b[0;36m<cell line: 3>\u001b[0;34m()\u001b[0m\n\u001b[1;32m      8\u001b[0m \u001b[0;34m\u001b[0m\u001b[0m\n\u001b[1;32m      9\u001b[0m     \u001b[0mbr\u001b[0m\u001b[0;34m.\u001b[0m\u001b[0mset_params\u001b[0m\u001b[0;34m(\u001b[0m\u001b[0mn_estimators\u001b[0m\u001b[0;34m=\u001b[0m\u001b[0mi\u001b[0m\u001b[0;34m)\u001b[0m\u001b[0;34m\u001b[0m\u001b[0;34m\u001b[0m\u001b[0m\n\u001b[0;32m---> 10\u001b[0;31m     \u001b[0mbr\u001b[0m\u001b[0;34m.\u001b[0m\u001b[0mfit\u001b[0m\u001b[0;34m(\u001b[0m\u001b[0mX\u001b[0m\u001b[0;34m,\u001b[0m \u001b[0my\u001b[0m\u001b[0;34m)\u001b[0m\u001b[0;34m\u001b[0m\u001b[0;34m\u001b[0m\u001b[0m\n\u001b[0m\u001b[1;32m     11\u001b[0m     \u001b[0mbr_mae\u001b[0m \u001b[0;34m=\u001b[0m \u001b[0mmean_absolute_error\u001b[0m\u001b[0;34m(\u001b[0m\u001b[0my\u001b[0m\u001b[0;34m,\u001b[0m \u001b[0mbr\u001b[0m\u001b[0;34m.\u001b[0m\u001b[0moob_prediction_\u001b[0m\u001b[0;34m)\u001b[0m\u001b[0;34m\u001b[0m\u001b[0;34m\u001b[0m\u001b[0m\n\u001b[1;32m     12\u001b[0m     \u001b[0moob_br\u001b[0m\u001b[0;34m.\u001b[0m\u001b[0mappend\u001b[0m\u001b[0;34m(\u001b[0m\u001b[0mbr_mae\u001b[0m\u001b[0;34m)\u001b[0m\u001b[0;34m\u001b[0m\u001b[0;34m\u001b[0m\u001b[0m\n",
            "\u001b[0;32m/usr/local/lib/python3.10/dist-packages/sklearn/utils/validation.py\u001b[0m in \u001b[0;36minner_f\u001b[0;34m(*args, **kwargs)\u001b[0m\n\u001b[1;32m     64\u001b[0m             \u001b[0mextra_args\u001b[0m \u001b[0;34m=\u001b[0m \u001b[0mlen\u001b[0m\u001b[0;34m(\u001b[0m\u001b[0margs\u001b[0m\u001b[0;34m)\u001b[0m \u001b[0;34m-\u001b[0m \u001b[0mlen\u001b[0m\u001b[0;34m(\u001b[0m\u001b[0mall_args\u001b[0m\u001b[0;34m)\u001b[0m\u001b[0;34m\u001b[0m\u001b[0;34m\u001b[0m\u001b[0m\n\u001b[1;32m     65\u001b[0m             \u001b[0;32mif\u001b[0m \u001b[0mextra_args\u001b[0m \u001b[0;34m<=\u001b[0m \u001b[0;36m0\u001b[0m\u001b[0;34m:\u001b[0m\u001b[0;34m\u001b[0m\u001b[0;34m\u001b[0m\u001b[0m\n\u001b[0;32m---> 66\u001b[0;31m                 \u001b[0;32mreturn\u001b[0m \u001b[0mf\u001b[0m\u001b[0;34m(\u001b[0m\u001b[0;34m*\u001b[0m\u001b[0margs\u001b[0m\u001b[0;34m,\u001b[0m \u001b[0;34m**\u001b[0m\u001b[0mkwargs\u001b[0m\u001b[0;34m)\u001b[0m\u001b[0;34m\u001b[0m\u001b[0;34m\u001b[0m\u001b[0m\n\u001b[0m\u001b[1;32m     67\u001b[0m \u001b[0;34m\u001b[0m\u001b[0m\n\u001b[1;32m     68\u001b[0m             \u001b[0;31m# extra_args > 0\u001b[0m\u001b[0;34m\u001b[0m\u001b[0;34m\u001b[0m\u001b[0m\n",
            "\u001b[0;32m/usr/local/lib/python3.10/dist-packages/sklearn/base.py\u001b[0m in \u001b[0;36mwrapper\u001b[0;34m(estimator, *args, **kwargs)\u001b[0m\n\u001b[1;32m   1471\u001b[0m                 )\n\u001b[1;32m   1472\u001b[0m             ):\n\u001b[0;32m-> 1473\u001b[0;31m                 \u001b[0;32mreturn\u001b[0m \u001b[0mfit_method\u001b[0m\u001b[0;34m(\u001b[0m\u001b[0mestimator\u001b[0m\u001b[0;34m,\u001b[0m \u001b[0;34m*\u001b[0m\u001b[0margs\u001b[0m\u001b[0;34m,\u001b[0m \u001b[0;34m**\u001b[0m\u001b[0mkwargs\u001b[0m\u001b[0;34m)\u001b[0m\u001b[0;34m\u001b[0m\u001b[0;34m\u001b[0m\u001b[0m\n\u001b[0m\u001b[1;32m   1474\u001b[0m \u001b[0;34m\u001b[0m\u001b[0m\n\u001b[1;32m   1475\u001b[0m         \u001b[0;32mreturn\u001b[0m \u001b[0mwrapper\u001b[0m\u001b[0;34m\u001b[0m\u001b[0;34m\u001b[0m\u001b[0m\n",
            "\u001b[0;32m/usr/local/lib/python3.10/dist-packages/sklearn/ensemble/_bagging.py\u001b[0m in \u001b[0;36mfit\u001b[0;34m(self, X, y, sample_weight, **fit_params)\u001b[0m\n\u001b[1;32m    400\u001b[0m             \u001b[0mfit_params\u001b[0m\u001b[0;34m[\u001b[0m\u001b[0;34m\"sample_weight\"\u001b[0m\u001b[0;34m]\u001b[0m \u001b[0;34m=\u001b[0m \u001b[0msample_weight\u001b[0m\u001b[0;34m\u001b[0m\u001b[0;34m\u001b[0m\u001b[0m\n\u001b[1;32m    401\u001b[0m \u001b[0;34m\u001b[0m\u001b[0m\n\u001b[0;32m--> 402\u001b[0;31m         \u001b[0;32mreturn\u001b[0m \u001b[0mself\u001b[0m\u001b[0;34m.\u001b[0m\u001b[0m_fit\u001b[0m\u001b[0;34m(\u001b[0m\u001b[0mX\u001b[0m\u001b[0;34m,\u001b[0m \u001b[0my\u001b[0m\u001b[0;34m,\u001b[0m \u001b[0mmax_samples\u001b[0m\u001b[0;34m=\u001b[0m\u001b[0mself\u001b[0m\u001b[0;34m.\u001b[0m\u001b[0mmax_samples\u001b[0m\u001b[0;34m,\u001b[0m \u001b[0;34m**\u001b[0m\u001b[0mfit_params\u001b[0m\u001b[0;34m)\u001b[0m\u001b[0;34m\u001b[0m\u001b[0;34m\u001b[0m\u001b[0m\n\u001b[0m\u001b[1;32m    403\u001b[0m \u001b[0;34m\u001b[0m\u001b[0m\n\u001b[1;32m    404\u001b[0m     \u001b[0;32mdef\u001b[0m \u001b[0m_parallel_args\u001b[0m\u001b[0;34m(\u001b[0m\u001b[0mself\u001b[0m\u001b[0;34m)\u001b[0m\u001b[0;34m:\u001b[0m\u001b[0;34m\u001b[0m\u001b[0;34m\u001b[0m\u001b[0m\n",
            "\u001b[0;32m/usr/local/lib/python3.10/dist-packages/sklearn/ensemble/_bagging.py\u001b[0m in \u001b[0;36m_fit\u001b[0;34m(self, X, y, max_samples, max_depth, check_input, **fit_params)\u001b[0m\n\u001b[1;32m    543\u001b[0m         \u001b[0mself\u001b[0m\u001b[0;34m.\u001b[0m\u001b[0m_seeds\u001b[0m \u001b[0;34m=\u001b[0m \u001b[0mseeds\u001b[0m\u001b[0;34m\u001b[0m\u001b[0;34m\u001b[0m\u001b[0m\n\u001b[1;32m    544\u001b[0m \u001b[0;34m\u001b[0m\u001b[0m\n\u001b[0;32m--> 545\u001b[0;31m         all_results = Parallel(\n\u001b[0m\u001b[1;32m    546\u001b[0m             \u001b[0mn_jobs\u001b[0m\u001b[0;34m=\u001b[0m\u001b[0mn_jobs\u001b[0m\u001b[0;34m,\u001b[0m \u001b[0mverbose\u001b[0m\u001b[0;34m=\u001b[0m\u001b[0mself\u001b[0m\u001b[0;34m.\u001b[0m\u001b[0mverbose\u001b[0m\u001b[0;34m,\u001b[0m \u001b[0;34m**\u001b[0m\u001b[0mself\u001b[0m\u001b[0;34m.\u001b[0m\u001b[0m_parallel_args\u001b[0m\u001b[0;34m(\u001b[0m\u001b[0;34m)\u001b[0m\u001b[0;34m\u001b[0m\u001b[0;34m\u001b[0m\u001b[0m\n\u001b[1;32m    547\u001b[0m         \u001b[0;34m)\u001b[0m\u001b[0;34m(\u001b[0m\u001b[0;34m\u001b[0m\u001b[0;34m\u001b[0m\u001b[0m\n",
            "\u001b[0;32m/usr/local/lib/python3.10/dist-packages/sklearn/utils/parallel.py\u001b[0m in \u001b[0;36m__call__\u001b[0;34m(self, iterable)\u001b[0m\n\u001b[1;32m     72\u001b[0m             \u001b[0;32mfor\u001b[0m \u001b[0mdelayed_func\u001b[0m\u001b[0;34m,\u001b[0m \u001b[0margs\u001b[0m\u001b[0;34m,\u001b[0m \u001b[0mkwargs\u001b[0m \u001b[0;32min\u001b[0m \u001b[0miterable\u001b[0m\u001b[0;34m\u001b[0m\u001b[0;34m\u001b[0m\u001b[0m\n\u001b[1;32m     73\u001b[0m         )\n\u001b[0;32m---> 74\u001b[0;31m         \u001b[0;32mreturn\u001b[0m \u001b[0msuper\u001b[0m\u001b[0;34m(\u001b[0m\u001b[0;34m)\u001b[0m\u001b[0;34m.\u001b[0m\u001b[0m__call__\u001b[0m\u001b[0;34m(\u001b[0m\u001b[0miterable_with_config\u001b[0m\u001b[0;34m)\u001b[0m\u001b[0;34m\u001b[0m\u001b[0;34m\u001b[0m\u001b[0m\n\u001b[0m\u001b[1;32m     75\u001b[0m \u001b[0;34m\u001b[0m\u001b[0m\n\u001b[1;32m     76\u001b[0m \u001b[0;34m\u001b[0m\u001b[0m\n",
            "\u001b[0;32m/usr/local/lib/python3.10/dist-packages/joblib/parallel.py\u001b[0m in \u001b[0;36m__call__\u001b[0;34m(self, iterable)\u001b[0m\n\u001b[1;32m   1916\u001b[0m             \u001b[0moutput\u001b[0m \u001b[0;34m=\u001b[0m \u001b[0mself\u001b[0m\u001b[0;34m.\u001b[0m\u001b[0m_get_sequential_output\u001b[0m\u001b[0;34m(\u001b[0m\u001b[0miterable\u001b[0m\u001b[0;34m)\u001b[0m\u001b[0;34m\u001b[0m\u001b[0;34m\u001b[0m\u001b[0m\n\u001b[1;32m   1917\u001b[0m             \u001b[0mnext\u001b[0m\u001b[0;34m(\u001b[0m\u001b[0moutput\u001b[0m\u001b[0;34m)\u001b[0m\u001b[0;34m\u001b[0m\u001b[0;34m\u001b[0m\u001b[0m\n\u001b[0;32m-> 1918\u001b[0;31m             \u001b[0;32mreturn\u001b[0m \u001b[0moutput\u001b[0m \u001b[0;32mif\u001b[0m \u001b[0mself\u001b[0m\u001b[0;34m.\u001b[0m\u001b[0mreturn_generator\u001b[0m \u001b[0;32melse\u001b[0m \u001b[0mlist\u001b[0m\u001b[0;34m(\u001b[0m\u001b[0moutput\u001b[0m\u001b[0;34m)\u001b[0m\u001b[0;34m\u001b[0m\u001b[0;34m\u001b[0m\u001b[0m\n\u001b[0m\u001b[1;32m   1919\u001b[0m \u001b[0;34m\u001b[0m\u001b[0m\n\u001b[1;32m   1920\u001b[0m         \u001b[0;31m# Let's create an ID that uniquely identifies the current call. If the\u001b[0m\u001b[0;34m\u001b[0m\u001b[0;34m\u001b[0m\u001b[0m\n",
            "\u001b[0;32m/usr/local/lib/python3.10/dist-packages/joblib/parallel.py\u001b[0m in \u001b[0;36m_get_sequential_output\u001b[0;34m(self, iterable)\u001b[0m\n\u001b[1;32m   1845\u001b[0m                 \u001b[0mself\u001b[0m\u001b[0;34m.\u001b[0m\u001b[0mn_dispatched_batches\u001b[0m \u001b[0;34m+=\u001b[0m \u001b[0;36m1\u001b[0m\u001b[0;34m\u001b[0m\u001b[0;34m\u001b[0m\u001b[0m\n\u001b[1;32m   1846\u001b[0m                 \u001b[0mself\u001b[0m\u001b[0;34m.\u001b[0m\u001b[0mn_dispatched_tasks\u001b[0m \u001b[0;34m+=\u001b[0m \u001b[0;36m1\u001b[0m\u001b[0;34m\u001b[0m\u001b[0;34m\u001b[0m\u001b[0m\n\u001b[0;32m-> 1847\u001b[0;31m                 \u001b[0mres\u001b[0m \u001b[0;34m=\u001b[0m \u001b[0mfunc\u001b[0m\u001b[0;34m(\u001b[0m\u001b[0;34m*\u001b[0m\u001b[0margs\u001b[0m\u001b[0;34m,\u001b[0m \u001b[0;34m**\u001b[0m\u001b[0mkwargs\u001b[0m\u001b[0;34m)\u001b[0m\u001b[0;34m\u001b[0m\u001b[0;34m\u001b[0m\u001b[0m\n\u001b[0m\u001b[1;32m   1848\u001b[0m                 \u001b[0mself\u001b[0m\u001b[0;34m.\u001b[0m\u001b[0mn_completed_tasks\u001b[0m \u001b[0;34m+=\u001b[0m \u001b[0;36m1\u001b[0m\u001b[0;34m\u001b[0m\u001b[0;34m\u001b[0m\u001b[0m\n\u001b[1;32m   1849\u001b[0m                 \u001b[0mself\u001b[0m\u001b[0;34m.\u001b[0m\u001b[0mprint_progress\u001b[0m\u001b[0;34m(\u001b[0m\u001b[0;34m)\u001b[0m\u001b[0;34m\u001b[0m\u001b[0;34m\u001b[0m\u001b[0m\n",
            "\u001b[0;32m/usr/local/lib/python3.10/dist-packages/sklearn/utils/parallel.py\u001b[0m in \u001b[0;36m__call__\u001b[0;34m(self, *args, **kwargs)\u001b[0m\n\u001b[1;32m    134\u001b[0m             \u001b[0mconfig\u001b[0m \u001b[0;34m=\u001b[0m \u001b[0;34m{\u001b[0m\u001b[0;34m}\u001b[0m\u001b[0;34m\u001b[0m\u001b[0;34m\u001b[0m\u001b[0m\n\u001b[1;32m    135\u001b[0m         \u001b[0;32mwith\u001b[0m \u001b[0mconfig_context\u001b[0m\u001b[0;34m(\u001b[0m\u001b[0;34m**\u001b[0m\u001b[0mconfig\u001b[0m\u001b[0;34m)\u001b[0m\u001b[0;34m:\u001b[0m\u001b[0;34m\u001b[0m\u001b[0;34m\u001b[0m\u001b[0m\n\u001b[0;32m--> 136\u001b[0;31m             \u001b[0;32mreturn\u001b[0m \u001b[0mself\u001b[0m\u001b[0;34m.\u001b[0m\u001b[0mfunction\u001b[0m\u001b[0;34m(\u001b[0m\u001b[0;34m*\u001b[0m\u001b[0margs\u001b[0m\u001b[0;34m,\u001b[0m \u001b[0;34m**\u001b[0m\u001b[0mkwargs\u001b[0m\u001b[0;34m)\u001b[0m\u001b[0;34m\u001b[0m\u001b[0;34m\u001b[0m\u001b[0m\n\u001b[0m\u001b[1;32m    137\u001b[0m \u001b[0;34m\u001b[0m\u001b[0m\n\u001b[1;32m    138\u001b[0m \u001b[0;34m\u001b[0m\u001b[0m\n",
            "\u001b[0;32m/usr/local/lib/python3.10/dist-packages/sklearn/ensemble/_bagging.py\u001b[0m in \u001b[0;36m_parallel_build_estimators\u001b[0;34m(n_estimators, ensemble, X, y, seeds, total_n_estimators, verbose, check_input, fit_params)\u001b[0m\n\u001b[1;32m    185\u001b[0m             \u001b[0mfit_params_\u001b[0m\u001b[0;34m[\u001b[0m\u001b[0;34m\"sample_weight\"\u001b[0m\u001b[0;34m]\u001b[0m \u001b[0;34m=\u001b[0m \u001b[0mcurr_sample_weight\u001b[0m\u001b[0;34m\u001b[0m\u001b[0;34m\u001b[0m\u001b[0m\n\u001b[1;32m    186\u001b[0m             \u001b[0mX_\u001b[0m \u001b[0;34m=\u001b[0m \u001b[0mX\u001b[0m\u001b[0;34m[\u001b[0m\u001b[0;34m:\u001b[0m\u001b[0;34m,\u001b[0m \u001b[0mfeatures\u001b[0m\u001b[0;34m]\u001b[0m \u001b[0;32mif\u001b[0m \u001b[0mrequires_feature_indexing\u001b[0m \u001b[0;32melse\u001b[0m \u001b[0mX\u001b[0m\u001b[0;34m\u001b[0m\u001b[0;34m\u001b[0m\u001b[0m\n\u001b[0;32m--> 187\u001b[0;31m             \u001b[0mestimator_fit\u001b[0m\u001b[0;34m(\u001b[0m\u001b[0mX_\u001b[0m\u001b[0;34m,\u001b[0m \u001b[0my\u001b[0m\u001b[0;34m,\u001b[0m \u001b[0;34m**\u001b[0m\u001b[0mfit_params_\u001b[0m\u001b[0;34m)\u001b[0m\u001b[0;34m\u001b[0m\u001b[0;34m\u001b[0m\u001b[0m\n\u001b[0m\u001b[1;32m    188\u001b[0m         \u001b[0;32melse\u001b[0m\u001b[0;34m:\u001b[0m\u001b[0;34m\u001b[0m\u001b[0;34m\u001b[0m\u001b[0m\n\u001b[1;32m    189\u001b[0m             \u001b[0;31m# cannot use sample_weight, so use indexing\u001b[0m\u001b[0;34m\u001b[0m\u001b[0;34m\u001b[0m\u001b[0m\n",
            "\u001b[0;32m/usr/local/lib/python3.10/dist-packages/sklearn/base.py\u001b[0m in \u001b[0;36mwrapper\u001b[0;34m(estimator, *args, **kwargs)\u001b[0m\n\u001b[1;32m   1471\u001b[0m                 )\n\u001b[1;32m   1472\u001b[0m             ):\n\u001b[0;32m-> 1473\u001b[0;31m                 \u001b[0;32mreturn\u001b[0m \u001b[0mfit_method\u001b[0m\u001b[0;34m(\u001b[0m\u001b[0mestimator\u001b[0m\u001b[0;34m,\u001b[0m \u001b[0;34m*\u001b[0m\u001b[0margs\u001b[0m\u001b[0;34m,\u001b[0m \u001b[0;34m**\u001b[0m\u001b[0mkwargs\u001b[0m\u001b[0;34m)\u001b[0m\u001b[0;34m\u001b[0m\u001b[0;34m\u001b[0m\u001b[0m\n\u001b[0m\u001b[1;32m   1474\u001b[0m \u001b[0;34m\u001b[0m\u001b[0m\n\u001b[1;32m   1475\u001b[0m         \u001b[0;32mreturn\u001b[0m \u001b[0mwrapper\u001b[0m\u001b[0;34m\u001b[0m\u001b[0;34m\u001b[0m\u001b[0m\n",
            "\u001b[0;32m/usr/local/lib/python3.10/dist-packages/sklearn/tree/_classes.py\u001b[0m in \u001b[0;36mfit\u001b[0;34m(self, X, y, sample_weight, check_input)\u001b[0m\n\u001b[1;32m   1375\u001b[0m         \"\"\"\n\u001b[1;32m   1376\u001b[0m \u001b[0;34m\u001b[0m\u001b[0m\n\u001b[0;32m-> 1377\u001b[0;31m         super()._fit(\n\u001b[0m\u001b[1;32m   1378\u001b[0m             \u001b[0mX\u001b[0m\u001b[0;34m,\u001b[0m\u001b[0;34m\u001b[0m\u001b[0;34m\u001b[0m\u001b[0m\n\u001b[1;32m   1379\u001b[0m             \u001b[0my\u001b[0m\u001b[0;34m,\u001b[0m\u001b[0;34m\u001b[0m\u001b[0;34m\u001b[0m\u001b[0m\n",
            "\u001b[0;32m/usr/local/lib/python3.10/dist-packages/sklearn/tree/_classes.py\u001b[0m in \u001b[0;36m_fit\u001b[0;34m(self, X, y, sample_weight, check_input, missing_values_in_feature_mask)\u001b[0m\n\u001b[1;32m    470\u001b[0m             )\n\u001b[1;32m    471\u001b[0m \u001b[0;34m\u001b[0m\u001b[0m\n\u001b[0;32m--> 472\u001b[0;31m         \u001b[0mbuilder\u001b[0m\u001b[0;34m.\u001b[0m\u001b[0mbuild\u001b[0m\u001b[0;34m(\u001b[0m\u001b[0mself\u001b[0m\u001b[0;34m.\u001b[0m\u001b[0mtree_\u001b[0m\u001b[0;34m,\u001b[0m \u001b[0mX\u001b[0m\u001b[0;34m,\u001b[0m \u001b[0my\u001b[0m\u001b[0;34m,\u001b[0m \u001b[0msample_weight\u001b[0m\u001b[0;34m,\u001b[0m \u001b[0mmissing_values_in_feature_mask\u001b[0m\u001b[0;34m)\u001b[0m\u001b[0;34m\u001b[0m\u001b[0;34m\u001b[0m\u001b[0m\n\u001b[0m\u001b[1;32m    473\u001b[0m \u001b[0;34m\u001b[0m\u001b[0m\n\u001b[1;32m    474\u001b[0m         \u001b[0;32mif\u001b[0m \u001b[0mself\u001b[0m\u001b[0;34m.\u001b[0m\u001b[0mn_outputs_\u001b[0m \u001b[0;34m==\u001b[0m \u001b[0;36m1\u001b[0m \u001b[0;32mand\u001b[0m \u001b[0mis_classifier\u001b[0m\u001b[0;34m(\u001b[0m\u001b[0mself\u001b[0m\u001b[0;34m)\u001b[0m\u001b[0;34m:\u001b[0m\u001b[0;34m\u001b[0m\u001b[0;34m\u001b[0m\u001b[0m\n",
            "\u001b[0;31mKeyboardInterrupt\u001b[0m: "
          ]
        }
      ]
    },
    {
      "cell_type": "markdown",
      "source": [],
      "metadata": {
        "id": "FOAi26HskbVw"
      }
    },
    {
      "cell_type": "markdown",
      "source": [
        "### Boosting"
      ],
      "metadata": {
        "id": "gUBCCv3jIBYc"
      }
    },
    {
      "cell_type": "markdown",
      "source": [
        "**Do CV for both models and submit the predictions to see which splitting method is better**"
      ],
      "metadata": {
        "id": "EraPHv_o12JZ"
      }
    },
    {
      "cell_type": "code",
      "source": [
        "gb = GradientBoostingRegressor(loss='absolute_error', learning_rate=0.1, n_estimators=2000)\n",
        "gb.fit(X_train, y_train)\n",
        "mean_absolute_error(y_val, gb.predict(X_val))"
      ],
      "metadata": {
        "colab": {
          "base_uri": "https://localhost:8080/"
        },
        "id": "-uWa663nJsY4",
        "outputId": "5c99f07c-380b-4fd3-9105-d088e801a04d"
      },
      "execution_count": 25,
      "outputs": [
        {
          "output_type": "execute_result",
          "data": {
            "text/plain": [
              "38.512249975269384"
            ]
          },
          "metadata": {},
          "execution_count": 25
        }
      ]
    },
    {
      "cell_type": "code",
      "source": [
        "gb = GradientBoostingRegressor(loss='absolute_error')\n",
        "param_grid = {\n",
        "    'learning_rate': [0.001, 0.01, 0.05, 0.1, 0.2, 0.5, 1],\n",
        "    'n_estimators': [500, 1000, 1500, 2000, 2500],\n",
        "    'max_depth': [1, 2, 3, 4, 5]\n",
        "    }\n",
        "gbCV = GridSearchCV(estimator=gb, param_grid=param_grid, scoring=\"neg_mean_absolute_error\", cv=5)\n",
        "gbCV.fit(X_train, y_train)\n",
        "\n",
        "print(\"Best Parameters:\", gbCV.best_params_)\n",
        "print(\"Best CV Score (MAE):\", -gbCV.best_score_)"
      ],
      "metadata": {
        "id": "WVNYP-2g5tOt"
      },
      "execution_count": null,
      "outputs": []
    },
    {
      "cell_type": "code",
      "source": [
        "gb_best = gbCV.best_estimator_ # 0.3, 1500\n",
        "mean_absolute_error(y_val, gb_best.predict(X_val))"
      ],
      "metadata": {
        "colab": {
          "base_uri": "https://localhost:8080/"
        },
        "id": "P6x5tx1Q8r9O",
        "outputId": "cdc04259-06fa-46a8-95a6-6142cbab0775"
      },
      "execution_count": null,
      "outputs": [
        {
          "output_type": "execute_result",
          "data": {
            "text/plain": [
              "34.6402399295809"
            ]
          },
          "metadata": {},
          "execution_count": 38
        }
      ]
    },
    {
      "cell_type": "code",
      "source": [
        "# One standard error rule (Not meaningful for the limited grid actually...)\n",
        "test_MAEs = -gbCV.cv_results_[\"mean_test_score\"]\n",
        "std_test_MAEs = gbCV.cv_results_[\"std_test_score\"] / np.sqrt(gbCV.n_splits_)\n",
        "index_best = np.argmin(test_MAEs)\n",
        "indices_within_one_std = np.where(test_MAEs <= test_MAEs[index_best] + std_test_MAEs[index_best])[0]\n",
        "index_simplest = indices_within_one_std[np.argmin(gbCV.cv_results_[\"param_n_estimators\"][i] for i in indices_within_one_std)]\n",
        "one_std_rule_best = {\n",
        "    \"learning_rate\": gbCV.cv_results_[\"param_learning_rate\"][index_simplest],\n",
        "    \"n_estimators\": gbCV.cv_results_[\"param_n_estimators\"][index_simplest]\n",
        "}\n",
        "one_std_rule_best"
      ],
      "metadata": {
        "colab": {
          "base_uri": "https://localhost:8080/"
        },
        "id": "2xZQZPz9EaoK",
        "outputId": "956ae34d-a4c7-4943-f404-fb414c444256"
      },
      "execution_count": null,
      "outputs": [
        {
          "output_type": "execute_result",
          "data": {
            "text/plain": [
              "{'learning_rate': 0.3, 'n_estimators': 1500}"
            ]
          },
          "metadata": {},
          "execution_count": 45
        }
      ]
    },
    {
      "cell_type": "code",
      "source": [
        "# with 80% earliest data\n",
        "gb.fit(X_train2, y_train2)\n",
        "mean_absolute_error(y_val2, gb.predict(X_val2))"
      ],
      "metadata": {
        "colab": {
          "base_uri": "https://localhost:8080/"
        },
        "id": "C_QMdG7pwYRt",
        "outputId": "4f735f73-8204-4f59-f054-3be417bd85a1"
      },
      "execution_count": null,
      "outputs": [
        {
          "output_type": "execute_result",
          "data": {
            "text/plain": [
              "84.08315390200563"
            ]
          },
          "metadata": {},
          "execution_count": 35
        }
      ]
    },
    {
      "cell_type": "code",
      "source": [
        "gb = GradientBoostingRegressor(loss='absolute_error')\n",
        "param_grid = {\n",
        "    'learning_rate': [0.01, 0.05, 0.1, 0.2, 0.3],\n",
        "    'n_estimators': [500, 1000, 1500, 2000, 2500]\n",
        "    }\n",
        "gbCV = GridSearchCV(estimator=gb, param_grid=param_grid, scoring=\"neg_mean_absolute_error\", cv=5)\n",
        "gbCV.fit(X_train, y_train)\n",
        "\n",
        "print(\"Best Parameters:\", gbCV.best_params_)\n",
        "print(\"Best CV Score (MAE):\", -gbCV.best_score_)"
      ],
      "metadata": {
        "id": "MSE73vTbCp5l"
      },
      "execution_count": null,
      "outputs": []
    },
    {
      "cell_type": "markdown",
      "metadata": {
        "id": "Jtelf9xlaq3d"
      },
      "source": [
        "## Neural Networks"
      ]
    },
    {
      "cell_type": "code",
      "execution_count": null,
      "metadata": {
        "id": "uTezkaACaqVv"
      },
      "outputs": [],
      "source": [
        "from sklearn.neural_network import MLPRegressor\n",
        "mlp = MLPRegressor(hidden_layer_sizes=(200, 200, 200, 100, 100, ))\n",
        "mlp.fit(X_train, y_train)\n",
        "mean_absolute_error(y_train, mlp.predict(X_train)), mean_absolute_error(y_val, mlp.predict(X_val))"
      ]
    },
    {
      "cell_type": "markdown",
      "metadata": {
        "id": "w9_KVrxXSNlB"
      },
      "source": [
        "# Conclusion"
      ]
    },
    {
      "cell_type": "code",
      "execution_count": null,
      "metadata": {
        "id": "GBte2XuWYJ5j"
      },
      "outputs": [],
      "source": []
    }
  ],
  "metadata": {
    "colab": {
      "provenance": [],
      "toc_visible": true,
      "include_colab_link": true
    },
    "kernelspec": {
      "display_name": "Python 3",
      "name": "python3"
    },
    "language_info": {
      "name": "python"
    }
  },
  "nbformat": 4,
  "nbformat_minor": 0
}